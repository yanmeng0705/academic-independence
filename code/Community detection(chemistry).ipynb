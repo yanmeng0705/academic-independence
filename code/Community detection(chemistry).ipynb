{
 "cells": [
  {
   "cell_type": "code",
   "execution_count": 15,
   "id": "c9c578d4-c8b5-4896-9931-ad953b7c4f50",
   "metadata": {
    "tags": []
   },
   "outputs": [],
   "source": [
    "n0 = 14800\n",
    "n1 = n0 + 243"
   ]
  },
  {
   "cell_type": "code",
   "execution_count": 1,
   "id": "9fc57c7d-d16a-41c2-a5ec-706037519689",
   "metadata": {
    "tags": []
   },
   "outputs": [],
   "source": [
    "import pandas as pd\n",
    "import os\n",
    "import numpy as np\n",
    "import networkx as nx"
   ]
  },
  {
   "cell_type": "markdown",
   "id": "748f3d6c-9068-4739-be0b-bee8fa967ab7",
   "metadata": {},
   "source": [
    "##### import data"
   ]
  },
  {
   "cell_type": "code",
   "execution_count": 21,
   "id": "1cbc2b15-728e-4178-9c8e-d038ccc95c5f",
   "metadata": {
    "scrolled": true,
    "tags": []
   },
   "outputs": [],
   "source": [
    "authorship = pd.read_csv('/Users/yanmemgxing/Nutstore Files/Nutstore/Chemistry/author_paper_year.csv')\n",
    "paper_reference = pd.read_csv(f'/Users/yanmemgxing/Nutstore Files/Nutstore/Chemistry/paper_reference_20.csv')\n",
    "paper_auCount = pd.read_csv(f'/Users/yanmemgxing/Nutstore Files/Nutstore/Chemistry/paper_auCount.csv')"
   ]
  },
  {
   "cell_type": "code",
   "execution_count": 10,
   "id": "6fd0ada9-9718-471a-b0f2-5839c9e8fc4d",
   "metadata": {
    "tags": []
   },
   "outputs": [],
   "source": [
    "author_id_info = pd.read_csv('author_id_info.csv')\n",
    "neuro = pd.read_csv('chemistry.csv')"
   ]
  },
  {
   "cell_type": "code",
   "execution_count": 11,
   "id": "f4b89a18-e32e-4c76-a1e2-f1a39aba34f4",
   "metadata": {
    "tags": []
   },
   "outputs": [],
   "source": [
    "author_id_info_mte = author_id_info.rename(columns={'AFTAuthorID':'MenteeID','author_id':'mentee_id','careerlen':'mentee_careerlen',\n",
    "                                                    'pubsnum':'mentee_pubsnum'})\n",
    "neuro = neuro.merge(author_id_info_mte,on='MenteeID',how='left')\n",
    "\n",
    "\n",
    "author_id_info_mto = author_id_info.rename(columns={'AFTAuthorID':'MentorID','author_id':'mentor_id','careerlen':'mentor_careerlen',\n",
    "                                                    'pubsnum':'mentor_pubsnum'})\n",
    "neuro = neuro.merge(author_id_info_mto,on='MentorID',how='left')"
   ]
  },
  {
   "cell_type": "code",
   "execution_count": 12,
   "id": "39cfe449-9a69-4809-8248-f004d2a4497c",
   "metadata": {
    "tags": []
   },
   "outputs": [
    {
     "data": {
      "text/html": [
       "<div>\n",
       "<style scoped>\n",
       "    .dataframe tbody tr th:only-of-type {\n",
       "        vertical-align: middle;\n",
       "    }\n",
       "\n",
       "    .dataframe tbody tr th {\n",
       "        vertical-align: top;\n",
       "    }\n",
       "\n",
       "    .dataframe thead th {\n",
       "        text-align: right;\n",
       "    }\n",
       "</style>\n",
       "<table border=\"1\" class=\"dataframe\">\n",
       "  <thead>\n",
       "    <tr style=\"text-align: right;\">\n",
       "      <th></th>\n",
       "      <th>Unnamed: 0</th>\n",
       "      <th>CID</th>\n",
       "      <th>MenteeID</th>\n",
       "      <th>MentorID</th>\n",
       "      <th>MentorshipType</th>\n",
       "      <th>Institution</th>\n",
       "      <th>InstitutionMAGID</th>\n",
       "      <th>StartYear</th>\n",
       "      <th>StopYear</th>\n",
       "      <th>MAGAuthorID_x</th>\n",
       "      <th>mentee_id</th>\n",
       "      <th>mentee_careerlen</th>\n",
       "      <th>mentee_pubsnum</th>\n",
       "      <th>MAGAuthorID_y</th>\n",
       "      <th>mentor_id</th>\n",
       "      <th>mentor_careerlen</th>\n",
       "      <th>mentor_pubsnum</th>\n",
       "    </tr>\n",
       "  </thead>\n",
       "  <tbody>\n",
       "    <tr>\n",
       "      <th>0</th>\n",
       "      <td>3</td>\n",
       "      <td>6</td>\n",
       "      <td>18761</td>\n",
       "      <td>9</td>\n",
       "      <td>1</td>\n",
       "      <td>University of California, Berkeley</td>\n",
       "      <td>95457486.0</td>\n",
       "      <td>-1</td>\n",
       "      <td>1984</td>\n",
       "      <td>2.809701e+09</td>\n",
       "      <td>A2809701389</td>\n",
       "      <td>37.0</td>\n",
       "      <td>278.0</td>\n",
       "      <td>2.952982e+09</td>\n",
       "      <td>A2952981685</td>\n",
       "      <td>46.0</td>\n",
       "      <td>92.0</td>\n",
       "    </tr>\n",
       "    <tr>\n",
       "      <th>1</th>\n",
       "      <td>117</td>\n",
       "      <td>130</td>\n",
       "      <td>53604</td>\n",
       "      <td>33687</td>\n",
       "      <td>1</td>\n",
       "      <td>Utrecht University</td>\n",
       "      <td>193662353.0</td>\n",
       "      <td>-1</td>\n",
       "      <td>1997</td>\n",
       "      <td>1.874842e+09</td>\n",
       "      <td>A1874842480</td>\n",
       "      <td>27.0</td>\n",
       "      <td>109.0</td>\n",
       "      <td>NaN</td>\n",
       "      <td>NaN</td>\n",
       "      <td>NaN</td>\n",
       "      <td>NaN</td>\n",
       "    </tr>\n",
       "    <tr>\n",
       "      <th>2</th>\n",
       "      <td>137</td>\n",
       "      <td>151</td>\n",
       "      <td>20</td>\n",
       "      <td>24</td>\n",
       "      <td>2</td>\n",
       "      <td>Baylor College of Medicine</td>\n",
       "      <td>181547552.0</td>\n",
       "      <td>-1</td>\n",
       "      <td>-1</td>\n",
       "      <td>2.169128e+09</td>\n",
       "      <td>A2169128453</td>\n",
       "      <td>37.0</td>\n",
       "      <td>70.0</td>\n",
       "      <td>2.225823e+09</td>\n",
       "      <td>A2225823178</td>\n",
       "      <td>43.0</td>\n",
       "      <td>161.0</td>\n",
       "    </tr>\n",
       "    <tr>\n",
       "      <th>3</th>\n",
       "      <td>147</td>\n",
       "      <td>161</td>\n",
       "      <td>12561</td>\n",
       "      <td>52639</td>\n",
       "      <td>1</td>\n",
       "      <td>University of Washington, Seattle</td>\n",
       "      <td>201448701.0</td>\n",
       "      <td>1967</td>\n",
       "      <td>1971</td>\n",
       "      <td>2.307650e+09</td>\n",
       "      <td>A2307649786</td>\n",
       "      <td>39.0</td>\n",
       "      <td>131.0</td>\n",
       "      <td>2.619948e+09</td>\n",
       "      <td>A2619947921</td>\n",
       "      <td>18.0</td>\n",
       "      <td>18.0</td>\n",
       "    </tr>\n",
       "    <tr>\n",
       "      <th>4</th>\n",
       "      <td>190</td>\n",
       "      <td>212</td>\n",
       "      <td>188</td>\n",
       "      <td>189</td>\n",
       "      <td>1</td>\n",
       "      <td>Harvard University</td>\n",
       "      <td>136199984.0</td>\n",
       "      <td>-1</td>\n",
       "      <td>1927</td>\n",
       "      <td>2.039886e+09</td>\n",
       "      <td>A2039885679</td>\n",
       "      <td>46.0</td>\n",
       "      <td>18.0</td>\n",
       "      <td>2.152986e+09</td>\n",
       "      <td>A2152986058</td>\n",
       "      <td>116.0</td>\n",
       "      <td>43.0</td>\n",
       "    </tr>\n",
       "  </tbody>\n",
       "</table>\n",
       "</div>"
      ],
      "text/plain": [
       "   Unnamed: 0  CID  MenteeID  MentorID  MentorshipType  \\\n",
       "0           3    6     18761         9               1   \n",
       "1         117  130     53604     33687               1   \n",
       "2         137  151        20        24               2   \n",
       "3         147  161     12561     52639               1   \n",
       "4         190  212       188       189               1   \n",
       "\n",
       "                          Institution  InstitutionMAGID  StartYear  StopYear  \\\n",
       "0  University of California, Berkeley        95457486.0         -1      1984   \n",
       "1                  Utrecht University       193662353.0         -1      1997   \n",
       "2          Baylor College of Medicine       181547552.0         -1        -1   \n",
       "3   University of Washington, Seattle       201448701.0       1967      1971   \n",
       "4                  Harvard University       136199984.0         -1      1927   \n",
       "\n",
       "   MAGAuthorID_x    mentee_id  mentee_careerlen  mentee_pubsnum  \\\n",
       "0   2.809701e+09  A2809701389              37.0           278.0   \n",
       "1   1.874842e+09  A1874842480              27.0           109.0   \n",
       "2   2.169128e+09  A2169128453              37.0            70.0   \n",
       "3   2.307650e+09  A2307649786              39.0           131.0   \n",
       "4   2.039886e+09  A2039885679              46.0            18.0   \n",
       "\n",
       "   MAGAuthorID_y    mentor_id  mentor_careerlen  mentor_pubsnum  \n",
       "0   2.952982e+09  A2952981685              46.0            92.0  \n",
       "1            NaN          NaN               NaN             NaN  \n",
       "2   2.225823e+09  A2225823178              43.0           161.0  \n",
       "3   2.619948e+09  A2619947921              18.0            18.0  \n",
       "4   2.152986e+09  A2152986058             116.0            43.0  "
      ]
     },
     "execution_count": 12,
     "metadata": {},
     "output_type": "execute_result"
    }
   ],
   "source": [
    "neuro.head(5)"
   ]
  },
  {
   "cell_type": "code",
   "execution_count": 13,
   "id": "ced70906-b5b6-47f1-9f8a-f402d20b6333",
   "metadata": {
    "scrolled": true,
    "tags": []
   },
   "outputs": [],
   "source": [
    "neuro = neuro[(neuro.mentee_pubsnum>=20)&(neuro.mentor_pubsnum>=20)]"
   ]
  },
  {
   "cell_type": "code",
   "execution_count": 14,
   "id": "83c2d138-f283-4675-9c29-d722682761e9",
   "metadata": {
    "tags": []
   },
   "outputs": [
    {
     "data": {
      "text/plain": [
       "51113"
      ]
     },
     "execution_count": 14,
     "metadata": {},
     "output_type": "execute_result"
    }
   ],
   "source": [
    "len(neuro)"
   ]
  },
  {
   "cell_type": "code",
   "execution_count": 37,
   "id": "7bc1c38d-e5ae-46d3-a795-70b8b34ca1ee",
   "metadata": {
    "tags": []
   },
   "outputs": [
    {
     "data": {
      "text/plain": [
       "56234220"
      ]
     },
     "execution_count": 37,
     "metadata": {},
     "output_type": "execute_result"
    }
   ],
   "source": [
    "len(paper_reference)"
   ]
  },
  {
   "cell_type": "code",
   "execution_count": 12,
   "id": "8e1099c8-0eec-47c8-8a20-6ad833ce6e60",
   "metadata": {
    "tags": []
   },
   "outputs": [],
   "source": [
    "savepath = f'/Users/yanmemgxing/Nutstore Files/Nutstore/Neuro/Community/' "
   ]
  },
  {
   "cell_type": "code",
   "execution_count": 13,
   "id": "08300ae2-ee2d-492a-8de3-538969888328",
   "metadata": {
    "tags": []
   },
   "outputs": [],
   "source": [
    "def network_community(mte_case,mto_case,authorship,paper_reference,paper_auCount,savepath):\n",
    "    Pe = list(authorship['work_id'][authorship.author_id==mte_case].drop_duplicates())\n",
    "    Po = list(authorship['work_id'][authorship.author_id==mto_case].drop_duplicates())\n",
    "    Pe_Po = list(set(Pe)&set(Po))\n",
    "\n",
    "    # print('len(Pe):',len(Pe))\n",
    "    # print('len(Po):',len(Po))\n",
    "\n",
    "    # node_list\n",
    "    Pe_df = pd.DataFrame(Pe,columns=['Id'])\n",
    "    Pe_df['Label'] = 'e'\n",
    "\n",
    "    Po_df = pd.DataFrame(Po,columns=['Id'])\n",
    "    Po_df['Label'] = 'o'\n",
    "\n",
    "    node_list = pd.concat((Pe_df,Po_df)).reset_index().drop(columns=['index'])\n",
    "\n",
    "    index_common = list(node_list[node_list.Id.isin(Pe_Po)].index)\n",
    "    node_list.loc[index_common,'Label'] = 'e&o'\n",
    "    node_list = node_list.drop_duplicates()\n",
    "\n",
    "    # edge_list\n",
    "    C = paper_reference[['work_id','referenced_work_id']][paper_reference.referenced_work_id.isin(node_list.Id)]\n",
    "    C_copy = C.copy()\n",
    "    C_cocited = C.merge(C_copy,on='work_id',how='left')\n",
    "    C_cocited = C_cocited[['referenced_work_id_x','referenced_work_id_y']][(~C_cocited.referenced_work_id_x.isnull())\n",
    "                                       &(~C_cocited.referenced_work_id_y.isnull())\n",
    "                                      &(C_cocited.referenced_work_id_x<C_cocited.referenced_work_id_y)]\n",
    "    edge_list = C_cocited.groupby(['referenced_work_id_x','referenced_work_id_y']).size().reset_index(name='Weight')\n",
    "    edge_list = edge_list.rename(columns={'referenced_work_id_x':'Source','referenced_work_id_y':'Target'})\n",
    "    \n",
    "    # save edge_list\n",
    "    newpath = f'{savepath}{mte_case}_{mto_case}/'\n",
    "    if not os.path.exists(newpath):\n",
    "        os.makedirs(newpath)\n",
    "\n",
    "    #save file\n",
    "    edge_list.to_csv(newpath+'edge_list.csv',index=0)\n",
    "    \n",
    "    # create network\n",
    "    G = nx.Graph()\n",
    "    G.add_nodes_from(node_list.Id.tolist())\n",
    "    G.add_weighted_edges_from(edge_list.values.tolist())\n",
    "    try:\n",
    "        communities = nx.community.greedy_modularity_communities(G,weight='weight',resolution=0.8)\n",
    "        competition_communities = []\n",
    "        community_n = 0\n",
    "        # community_label = []\n",
    "        for k in communities:\n",
    "            k_nodes = list(k)\n",
    "            # add community columns\n",
    "            index_community = list(node_list[node_list.Id.isin(k_nodes)].index)\n",
    "            node_list.loc[index_community,'Community'] = community_n            # add community label to node_list\n",
    "\n",
    "            # print(len(k_nodes))\n",
    "            k_pe = [node for node in k_nodes if node in Pe]\n",
    "            k_po = [node for node in k_nodes if node in Po]\n",
    "            e,o = len(k_pe)/len(k_nodes),len(k_po)/len(k_nodes)\n",
    "            # print(community_n,len(k_nodes),e,o)\n",
    "            if len(k_nodes)>=10:    #e>=0.15 and o>=0.15 and \n",
    "                competition_communities.append((community_n,k_nodes))\n",
    "                # print(community_n,len(k_nodes),e,o)\n",
    "\n",
    "            community_n+=1\n",
    "\n",
    "        #save node_list\n",
    "        node_list.to_csv(newpath+'node_list.csv',index=0) \n",
    "    except:\n",
    "        competition_communities = []\n",
    "        \n",
    "        #save node_list\n",
    "        node_list.to_csv(newpath+'node_list.csv',index=0)\n",
    "    \n",
    "    \n",
    "    \n",
    "    if len(competition_communities)>0:\n",
    "        for community_k in competition_communities:\n",
    "            topic_i = community_k[0]\n",
    "            community_i = community_k[1]\n",
    "            cc = community_i\n",
    "            Citation_cc = paper_reference[['work_id','referenced_work_id']][paper_reference.referenced_work_id.isin(cc)]\n",
    "            Citing_set = Citation_cc.groupby('work_id').size().reset_index(name='Count')\n",
    "            Cociting_set = Citing_set['work_id'][Citing_set.Count>1]\n",
    "            Cited_weight = Citation_cc[Citation_cc.work_id.isin(Cociting_set)].groupby('referenced_work_id').size().reset_index(name='Weight').rename(columns={'referenced_work_id':'work_id'})\n",
    "            CS = Cited_weight.merge(paper_auCount, how='left', on='work_id')\n",
    "            CS['weight_frac_credit'] = CS.Weight/CS.author_counts\n",
    "            node_list = node_list.rename(columns={'Id':'work_id'})\n",
    "            CS = CS.merge(node_list, how='left', on='work_id')\n",
    "            CS = CS.merge(authorship[['work_id','publication_year']], how='left', on='work_id').drop_duplicates().sort_values(by='publication_year')\n",
    "            # Credit_mentee = sum(CS.weight_frac_credit[(CS.Label=='e')|(CS.Label=='e&o')])\n",
    "            # Credit_mentor = sum(CS.weight_frac_credit[(CS.Label=='o')|(CS.Label=='e&o')])\n",
    "            k_pe = [node for node in cc if node in Pe]\n",
    "            k_po = [node for node in cc if node in Po]\n",
    "            e,o = len(k_pe)/len(cc),len(k_po)/len(cc)\n",
    "            \n",
    "            #save community and credit : topic_i,  e, o\n",
    "            newpath = f'{savepath}{mte_case}_{mto_case}/topic/'\n",
    "            if not os.path.exists(newpath):\n",
    "                os.makedirs(newpath)\n",
    "                \n",
    "            CS.to_csv(f'{newpath}{topic_i}_{e}_{o}.csv',index=0)\n",
    "            \n",
    "    else:\n",
    "        a = 'nt'\n",
    "    \n",
    "    return print('saved successfully')"
   ]
  },
  {
   "cell_type": "code",
   "execution_count": null,
   "id": "150d27dc-136f-4ea6-b951-b024a4571db5",
   "metadata": {
    "scrolled": true,
    "tags": []
   },
   "outputs": [
    {
     "name": "stdout",
     "output_type": "stream",
     "text": [
      "saved successfully\n",
      "saved successfully\n",
      "saved successfully\n",
      "saved successfully\n",
      "saved successfully\n",
      "saved successfully\n",
      "saved successfully\n",
      "saved successfully\n"
     ]
    }
   ],
   "source": [
    "mte_mto = neuro[['mentee_id','mentor_id']].values.tolist()\n",
    "count = 0\n",
    "# n0=0\n",
    "# n1=15\n",
    "for k in mte_mto[n0:n1]:\n",
    "    mte_case = k[0]\n",
    "    mto_case = k[1]\n",
    "    network_community(mte_case,mto_case,authorship,paper_reference,paper_auCount,savepath)\n",
    "    count+=1\n",
    "    if count%10==0:\n",
    "        print(count)"
   ]
  },
  {
   "cell_type": "code",
   "execution_count": null,
   "id": "4c48089b-266a-459f-a559-8a1ec67abeb3",
   "metadata": {},
   "outputs": [],
   "source": []
  }
 ],
 "metadata": {
  "kernelspec": {
   "display_name": "myenv",
   "language": "python",
   "name": "myenv"
  },
  "language_info": {
   "codemirror_mode": {
    "name": "ipython",
    "version": 3
   },
   "file_extension": ".py",
   "mimetype": "text/x-python",
   "name": "python",
   "nbconvert_exporter": "python",
   "pygments_lexer": "ipython3",
   "version": "3.11.4"
  }
 },
 "nbformat": 4,
 "nbformat_minor": 5
}
