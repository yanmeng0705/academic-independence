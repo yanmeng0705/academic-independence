{
 "cells": [
  {
   "cell_type": "code",
   "execution_count": 1,
   "id": "d67620f8-a80b-456c-bae4-73a938c5944f",
   "metadata": {
    "tags": []
   },
   "outputs": [],
   "source": [
    "import pandas as pd\n",
    "import numpy as np\n",
    "from scipy import stats"
   ]
  },
  {
   "cell_type": "code",
   "execution_count": 2,
   "id": "6c62a5c5-a0ec-4bb3-8960-6c2bf8b36865",
   "metadata": {
    "tags": []
   },
   "outputs": [],
   "source": [
    "from matplotlib.pyplot import MultipleLocator\n",
    "import matplotlib.pyplot as plt\n",
    "import seaborn as sns  #画密度图\n",
    "from matplotlib.ticker import MaxNLocator, FuncFormatter, MultipleLocator\n",
    "import matplotlib.ticker as ticker\n",
    "import palettable #python颜色库"
   ]
  },
  {
   "cell_type": "code",
   "execution_count": 3,
   "id": "526495ba-2191-4ca6-8ee0-c06b184d06a6",
   "metadata": {
    "tags": []
   },
   "outputs": [],
   "source": [
    "type_colors = {'all':'k','main':'#fc8d62','asso':'#66c2a5','new':'grey'}"
   ]
  },
  {
   "cell_type": "code",
   "execution_count": 4,
   "id": "61b5937f-294d-4fb0-9679-799ba7c61725",
   "metadata": {
    "tags": []
   },
   "outputs": [],
   "source": [
    "key_data = pd.read_csv('Key_Data.csv')"
   ]
  },
  {
   "cell_type": "code",
   "execution_count": 5,
   "id": "3697f226-8d1f-431c-8307-be01981ac9d3",
   "metadata": {
    "tags": []
   },
   "outputs": [
    {
     "data": {
      "text/html": [
       "<div>\n",
       "<style scoped>\n",
       "    .dataframe tbody tr th:only-of-type {\n",
       "        vertical-align: middle;\n",
       "    }\n",
       "\n",
       "    .dataframe tbody tr th {\n",
       "        vertical-align: top;\n",
       "    }\n",
       "\n",
       "    .dataframe thead th {\n",
       "        text-align: right;\n",
       "    }\n",
       "</style>\n",
       "<table border=\"1\" class=\"dataframe\">\n",
       "  <thead>\n",
       "    <tr style=\"text-align: right;\">\n",
       "      <th></th>\n",
       "      <th>index_i</th>\n",
       "      <th>mentee_id</th>\n",
       "      <th>mentor_id</th>\n",
       "      <th>community</th>\n",
       "      <th>paper_num_mte</th>\n",
       "      <th>paper_num_mto</th>\n",
       "      <th>paper_ratio_mte</th>\n",
       "      <th>paper_ratio_mto</th>\n",
       "      <th>credit_mte</th>\n",
       "      <th>credit_mto</th>\n",
       "      <th>...</th>\n",
       "      <th>total_cits_mte</th>\n",
       "      <th>total_cits_mto</th>\n",
       "      <th>total_cits5_mte</th>\n",
       "      <th>total_cits5_mto</th>\n",
       "      <th>cits_mte</th>\n",
       "      <th>cits_mto</th>\n",
       "      <th>cits5_mte</th>\n",
       "      <th>cits5_mto</th>\n",
       "      <th>birthYear_mte</th>\n",
       "      <th>birthYear_mto</th>\n",
       "    </tr>\n",
       "  </thead>\n",
       "  <tbody>\n",
       "    <tr>\n",
       "      <th>0</th>\n",
       "      <td>0</td>\n",
       "      <td>A1964335128</td>\n",
       "      <td>A177689540</td>\n",
       "      <td>5.0</td>\n",
       "      <td>0</td>\n",
       "      <td>26</td>\n",
       "      <td>0.000000</td>\n",
       "      <td>1.0</td>\n",
       "      <td>0.000000</td>\n",
       "      <td>96.139683</td>\n",
       "      <td>...</td>\n",
       "      <td>7237.0</td>\n",
       "      <td>21415.0</td>\n",
       "      <td>4403.0</td>\n",
       "      <td>5485.0</td>\n",
       "      <td>0.0</td>\n",
       "      <td>1996.0</td>\n",
       "      <td>0.0</td>\n",
       "      <td>673.0</td>\n",
       "      <td>2004</td>\n",
       "      <td>1956</td>\n",
       "    </tr>\n",
       "    <tr>\n",
       "      <th>1</th>\n",
       "      <td>0</td>\n",
       "      <td>A1964335128</td>\n",
       "      <td>A177689540</td>\n",
       "      <td>3.0</td>\n",
       "      <td>0</td>\n",
       "      <td>42</td>\n",
       "      <td>0.000000</td>\n",
       "      <td>1.0</td>\n",
       "      <td>0.000000</td>\n",
       "      <td>150.796825</td>\n",
       "      <td>...</td>\n",
       "      <td>7237.0</td>\n",
       "      <td>21415.0</td>\n",
       "      <td>4403.0</td>\n",
       "      <td>5485.0</td>\n",
       "      <td>0.0</td>\n",
       "      <td>1276.0</td>\n",
       "      <td>0.0</td>\n",
       "      <td>264.0</td>\n",
       "      <td>2004</td>\n",
       "      <td>1956</td>\n",
       "    </tr>\n",
       "    <tr>\n",
       "      <th>2</th>\n",
       "      <td>0</td>\n",
       "      <td>A1964335128</td>\n",
       "      <td>A177689540</td>\n",
       "      <td>6.0</td>\n",
       "      <td>25</td>\n",
       "      <td>0</td>\n",
       "      <td>1.000000</td>\n",
       "      <td>0.0</td>\n",
       "      <td>523.366667</td>\n",
       "      <td>0.000000</td>\n",
       "      <td>...</td>\n",
       "      <td>7237.0</td>\n",
       "      <td>21415.0</td>\n",
       "      <td>4403.0</td>\n",
       "      <td>5485.0</td>\n",
       "      <td>4163.0</td>\n",
       "      <td>0.0</td>\n",
       "      <td>2469.0</td>\n",
       "      <td>0.0</td>\n",
       "      <td>2004</td>\n",
       "      <td>1956</td>\n",
       "    </tr>\n",
       "    <tr>\n",
       "      <th>3</th>\n",
       "      <td>0</td>\n",
       "      <td>A1964335128</td>\n",
       "      <td>A177689540</td>\n",
       "      <td>1.0</td>\n",
       "      <td>0</td>\n",
       "      <td>62</td>\n",
       "      <td>0.000000</td>\n",
       "      <td>1.0</td>\n",
       "      <td>0.000000</td>\n",
       "      <td>175.473810</td>\n",
       "      <td>...</td>\n",
       "      <td>7237.0</td>\n",
       "      <td>21415.0</td>\n",
       "      <td>4403.0</td>\n",
       "      <td>5485.0</td>\n",
       "      <td>0.0</td>\n",
       "      <td>5142.0</td>\n",
       "      <td>0.0</td>\n",
       "      <td>806.0</td>\n",
       "      <td>2004</td>\n",
       "      <td>1956</td>\n",
       "    </tr>\n",
       "    <tr>\n",
       "      <th>4</th>\n",
       "      <td>0</td>\n",
       "      <td>A1964335128</td>\n",
       "      <td>A177689540</td>\n",
       "      <td>0.0</td>\n",
       "      <td>8</td>\n",
       "      <td>107</td>\n",
       "      <td>0.074766</td>\n",
       "      <td>1.0</td>\n",
       "      <td>132.846429</td>\n",
       "      <td>724.462374</td>\n",
       "      <td>...</td>\n",
       "      <td>7237.0</td>\n",
       "      <td>21415.0</td>\n",
       "      <td>4403.0</td>\n",
       "      <td>5485.0</td>\n",
       "      <td>1817.0</td>\n",
       "      <td>8735.0</td>\n",
       "      <td>795.0</td>\n",
       "      <td>2880.0</td>\n",
       "      <td>2004</td>\n",
       "      <td>1956</td>\n",
       "    </tr>\n",
       "  </tbody>\n",
       "</table>\n",
       "<p>5 rows × 25 columns</p>\n",
       "</div>"
      ],
      "text/plain": [
       "   index_i    mentee_id   mentor_id  community  paper_num_mte  paper_num_mto  \\\n",
       "0        0  A1964335128  A177689540        5.0              0             26   \n",
       "1        0  A1964335128  A177689540        3.0              0             42   \n",
       "2        0  A1964335128  A177689540        6.0             25              0   \n",
       "3        0  A1964335128  A177689540        1.0              0             62   \n",
       "4        0  A1964335128  A177689540        0.0              8            107   \n",
       "\n",
       "   paper_ratio_mte  paper_ratio_mto  credit_mte  credit_mto  ...  \\\n",
       "0         0.000000              1.0    0.000000   96.139683  ...   \n",
       "1         0.000000              1.0    0.000000  150.796825  ...   \n",
       "2         1.000000              0.0  523.366667    0.000000  ...   \n",
       "3         0.000000              1.0    0.000000  175.473810  ...   \n",
       "4         0.074766              1.0  132.846429  724.462374  ...   \n",
       "\n",
       "   total_cits_mte  total_cits_mto  total_cits5_mte  total_cits5_mto cits_mte  \\\n",
       "0          7237.0         21415.0           4403.0           5485.0      0.0   \n",
       "1          7237.0         21415.0           4403.0           5485.0      0.0   \n",
       "2          7237.0         21415.0           4403.0           5485.0   4163.0   \n",
       "3          7237.0         21415.0           4403.0           5485.0      0.0   \n",
       "4          7237.0         21415.0           4403.0           5485.0   1817.0   \n",
       "\n",
       "   cits_mto  cits5_mte  cits5_mto  birthYear_mte  birthYear_mto  \n",
       "0    1996.0        0.0      673.0           2004           1956  \n",
       "1    1276.0        0.0      264.0           2004           1956  \n",
       "2       0.0     2469.0        0.0           2004           1956  \n",
       "3    5142.0        0.0      806.0           2004           1956  \n",
       "4    8735.0      795.0     2880.0           2004           1956  \n",
       "\n",
       "[5 rows x 25 columns]"
      ]
     },
     "execution_count": 5,
     "metadata": {},
     "output_type": "execute_result"
    }
   ],
   "source": [
    "key_data.head(5)"
   ]
  },
  {
   "cell_type": "code",
   "execution_count": 6,
   "id": "a8c4d374-1a53-425c-81a6-c99d28225fb4",
   "metadata": {
    "tags": []
   },
   "outputs": [
    {
     "data": {
      "text/plain": [
       "Index(['index_i', 'mentee_id', 'mentor_id', 'community', 'paper_num_mte',\n",
       "       'paper_num_mto', 'paper_ratio_mte', 'paper_ratio_mto', 'credit_mte',\n",
       "       'credit_mto', 'communitys_paper_num_mto', 'communitys_paper_num_mte',\n",
       "       'total_credit_mte', 'total_credit_mto', 'type', 'total_cits_mte',\n",
       "       'total_cits_mto', 'total_cits5_mte', 'total_cits5_mto', 'cits_mte',\n",
       "       'cits_mto', 'cits5_mte', 'cits5_mto', 'birthYear_mte', 'birthYear_mto'],\n",
       "      dtype='object')"
      ]
     },
     "execution_count": 6,
     "metadata": {},
     "output_type": "execute_result"
    }
   ],
   "source": [
    "key_data.columns"
   ]
  },
  {
   "cell_type": "code",
   "execution_count": 7,
   "id": "f8ed67bb-a6ae-4ed1-a199-e59feb6d4290",
   "metadata": {
    "tags": []
   },
   "outputs": [
    {
     "data": {
      "text/plain": [
       "Index(['mentee_id', 'mentor_id', 'communitys_paper_num_mte', 'total_cits5_mte',\n",
       "       'total_credit_mte', 'birthYear_mte', 'communitys_paper_num_mto',\n",
       "       'total_cits5_mto', 'career_len_mte', 'career_len_mto',\n",
       "       'yearly_cits5_mto', 'topic_num10_mte', 'topic_num10_mto',\n",
       "       'total_papers_mte', 'total_papers_mto', 'colla_work_count',\n",
       "       'colla_work_count_first5', 'colla_work_count_later5',\n",
       "       'collaborators_mte_count', 'common_cllaborators_count',\n",
       "       'ratio_common_collaborators', 'mte_work_first5_count'],\n",
       "      dtype='object')"
      ]
     },
     "execution_count": 7,
     "metadata": {},
     "output_type": "execute_result"
    }
   ],
   "source": [
    "V0 = pd.read_csv('regression_variables.csv')\n",
    "V0.columns"
   ]
  },
  {
   "cell_type": "code",
   "execution_count": 8,
   "id": "eb03b34c-8967-4893-9e4b-3be0734b2484",
   "metadata": {
    "tags": []
   },
   "outputs": [
    {
     "name": "stdout",
     "output_type": "stream",
     "text": [
      "49628\n"
     ]
    }
   ],
   "source": [
    "print(len(V0))\n",
    "thd = 1990\n",
    "V2000 = V0['mentee_id'][V0.birthYear_mte<=thd]\n",
    "key_data = key_data[(key_data.paper_num_mte>0)&(key_data.mentee_id.isin(V2000))]"
   ]
  },
  {
   "cell_type": "markdown",
   "id": "fdf601cb-1843-4019-b6ea-1fff0f06015a",
   "metadata": {
    "tags": []
   },
   "source": [
    "### mean papers ratio"
   ]
  },
  {
   "cell_type": "markdown",
   "id": "21a68ffa-aa16-41cc-9367-62e217a830a5",
   "metadata": {},
   "source": [
    "#### All"
   ]
  },
  {
   "cell_type": "code",
   "execution_count": 9,
   "id": "f2ca3b09-0cf4-4149-a41a-f8ba273df560",
   "metadata": {
    "tags": []
   },
   "outputs": [],
   "source": [
    "key_data = pd.read_csv('Key_Data.csv')"
   ]
  },
  {
   "cell_type": "code",
   "execution_count": 10,
   "id": "528bee99-4f45-4c46-a56c-5292fccd94cf",
   "metadata": {
    "tags": []
   },
   "outputs": [],
   "source": [
    "key_data['paper_ratio_mte'] = key_data['paper_num_mte']/key_data['communitys_paper_num_mte']"
   ]
  },
  {
   "cell_type": "code",
   "execution_count": 11,
   "id": "f4dceabd-dacf-45bf-a542-7e895d31b490",
   "metadata": {
    "tags": []
   },
   "outputs": [],
   "source": [
    "key_data = key_data[(key_data.paper_num_mte>0)&(key_data.mentee_id.isin(V2000))]"
   ]
  },
  {
   "cell_type": "code",
   "execution_count": 12,
   "id": "f4d43fac-71a3-417d-8dc8-49cff9039c5a",
   "metadata": {
    "tags": []
   },
   "outputs": [],
   "source": [
    "target_info = key_data[['mentee_id','mentor_id','community','type','paper_ratio_mte','paper_num_mte','communitys_paper_num_mte']][key_data.paper_num_mte>0]"
   ]
  },
  {
   "cell_type": "code",
   "execution_count": 13,
   "id": "1dfa1bb3-659a-4685-bd1f-1a9ae7ba2e86",
   "metadata": {
    "tags": []
   },
   "outputs": [],
   "source": [
    "def type_count(tp_df):\n",
    "    num_new = len(tp_df[tp_df.type=='new'])\n",
    "    \n",
    "    return num_new\n",
    "\n",
    "num_new = target_info.groupby(['mentee_id','mentor_id']).apply(type_count).reset_index(name='num_new')"
   ]
  },
  {
   "cell_type": "code",
   "execution_count": 14,
   "id": "18fef4d7-5979-4196-a4e2-6cf4c45b602a",
   "metadata": {
    "tags": []
   },
   "outputs": [],
   "source": [
    "mentee_with_new = list(set(num_new['mentee_id'][num_new.num_new>0]))\n",
    "mentee_without_new = list(set(num_new['mentee_id'][num_new.num_new==0]))"
   ]
  },
  {
   "cell_type": "code",
   "execution_count": 15,
   "id": "1164346e-f272-468a-ad24-c3425729f529",
   "metadata": {
    "tags": []
   },
   "outputs": [],
   "source": [
    "def paper_contri(tp_df):\n",
    "    contri_main = np.sum(tp_df['paper_ratio_mte'][tp_df.type=='main'])\n",
    "    contri_asso = np.sum(tp_df['paper_ratio_mte'][tp_df.type=='associate'])\n",
    "    contri_new = np.sum(tp_df['paper_ratio_mte'][tp_df.type=='new'])\n",
    "    \n",
    "    return contri_main,contri_asso,contri_new"
   ]
  },
  {
   "cell_type": "code",
   "execution_count": 16,
   "id": "77f941fc-d119-4ba4-a841-ed1f242d50c5",
   "metadata": {
    "tags": []
   },
   "outputs": [],
   "source": [
    "paper_contri_ratio = target_info.groupby(['mentee_id','mentor_id']).apply(paper_contri).reset_index(name='paper_contri_ratio')"
   ]
  },
  {
   "cell_type": "code",
   "execution_count": 17,
   "id": "2730b71b-1372-4876-b56e-9a9c928106a0",
   "metadata": {
    "tags": []
   },
   "outputs": [],
   "source": [
    "df_list = []\n",
    "tp_array = paper_contri_ratio.values\n",
    "for k in tp_array:\n",
    "    tp_k = [k[0],k[1]]\n",
    "    tp_k.extend(list(k[2]))\n",
    "    df_list.append(tp_k)"
   ]
  },
  {
   "cell_type": "code",
   "execution_count": 18,
   "id": "5c9fef3f-6dbd-4995-86a6-de25b5071014",
   "metadata": {
    "tags": []
   },
   "outputs": [],
   "source": [
    "paper_contri_ratio = pd.DataFrame(df_list,columns=['mentee_id','mentor_id','main','asso','new'])\n",
    "paper_contri_ratio['total_contri'] = paper_contri_ratio['main'] + paper_contri_ratio['asso'] + paper_contri_ratio['new']"
   ]
  },
  {
   "cell_type": "code",
   "execution_count": 19,
   "id": "d0d7493c-98b9-48db-82da-703c1ef3c468",
   "metadata": {
    "tags": []
   },
   "outputs": [
    {
     "data": {
      "image/png": "[encoded data removed]",
      "text/plain": [
       "<Figure size 309x309 with 1 Axes>"
      ]
     },
     "metadata": {},
     "output_type": "display_data"
    }
   ],
   "source": [
    "#with_new\n",
    "data_with_new = paper_contri_ratio[(paper_contri_ratio['mentee_id'].isin(mentee_with_new))&(paper_contri_ratio.new<1)&(paper_contri_ratio.new>0)]\n",
    "\n",
    "#without_new\n",
    "data_without_new = paper_contri_ratio[(paper_contri_ratio['mentee_id'].isin(mentee_without_new))&(paper_contri_ratio.new==0)]\n",
    "\n",
    "data_tp = data_with_new\n",
    "mean_main_with_new = np.mean(data_tp['main'])\n",
    "mean_asso_with_new = np.mean(data_tp['asso'])\n",
    "mean_new_with_new = np.mean(data_tp['new'])\n",
    "\n",
    "data_tp = data_without_new\n",
    "mean_main_without_new = np.mean(data_tp['main'])\n",
    "mean_asso_without_new = np.mean(data_tp['asso'])\n",
    "mean_new_without_new = np.mean(data_tp['new'])\n",
    "\n",
    "\n",
    "classes = ['with_new_topic','without_new_topic']\n",
    "width = 0.3  # the width of the bars: can also be len(x) sequence\n",
    "\n",
    "#figure layout set\n",
    "fig, ax = plt.subplots(1,1,constrained_layout=True,figsize=[0.618*5,0.618*5])\n",
    "sns.set(style='ticks',font_scale=1.2, font='Arial')\n",
    "\n",
    "#plot\n",
    "x_main = np.array([1,1+5*width])\n",
    "ax.bar(x_main, [mean_main_with_new,mean_main_without_new], width,color=type_colors['main'],label='Primary')\n",
    "\n",
    "x_associate = np.array([1+width,1+6*width])\n",
    "ax.bar(x_associate, [mean_asso_with_new,mean_asso_without_new], width,color=type_colors['asso'],label='Secondary')\n",
    "\n",
    "x_new = np.array([1+2*width,1+7*width])\n",
    "ax.bar(x_new, [mean_new_with_new,mean_new_without_new], width,color=type_colors['new'],label='New')\n",
    "\n",
    "#fig ticks set\n",
    "ax.legend(frameon=0,ncol=2,loc='upper left',fontsize=10.5)\n",
    "ax.set_ylabel('the average ratio of papers')\n",
    "ax.set_xticks([1+width,1+5.5*width], classes,fontsize=11)\n",
    "\n",
    "ax.set_ylim([0,0.8])\n",
    "ax.yaxis.set_major_locator(MultipleLocator(0.1))\n",
    "ax.yaxis.set_minor_locator(MultipleLocator(0.025))\n",
    "plt.grid(axis='y',alpha=0.6)\n",
    "\n",
    "# ax.set_title(f'All')\n",
    "# fig.savefig('result_data_plot/new_plot(202403)/All (the average ratio of papers).pdf')\n",
    "plt.show()"
   ]
  },
  {
   "cell_type": "markdown",
   "id": "65ef2ad2-59b1-4261-8e68-64498cef2895",
   "metadata": {},
   "source": [
    "#### High impact"
   ]
  },
  {
   "cell_type": "code",
   "execution_count": 20,
   "id": "e552f753-f7da-4853-a6a2-2f62bf0051c6",
   "metadata": {
    "tags": []
   },
   "outputs": [],
   "source": [
    "q10,q25,q50,q75,q95 = key_data[['mentee_id','total_cits5_mte']].drop_duplicates()['total_cits5_mte'].quantile([.1,.25,.5,.75,.95])"
   ]
  },
  {
   "cell_type": "code",
   "execution_count": 21,
   "id": "28228411-7756-451e-bad0-fda6dcd07f64",
   "metadata": {
    "tags": []
   },
   "outputs": [],
   "source": [
    "elites = key_data[['mentee_id','mentor_id']][key_data.total_cits5_mte>=q75].drop_duplicates().values[:,0]"
   ]
  },
  {
   "cell_type": "code",
   "execution_count": 22,
   "id": "fd70084e-7e00-4e0e-bfa1-46f55fe867c8",
   "metadata": {
    "tags": []
   },
   "outputs": [
    {
     "data": {
      "image/png": "[encoded data removed]",
      "text/plain": [
       "<Figure size 309x309 with 1 Axes>"
      ]
     },
     "metadata": {},
     "output_type": "display_data"
    }
   ],
   "source": [
    "#with_new\n",
    "data_with_new = paper_contri_ratio[(paper_contri_ratio['mentee_id'].isin(mentee_with_new))&(paper_contri_ratio.new<1)\n",
    "                                  &(paper_contri_ratio['mentee_id'].isin(elites))]\n",
    "\n",
    "#without_new\n",
    "data_without_new = paper_contri_ratio[(paper_contri_ratio['mentee_id'].isin(mentee_without_new))&(paper_contri_ratio.new==0)\n",
    "                                     &(paper_contri_ratio['mentee_id'].isin(elites))]\n",
    "data_tp = data_with_new\n",
    "mean_main_with_new = np.mean(data_tp['main'])\n",
    "mean_asso_with_new = np.mean(data_tp['asso'])\n",
    "mean_new_with_new = np.mean(data_tp['new'])\n",
    "\n",
    "data_tp = data_without_new\n",
    "mean_main_without_new = np.mean(data_tp['main'])\n",
    "mean_asso_without_new = np.mean(data_tp['asso'])\n",
    "mean_new_without_new = np.mean(data_tp['new'])\n",
    "\n",
    "classes = ['with_new_topic','without_new_topic']\n",
    "width = 0.3  # the width of the bars: can also be len(x) sequence\n",
    "\n",
    "#figure layout set\n",
    "fig, ax = plt.subplots(1,1,constrained_layout=True,figsize=[0.618*5,0.618*5])\n",
    "sns.set(style='ticks',font_scale=1.2, font='Arial')\n",
    "\n",
    "#plot\n",
    "x_main = np.array([1,1+5*width])\n",
    "ax.bar(x_main, [mean_main_with_new,mean_main_without_new], width,color=type_colors['main'],label='Primary',hatch='o')\n",
    "\n",
    "x_associate = np.array([1+width,1+6*width])\n",
    "ax.bar(x_associate, [mean_asso_with_new,mean_asso_without_new], width,color=type_colors['asso'],label='Secondary',hatch='o')\n",
    "\n",
    "x_new = np.array([1+2*width,1+7*width])\n",
    "ax.bar(x_new, [mean_new_with_new,mean_new_without_new], width,color=type_colors['new'],label='New',hatch='o')\n",
    "\n",
    "#fig ticks set\n",
    "ax.legend(frameon=0,ncol=2,loc='upper left',fontsize=10.5)\n",
    "ax.set_ylim([0,0.8])\n",
    "ax.yaxis.set_major_locator(MultipleLocator(0.1))\n",
    "ax.yaxis.set_minor_locator(MultipleLocator(0.025))\n",
    "plt.grid(axis='y',alpha=0.6)\n",
    "ax.set_ylabel('the average ratio of papers')\n",
    "ax.set_xticks([1+width,1+5.5*width], classes,fontsize=11)\n",
    "# ax.set_title(f'ALL (ratio of with_new = {round(ratio_with_new,2)})')\n",
    "# fig.savefig('result_data_plot/new_plot(202403)/High-impact (the average ratio of papers).pdf')\n",
    "plt.show()"
   ]
  },
  {
   "cell_type": "markdown",
   "id": "c0f84d47-5819-4c25-86d5-c535fadccc3d",
   "metadata": {
    "tags": []
   },
   "source": [
    "### mean credit ratio"
   ]
  },
  {
   "cell_type": "code",
   "execution_count": 23,
   "id": "ebd1a9eb-d470-418d-b202-16fdc552c7af",
   "metadata": {
    "tags": []
   },
   "outputs": [],
   "source": [
    "target_info = key_data[['mentee_id','mentor_id','community','type','credit_mte','total_credit_mte']]"
   ]
  },
  {
   "cell_type": "code",
   "execution_count": 24,
   "id": "3ab39859-b9c2-40aa-992c-31909714934c",
   "metadata": {
    "tags": []
   },
   "outputs": [],
   "source": [
    "def type_count(tp_df):\n",
    "    num_new = len(tp_df[tp_df.type=='new'])\n",
    "    \n",
    "    return num_new\n",
    "\n",
    "num_new = target_info.groupby(['mentee_id','mentor_id']).apply(type_count).reset_index(name='num_new')"
   ]
  },
  {
   "cell_type": "code",
   "execution_count": 25,
   "id": "4543987e-a668-403b-bb37-95021ec31480",
   "metadata": {
    "tags": []
   },
   "outputs": [
    {
     "data": {
      "text/html": [
       "<div>\n",
       "<style scoped>\n",
       "    .dataframe tbody tr th:only-of-type {\n",
       "        vertical-align: middle;\n",
       "    }\n",
       "\n",
       "    .dataframe tbody tr th {\n",
       "        vertical-align: top;\n",
       "    }\n",
       "\n",
       "    .dataframe thead th {\n",
       "        text-align: right;\n",
       "    }\n",
       "</style>\n",
       "<table border=\"1\" class=\"dataframe\">\n",
       "  <thead>\n",
       "    <tr style=\"text-align: right;\">\n",
       "      <th></th>\n",
       "      <th>mentee_id</th>\n",
       "      <th>mentor_id</th>\n",
       "      <th>num_new</th>\n",
       "    </tr>\n",
       "  </thead>\n",
       "  <tbody>\n",
       "    <tr>\n",
       "      <th>0</th>\n",
       "      <td>A1002422011</td>\n",
       "      <td>A1897971127</td>\n",
       "      <td>0</td>\n",
       "    </tr>\n",
       "    <tr>\n",
       "      <th>1</th>\n",
       "      <td>A1002422011</td>\n",
       "      <td>A1966502692</td>\n",
       "      <td>0</td>\n",
       "    </tr>\n",
       "    <tr>\n",
       "      <th>2</th>\n",
       "      <td>A100328954</td>\n",
       "      <td>A1993268291</td>\n",
       "      <td>3</td>\n",
       "    </tr>\n",
       "    <tr>\n",
       "      <th>3</th>\n",
       "      <td>A100328954</td>\n",
       "      <td>A2157074446</td>\n",
       "      <td>1</td>\n",
       "    </tr>\n",
       "    <tr>\n",
       "      <th>4</th>\n",
       "      <td>A100328954</td>\n",
       "      <td>A2780364925</td>\n",
       "      <td>3</td>\n",
       "    </tr>\n",
       "  </tbody>\n",
       "</table>\n",
       "</div>"
      ],
      "text/plain": [
       "     mentee_id    mentor_id  num_new\n",
       "0  A1002422011  A1897971127        0\n",
       "1  A1002422011  A1966502692        0\n",
       "2   A100328954  A1993268291        3\n",
       "3   A100328954  A2157074446        1\n",
       "4   A100328954  A2780364925        3"
      ]
     },
     "execution_count": 25,
     "metadata": {},
     "output_type": "execute_result"
    }
   ],
   "source": [
    "num_new.head(5)"
   ]
  },
  {
   "cell_type": "code",
   "execution_count": 26,
   "id": "511e764e-08a7-4fc4-86c2-2f495ece6b85",
   "metadata": {
    "tags": []
   },
   "outputs": [],
   "source": [
    "mentee_with_new = list(set(num_new['mentee_id'][num_new.num_new>0]))\n",
    "mentee_without_new = list(set(num_new['mentee_id'][num_new.num_new==0]))"
   ]
  },
  {
   "cell_type": "code",
   "execution_count": 27,
   "id": "05be84a2-2e6d-49ef-b190-ea839d3defd2",
   "metadata": {
    "tags": []
   },
   "outputs": [
    {
     "data": {
      "text/html": [
       "<div>\n",
       "<style scoped>\n",
       "    .dataframe tbody tr th:only-of-type {\n",
       "        vertical-align: middle;\n",
       "    }\n",
       "\n",
       "    .dataframe tbody tr th {\n",
       "        vertical-align: top;\n",
       "    }\n",
       "\n",
       "    .dataframe thead th {\n",
       "        text-align: right;\n",
       "    }\n",
       "</style>\n",
       "<table border=\"1\" class=\"dataframe\">\n",
       "  <thead>\n",
       "    <tr style=\"text-align: right;\">\n",
       "      <th></th>\n",
       "      <th>mentee_id</th>\n",
       "      <th>mentor_id</th>\n",
       "      <th>community</th>\n",
       "      <th>type</th>\n",
       "      <th>credit_mte</th>\n",
       "      <th>total_credit_mte</th>\n",
       "    </tr>\n",
       "  </thead>\n",
       "  <tbody>\n",
       "    <tr>\n",
       "      <th>14</th>\n",
       "      <td>A2141337483</td>\n",
       "      <td>A328693186</td>\n",
       "      <td>0.0</td>\n",
       "      <td>main</td>\n",
       "      <td>3.583333</td>\n",
       "      <td>50.217857</td>\n",
       "    </tr>\n",
       "    <tr>\n",
       "      <th>16</th>\n",
       "      <td>A2141337483</td>\n",
       "      <td>A328693186</td>\n",
       "      <td>4.0</td>\n",
       "      <td>new</td>\n",
       "      <td>46.491667</td>\n",
       "      <td>50.217857</td>\n",
       "    </tr>\n",
       "    <tr>\n",
       "      <th>17</th>\n",
       "      <td>A2141337483</td>\n",
       "      <td>A328693186</td>\n",
       "      <td>3.0</td>\n",
       "      <td>associate</td>\n",
       "      <td>0.142857</td>\n",
       "      <td>50.217857</td>\n",
       "    </tr>\n",
       "    <tr>\n",
       "      <th>22</th>\n",
       "      <td>A3010849663</td>\n",
       "      <td>A240727783</td>\n",
       "      <td>5.0</td>\n",
       "      <td>associate</td>\n",
       "      <td>28.870976</td>\n",
       "      <td>319.504685</td>\n",
       "    </tr>\n",
       "    <tr>\n",
       "      <th>23</th>\n",
       "      <td>A3010849663</td>\n",
       "      <td>A240727783</td>\n",
       "      <td>2.0</td>\n",
       "      <td>main</td>\n",
       "      <td>263.146340</td>\n",
       "      <td>319.504685</td>\n",
       "    </tr>\n",
       "  </tbody>\n",
       "</table>\n",
       "</div>"
      ],
      "text/plain": [
       "      mentee_id   mentor_id  community       type  credit_mte  \\\n",
       "14  A2141337483  A328693186        0.0       main    3.583333   \n",
       "16  A2141337483  A328693186        4.0        new   46.491667   \n",
       "17  A2141337483  A328693186        3.0  associate    0.142857   \n",
       "22  A3010849663  A240727783        5.0  associate   28.870976   \n",
       "23  A3010849663  A240727783        2.0       main  263.146340   \n",
       "\n",
       "    total_credit_mte  \n",
       "14         50.217857  \n",
       "16         50.217857  \n",
       "17         50.217857  \n",
       "22        319.504685  \n",
       "23        319.504685  "
      ]
     },
     "execution_count": 27,
     "metadata": {},
     "output_type": "execute_result"
    }
   ],
   "source": [
    "target_info.head(5)"
   ]
  },
  {
   "cell_type": "code",
   "execution_count": 28,
   "id": "f7f120d3-55cb-4024-87f2-529c74557f4f",
   "metadata": {
    "tags": []
   },
   "outputs": [
    {
     "name": "stderr",
     "output_type": "stream",
     "text": [
      "/var/folders/8n/d3_ymw7s7tn0tz9t554ghv5m0000gn/T/ipykernel_49978/3392810383.py:2: SettingWithCopyWarning: \n",
      "A value is trying to be set on a copy of a slice from a DataFrame.\n",
      "Try using .loc[row_indexer,col_indexer] = value instead\n",
      "\n",
      "See the caveats in the documentation: https://pandas.pydata.org/pandas-docs/stable/user_guide/indexing.html#returning-a-view-versus-a-copy\n",
      "  target_info.loc[:,'credit_ratio_mte'] = credit_ratio_mte\n"
     ]
    }
   ],
   "source": [
    "credit_ratio_mte = list(target_info['credit_mte']/target_info['total_credit_mte'])\n",
    "target_info.loc[:,'credit_ratio_mte'] = credit_ratio_mte"
   ]
  },
  {
   "cell_type": "code",
   "execution_count": 29,
   "id": "75d9ecb7-e06b-417e-8e95-541c608c1301",
   "metadata": {
    "tags": []
   },
   "outputs": [],
   "source": [
    "def topic_contri(tp_df):\n",
    "    contri_main = np.sum(tp_df['credit_ratio_mte'][tp_df.type=='main'])\n",
    "    contri_asso = np.sum(tp_df['credit_ratio_mte'][tp_df.type=='associate'])\n",
    "    contri_new = np.sum(tp_df['credit_ratio_mte'][tp_df.type=='new'])\n",
    "    \n",
    "    return contri_main,contri_asso,contri_new"
   ]
  },
  {
   "cell_type": "code",
   "execution_count": 30,
   "id": "ee6f899d-9928-4f96-9edd-8c3b99a2862b",
   "metadata": {
    "tags": []
   },
   "outputs": [],
   "source": [
    "topic_contri_ratio = target_info.groupby(['mentee_id','mentor_id']).apply(topic_contri).reset_index(name='topic_contri_ratio')"
   ]
  },
  {
   "cell_type": "code",
   "execution_count": 31,
   "id": "1fb15cf6-3d4e-4b3f-bfce-6e4d0f76fe8e",
   "metadata": {
    "tags": []
   },
   "outputs": [],
   "source": [
    "df_list = []\n",
    "tp_array = topic_contri_ratio.values\n",
    "for k in tp_array:\n",
    "    tp_k = [k[0],k[1]]\n",
    "    tp_k.extend(list(k[2]))\n",
    "    df_list.append(tp_k)"
   ]
  },
  {
   "cell_type": "code",
   "execution_count": 32,
   "id": "4afbfd95-f7bb-4c91-92fc-2a875d76a113",
   "metadata": {
    "tags": []
   },
   "outputs": [],
   "source": [
    "topic_contri_ratio = pd.DataFrame(df_list,columns=['mentee_id','mentor_id','main','asso','new'])"
   ]
  },
  {
   "cell_type": "code",
   "execution_count": 33,
   "id": "97ba5b0c-7c7c-430d-84a8-abeb5ff49531",
   "metadata": {
    "tags": []
   },
   "outputs": [
    {
     "data": {
      "text/html": [
       "<div>\n",
       "<style scoped>\n",
       "    .dataframe tbody tr th:only-of-type {\n",
       "        vertical-align: middle;\n",
       "    }\n",
       "\n",
       "    .dataframe tbody tr th {\n",
       "        vertical-align: top;\n",
       "    }\n",
       "\n",
       "    .dataframe thead th {\n",
       "        text-align: right;\n",
       "    }\n",
       "</style>\n",
       "<table border=\"1\" class=\"dataframe\">\n",
       "  <thead>\n",
       "    <tr style=\"text-align: right;\">\n",
       "      <th></th>\n",
       "      <th>mentee_id</th>\n",
       "      <th>mentor_id</th>\n",
       "      <th>main</th>\n",
       "      <th>asso</th>\n",
       "      <th>new</th>\n",
       "    </tr>\n",
       "  </thead>\n",
       "  <tbody>\n",
       "    <tr>\n",
       "      <th>0</th>\n",
       "      <td>A1002422011</td>\n",
       "      <td>A1897971127</td>\n",
       "      <td>0.606829</td>\n",
       "      <td>0.393171</td>\n",
       "      <td>0.000000</td>\n",
       "    </tr>\n",
       "    <tr>\n",
       "      <th>1</th>\n",
       "      <td>A1002422011</td>\n",
       "      <td>A1966502692</td>\n",
       "      <td>0.017778</td>\n",
       "      <td>0.982222</td>\n",
       "      <td>0.000000</td>\n",
       "    </tr>\n",
       "    <tr>\n",
       "      <th>2</th>\n",
       "      <td>A100328954</td>\n",
       "      <td>A1993268291</td>\n",
       "      <td>0.000000</td>\n",
       "      <td>0.019098</td>\n",
       "      <td>0.980902</td>\n",
       "    </tr>\n",
       "    <tr>\n",
       "      <th>3</th>\n",
       "      <td>A100328954</td>\n",
       "      <td>A2157074446</td>\n",
       "      <td>0.032510</td>\n",
       "      <td>0.960938</td>\n",
       "      <td>0.006551</td>\n",
       "    </tr>\n",
       "    <tr>\n",
       "      <th>4</th>\n",
       "      <td>A100328954</td>\n",
       "      <td>A2780364925</td>\n",
       "      <td>0.000000</td>\n",
       "      <td>0.018798</td>\n",
       "      <td>0.981202</td>\n",
       "    </tr>\n",
       "  </tbody>\n",
       "</table>\n",
       "</div>"
      ],
      "text/plain": [
       "     mentee_id    mentor_id      main      asso       new\n",
       "0  A1002422011  A1897971127  0.606829  0.393171  0.000000\n",
       "1  A1002422011  A1966502692  0.017778  0.982222  0.000000\n",
       "2   A100328954  A1993268291  0.000000  0.019098  0.980902\n",
       "3   A100328954  A2157074446  0.032510  0.960938  0.006551\n",
       "4   A100328954  A2780364925  0.000000  0.018798  0.981202"
      ]
     },
     "execution_count": 33,
     "metadata": {},
     "output_type": "execute_result"
    }
   ],
   "source": [
    "topic_contri_ratio.head(5)"
   ]
  },
  {
   "cell_type": "code",
   "execution_count": 34,
   "id": "4f455a11-ad4c-4a38-b511-61c09b6c2f76",
   "metadata": {
    "tags": []
   },
   "outputs": [],
   "source": [
    "q10,q25,q50,q75,q95 = key_data[['mentee_id','total_cits5_mte']].drop_duplicates()['total_cits5_mte'].quantile([.1,.25,.5,.75,.95])\n",
    "elites = key_data[['mentee_id','mentor_id']][key_data.total_cits5_mte>=q75].drop_duplicates().values[:,0]"
   ]
  },
  {
   "cell_type": "code",
   "execution_count": 35,
   "id": "8d466227-6d34-45fb-aa01-c2db7b7269d0",
   "metadata": {
    "tags": []
   },
   "outputs": [],
   "source": [
    "#with_new\n",
    "data_with_new = topic_contri_ratio[(topic_contri_ratio['mentee_id'].isin(mentee_with_new))&(topic_contri_ratio.new<1)\n",
    "                                  &(~topic_contri_ratio['mentee_id'].isin(elites))]\n",
    "\n",
    "#without_new\n",
    "data_without_new = topic_contri_ratio[(topic_contri_ratio['mentee_id'].isin(mentee_without_new))&(topic_contri_ratio.new==0)\n",
    "                                     &(~topic_contri_ratio['mentee_id'].isin(elites))]\n",
    "data_tp = data_with_new\n",
    "mean_main_with_new = np.mean(data_tp['main'])\n",
    "mean_asso_with_new = np.mean(data_tp['asso'])\n",
    "mean_new_with_new = np.mean(data_tp['new'])\n",
    "\n",
    "error_main_with_new = stats.sem(data_tp['main'])\n",
    "error_asso_with_new = stats.sem(data_tp['asso'])\n",
    "error_new_with_new = stats.sem(data_tp['new'])\n",
    "\n",
    "data_tp = data_without_new\n",
    "mean_main_without_new = np.mean(data_tp['main'])\n",
    "mean_asso_without_new = np.mean(data_tp['asso'])\n",
    "mean_new_without_new = np.mean(data_tp['new'])\n",
    "\n",
    "error_main_without_new = stats.sem(data_tp['main'])\n",
    "error_asso_without_new = stats.sem(data_tp['asso'])\n",
    "error_new_without_new = stats.sem(data_tp['new'])"
   ]
  },
  {
   "cell_type": "code",
   "execution_count": 36,
   "id": "3ad158ad-020a-4c55-aa86-1bf460c4b824",
   "metadata": {
    "scrolled": true,
    "tags": []
   },
   "outputs": [
    {
     "data": {
      "image/png": "[encoded data removed]",
      "text/plain": [
       "<Figure size 309x309 with 1 Axes>"
      ]
     },
     "metadata": {},
     "output_type": "display_data"
    }
   ],
   "source": [
    "classes = ['with_new_topic','without_new_topic']\n",
    "width = 0.3  # the width of the bars: can also be len(x) sequence\n",
    "\n",
    "#figure layout set\n",
    "fig, ax = plt.subplots(1,1,constrained_layout=True,figsize=[0.618*5,0.618*5])\n",
    "sns.set(style='ticks',font_scale=1.2, font='Arial')\n",
    "\n",
    "# #plot\n",
    "# x_main = np.array([1,1+5*width])\n",
    "# ax.bar(x_main, [mean_main_with_new,mean_main_without_new], width,color=type_colors['main'],label='Primary')\n",
    "\n",
    "# x_associate = np.array([1+width,1+6*width])\n",
    "# ax.bar(x_associate, [mean_asso_with_new,mean_asso_without_new], width,color=type_colors['asso'],label='Secondary')\n",
    "\n",
    "# x_new = np.array([1+2*width,1+7*width])\n",
    "# ax.bar(x_new, [mean_new_with_new,mean_new_without_new], width,color=type_colors['new'],label='New')\n",
    "\n",
    "#plot\n",
    "\n",
    "x_with_new_topic = np.array([1,1+1*width,1+2*width])\n",
    "ax.bar(x_with_new_topic, [mean_main_with_new,mean_asso_with_new,mean_new_with_new], width,color='#998ec3',label='with_new_topic')\n",
    "\n",
    "x_without_new_topic = np.array([1+5*width,1+6*width,1+7*width])\n",
    "ax.bar(x_without_new_topic , [mean_main_without_new,mean_asso_without_new,mean_new_without_new], width,color='#998ec3',label='without_new_topic')\n",
    "\n",
    "\n",
    "#fig ticks set\n",
    "# ax.legend(frameon=0,ncol=2,loc='upper left',fontsize=10.5)\n",
    "ax.set_ylim([0,0.8])\n",
    "ax.yaxis.set_major_locator(MultipleLocator(0.1))\n",
    "ax.yaxis.set_minor_locator(MultipleLocator(0.025))\n",
    "plt.grid(axis='y',alpha=0.6)\n",
    "ax.set_ylabel('the average ratio of credit')\n",
    "# ax.set_xticks([1+width,1+5.5*width], classes,fontsize=11)\n",
    "# ax.set_title(f'All')\n",
    "# fig.savefig('result_data_plot/new_plot(202403)/All (the average ratio of credit0522).pdf')\n",
    "plt.show()"
   ]
  },
  {
   "cell_type": "markdown",
   "id": "b7caaedb-73e1-42fe-b52e-b756806ba9e9",
   "metadata": {},
   "source": [
    "#### High impact"
   ]
  },
  {
   "cell_type": "code",
   "execution_count": 37,
   "id": "082b81e6-5253-4f6e-8123-fc0c3be24e95",
   "metadata": {
    "tags": []
   },
   "outputs": [],
   "source": [
    "q10,q25,q50,q75,q95 = key_data[['mentee_id','total_cits5_mte']].drop_duplicates()['total_cits5_mte'].quantile([.1,.25,.5,.75,.95])\n",
    "elites = key_data[['mentee_id','mentor_id']][key_data.total_cits5_mte>=q75].drop_duplicates().values[:,0]"
   ]
  },
  {
   "cell_type": "code",
   "execution_count": 38,
   "id": "5ce5571b-7883-4abb-aae9-8c5a707dce4b",
   "metadata": {
    "tags": []
   },
   "outputs": [],
   "source": [
    "#with_new\n",
    "data_with_new = topic_contri_ratio[(topic_contri_ratio['mentee_id'].isin(mentee_with_new))&(topic_contri_ratio.new<1)\n",
    "                                  &(topic_contri_ratio['mentee_id'].isin(elites))]\n",
    "\n",
    "#without_new\n",
    "data_without_new = topic_contri_ratio[(topic_contri_ratio['mentee_id'].isin(mentee_without_new))&(topic_contri_ratio.new==0)\n",
    "                                     &(topic_contri_ratio['mentee_id'].isin(elites))]"
   ]
  },
  {
   "cell_type": "code",
   "execution_count": 39,
   "id": "6b438a64-cc01-4353-ab7a-441aaa606f07",
   "metadata": {
    "tags": []
   },
   "outputs": [],
   "source": [
    "data_tp = data_with_new\n",
    "mean_main_with_new_Elite = np.mean(data_tp['main'])\n",
    "mean_asso_with_new_Elite = np.mean(data_tp['asso'])\n",
    "mean_new_with_new_Elite = np.mean(data_tp['new'])\n",
    "\n",
    "error_main_with_new_Elite = stats.sem(data_tp['main'])\n",
    "error_asso_with_new_Elite = stats.sem(data_tp['asso'])\n",
    "error_new_with_new_Elite = stats.sem(data_tp['new'])\n",
    "\n",
    "data_tp = data_without_new\n",
    "mean_main_without_new_Elite = np.mean(data_tp['main'])\n",
    "mean_asso_without_new_Elite = np.mean(data_tp['asso'])\n",
    "mean_new_without_new_Elite = np.mean(data_tp['new'])\n",
    "\n",
    "error_main_without_new_Elite = stats.sem(data_tp['main'])\n",
    "error_asso_without_new_Elite = stats.sem(data_tp['asso'])\n",
    "error_new_without_new_Elite = stats.sem(data_tp['new'])"
   ]
  },
  {
   "cell_type": "code",
   "execution_count": 40,
   "id": "e6180496-5fdc-49a7-9471-05223300a411",
   "metadata": {
    "tags": []
   },
   "outputs": [
    {
     "data": {
      "image/png": "[encoded data removed]",
      "text/plain": [
       "<Figure size 309x309 with 1 Axes>"
      ]
     },
     "metadata": {},
     "output_type": "display_data"
    }
   ],
   "source": [
    "classes = ['with_new_topic','without_new_topic']\n",
    "width = 0.3  # the width of the bars: can also be len(x) sequence\n",
    "\n",
    "#figure layout set\n",
    "fig, ax = plt.subplots(1,1,constrained_layout=True,figsize=[0.618*5,0.618*5])\n",
    "sns.set(style='ticks',font_scale=1.2, font='Arial')\n",
    "\n",
    "#plot\n",
    "# x_main = np.array([1,1+5*width])\n",
    "# ax.bar(x_main, [mean_main_with_new,mean_main_without_new], width,color=type_colors['main'],label='Primary',hatch='o')\n",
    "\n",
    "# x_associate = np.array([1+width,1+6*width])\n",
    "# ax.bar(x_associate, [mean_asso_with_new,mean_asso_without_new], width,color=type_colors['asso'],label='Secondary',hatch='o')\n",
    "\n",
    "# x_new = np.array([1+2*width,1+7*width])\n",
    "# ax.bar(x_new, [mean_new_with_new,mean_new_without_new], width,color=type_colors['new'],label='New',hatch='o')\n",
    "\n",
    "#plot\n",
    "\n",
    "x_with_new_topic = np.array([1,1+1*width,1+2*width])\n",
    "ax.bar(x_with_new_topic, [mean_main_with_new_Elite,mean_asso_with_new_Elite,mean_new_with_new_Elite], width,color='#f1a340',label='with_new_topic')\n",
    "\n",
    "x_without_new_topic = np.array([1+5*width,1+6*width,1+7*width])\n",
    "ax.bar(x_without_new_topic , [mean_main_without_new_Elite,mean_asso_without_new_Elite,mean_new_without_new_Elite], width,color='#f1a340',label='without_new_topic')\n",
    "\n",
    "\n",
    "#fig ticks set\n",
    "# ax.legend(frameon=0,ncol=2,loc='upper left',fontsize=10.5)\n",
    "ax.set_ylim([0,0.8])\n",
    "ax.yaxis.set_major_locator(MultipleLocator(0.1))\n",
    "ax.yaxis.set_minor_locator(MultipleLocator(0.025))\n",
    "plt.grid(axis='y',alpha=0.6)\n",
    "ax.set_ylabel('the average ratio of credit')\n",
    "# ax.set_xticks([1+width,1+5.5*width], classes,fontsize=11)\n",
    "fig.savefig('result_data_plot/new_plot(202403)/High-impact (the average ratio of cits0522).pdf')\n",
    "plt.show()"
   ]
  },
  {
   "cell_type": "markdown",
   "id": "d18c7c28-5dab-41b9-be93-7584acaeec67",
   "metadata": {},
   "source": [
    "#### Merge Plot"
   ]
  },
  {
   "cell_type": "code",
   "execution_count": 41,
   "id": "2bbce077-6256-48c5-bbdc-fb632fe5b382",
   "metadata": {
    "tags": []
   },
   "outputs": [
    {
     "data": {
      "image/png": "[encoded data removed]",
      "text/plain": [
       "<Figure size 309x309 with 1 Axes>"
      ]
     },
     "metadata": {},
     "output_type": "display_data"
    }
   ],
   "source": [
    "width = 0.3  # the width of the bars: can also be len(x) sequence\n",
    "\n",
    "#figure layout set\n",
    "fig, ax = plt.subplots(1,1,constrained_layout=True,figsize=[0.618*5,0.618*5])\n",
    "sns.set(style='ticks',font_scale=1.2, font='Arial')\n",
    "\n",
    "#plot\n",
    "# All with new topic\n",
    "x_with_new_topic = np.array([1,1+2*width,1+4*width])\n",
    "ax.bar(x_with_new_topic, [mean_main_with_new,mean_asso_with_new,mean_new_with_new], width,color='#998ec3',label='with_new_topic')\n",
    "\n",
    "#Elite with new topic\n",
    "x_with_new_topic = np.array([1+1*width,1+3*width,1+5*width])\n",
    "ax.bar(x_with_new_topic, [mean_main_with_new_Elite,mean_asso_with_new_Elite,mean_new_with_new_Elite], width,color='#f1a340',label='with_new_topic')\n",
    "\n",
    "# All without new topic\n",
    "x_without_new_topic = np.array([1+7*width,1+9*width,1+11*width])\n",
    "ax.bar(x_without_new_topic , [mean_main_without_new,mean_asso_without_new,mean_new_without_new], width,color='#998ec3',label='without_new_topic')\n",
    "\n",
    "#Elite without new topic\n",
    "x_without_new_topic = np.array([1+8*width,1+10*width,1+12*width])\n",
    "ax.bar(x_without_new_topic , [mean_main_without_new_Elite,mean_asso_without_new_Elite,mean_new_without_new_Elite], width,color='#f1a340',label='without_new_topic')\n",
    "\n",
    "#fig ticks set\n",
    "# ax.legend(frameon=0,ncol=2,loc='upper left',fontsize=10.5)\n",
    "ax.set_ylim([0,0.8])\n",
    "ax.yaxis.set_major_locator(MultipleLocator(0.1))\n",
    "ax.yaxis.set_minor_locator(MultipleLocator(0.025))\n",
    "plt.grid(axis='y',alpha=0.6)\n",
    "ax.set_ylabel('the average ratio of credit')\n",
    "# ax.set_xticks([1+width,1+5.5*width], classes,fontsize=11)\n",
    "# fig.savefig('result_data_plot/new_plot(202403)/High-impact (the average ratio of cits0522).pdf')\n",
    "plt.show()"
   ]
  },
  {
   "cell_type": "code",
   "execution_count": 64,
   "id": "2f25166b-40e0-4fc0-8ff5-c6fb50ce4a4e",
   "metadata": {
    "tags": []
   },
   "outputs": [
    {
     "data": {
      "image/png": "[encoded data removed]",
      "text/plain": [
       "<Figure size 455x490 with 1 Axes>"
      ]
     },
     "metadata": {},
     "output_type": "display_data"
    }
   ],
   "source": [
    "# classes = ['with_new_topic','without_new_topic']\n",
    "classes = ['follow & new','only follow']\n",
    "width = 0.3  # the width of the bars: can also be len(x) sequence\n",
    "error_kw = {'ecolor': 'k', 'elinewidth': 1, 'capsize': 1, 'capthick': 1}\n",
    "\n",
    "#figure layout set\n",
    "fig, ax = plt.subplots(1,1,constrained_layout=True,figsize=[0.65*7,0.7*7])\n",
    "sns.set(style='ticks',font_scale=1.2, font='Arial')\n",
    "\n",
    "#plot\n",
    "# mean_main_with_new\n",
    "x = 1\n",
    "ax.bar(x, mean_main_with_new, width,color='#998ec3',fill=1,yerr=error_main_with_new,error_kw = error_kw,\n",
    "      label='All_primary',lw=1.2,alpha=0.8)\n",
    "\n",
    "# mean_main_with_new_Elite\n",
    "x = 1+1*width+0.03\n",
    "ax.bar(x, mean_main_with_new_Elite, width,color='#f1a340',fill=1,yerr=error_main_with_new_Elite,error_kw = error_kw,\n",
    "      label='Elite_primary',lw=1.2,alpha=0.8)\n",
    "\n",
    "# mean_asso_with_new\n",
    "x = 1+2*width+0.06\n",
    "ax.bar(x, mean_asso_with_new, width,color='#998ec3',hatch='/',fill=1,yerr=error_asso_with_new,error_kw = error_kw,\n",
    "      label='All_secondary',lw=1.2,alpha=0.8)\n",
    "\n",
    "# mean_asso_with_new_Elite\n",
    "x = 1+3*width+0.09\n",
    "ax.bar(x, mean_asso_with_new_Elite, width,color='#f1a340',hatch='/',fill=1,yerr=error_asso_with_new_Elite,error_kw = error_kw,\n",
    "      label='Elite_secondary',lw=1.2,alpha=0.8)\n",
    "\n",
    "# mean_new_with_new\n",
    "x = 1+4*width+0.12\n",
    "ax.bar(x, mean_new_with_new, width,color='#998ec3',hatch='o',fill=1,yerr=error_new_with_new,error_kw = error_kw,\n",
    "      label='All_new',lw=1.2,alpha=0.8)\n",
    "\n",
    "# mean_asso_with_new_Elite\n",
    "x = 1+5*width+0.16\n",
    "ax.bar(x, mean_new_with_new_Elite, width,color='#f1a340',hatch='o',fill=1,yerr=error_new_with_new_Elite,error_kw = error_kw,\n",
    "      label='Elite_new',lw=1.2,alpha=0.8)\n",
    "\n",
    "\n",
    "# mean_main_without_new\n",
    "x = 1+8*width\n",
    "ax.bar(x, mean_main_without_new, width,color='#998ec3',fill=1,yerr=error_main_without_new,error_kw = error_kw,\n",
    "      lw=1.2,alpha=0.8)\n",
    "\n",
    "# mean_main_without_new_Elite\n",
    "x = 1+9*width+0.03\n",
    "ax.bar(x, mean_main_without_new_Elite, width,color='#f1a340',fill=1,yerr=error_main_without_new_Elite,error_kw = error_kw,\n",
    "      lw=1.2,alpha=0.8)\n",
    "\n",
    "# mean_asso_without_new\n",
    "x = 1+10*width+0.06\n",
    "ax.bar(x, mean_asso_without_new, width,color='#998ec3',hatch='/',fill=1,yerr=error_asso_without_new,error_kw = error_kw,\n",
    "      lw=1.2,alpha=0.8)\n",
    "\n",
    "# mean_asso_without_new_Elite\n",
    "x = 1+11*width+0.09\n",
    "ax.bar(x, mean_asso_without_new_Elite, width,color='#f1a340',hatch='/',fill=1,yerr=error_asso_without_new_Elite,error_kw = error_kw,\n",
    "      lw=1.2,alpha=0.8) #edgecolor='#f1a340',\n",
    "\n",
    "\n",
    "\n",
    "# # All with new topic\n",
    "# x_with_new_topic = np.array([1,1+2*width,1+4*width])\n",
    "# ax.bar(x_with_new_topic, [mean_main_with_new,mean_asso_with_new,mean_new_with_new], width,color='#998ec3',label='with_new_topic')\n",
    "\n",
    "# #Elite with new topic\n",
    "# x_with_new_topic = np.array([1+1*width,1+3*width,1+5*width])\n",
    "# ax.bar(x_with_new_topic, [mean_main_with_new_Elite,mean_asso_with_new_Elite,mean_new_with_new_Elite], width,color='#f1a340',label='with_new_topic')\n",
    "\n",
    "# # All without new topic\n",
    "# x_without_new_topic = np.array([1+7*width,1+9*width,1+11*width])\n",
    "# ax.bar(x_without_new_topic , [mean_main_without_new,mean_asso_without_new,mean_new_without_new], width,color='#998ec3',label='without_new_topic')\n",
    "\n",
    "# #Elite without new topic\n",
    "# x_without_new_topic = np.array([1+8*width,1+10*width,1+12*width])\n",
    "# ax.bar(x_without_new_topic , [mean_main_without_new_Elite,mean_asso_without_new_Elite,mean_new_without_new_Elite], width,color='#f1a340',label='without_new_topic')\n",
    "\n",
    "#fig ticks set\n",
    "# ax.legend(frameon=0,ncol=2,loc='upper left',fontsize=10.5)\n",
    "ax.set_ylim([0,1.0])\n",
    "ax.yaxis.set_major_locator(MultipleLocator(0.1))\n",
    "ax.yaxis.set_minor_locator(MultipleLocator(0.05))\n",
    "# 隐藏右侧和顶部边框\n",
    "ax.spines['right'].set_visible(False)\n",
    "ax.spines['top'].set_visible(False)\n",
    "# sns.despine(left=True, bottom=True)\n",
    "plt.grid(axis='y',alpha=0.6)\n",
    "ax.set_ylabel('the average ratio of credit')\n",
    "ax.set_xticks([1+2.5*width+0.07,1+9.5*width+0.04], classes,fontsize=14)\n",
    "plt.legend(frameon=0,ncol=2,fontsize=12)\n",
    "fig.savefig('result_data_plot/new_plot(202403)/High-impact (the average ratio of cits) (mergeplot 0530).pdf')\n",
    "plt.show()"
   ]
  },
  {
   "cell_type": "code",
   "execution_count": null,
   "id": "2b77759a-0133-4ebd-a446-7be451271cbf",
   "metadata": {},
   "outputs": [],
   "source": []
  },
  {
   "cell_type": "code",
   "execution_count": null,
   "id": "22e03299-b91d-4892-b94a-4de944492ceb",
   "metadata": {},
   "outputs": [],
   "source": []
  },
  {
   "cell_type": "code",
   "execution_count": null,
   "id": "9bfc932f-19ee-4b94-b10e-884f4995effc",
   "metadata": {},
   "outputs": [],
   "source": []
  },
  {
   "cell_type": "code",
   "execution_count": null,
   "id": "18407696-65f5-4e81-a1f6-4442f95c4de4",
   "metadata": {},
   "outputs": [],
   "source": []
  },
  {
   "cell_type": "code",
   "execution_count": null,
   "id": "43c06809-9d55-42eb-a9de-ae22875b27cd",
   "metadata": {},
   "outputs": [],
   "source": []
  },
  {
   "cell_type": "markdown",
   "id": "3e8abde0-cc9b-4bbc-8b2e-3a6e4518bb00",
   "metadata": {},
   "source": [
    "#### All"
   ]
  },
  {
   "cell_type": "code",
   "execution_count": 43,
   "id": "08cf25bd-15e3-42a0-a6d0-77b35453a883",
   "metadata": {
    "tags": []
   },
   "outputs": [],
   "source": [
    "key_data = pd.read_csv('Key_data.csv')"
   ]
  },
  {
   "cell_type": "code",
   "execution_count": 44,
   "id": "b7ff4163-9a15-4625-bc0a-890451e9e186",
   "metadata": {
    "tags": []
   },
   "outputs": [],
   "source": [
    "data_all = key_data[['mentee_id','mentor_id','credit_mte','type']]"
   ]
  },
  {
   "cell_type": "code",
   "execution_count": 45,
   "id": "d8ae2104-fd8b-4404-8995-79cd158922bf",
   "metadata": {
    "tags": []
   },
   "outputs": [],
   "source": [
    "with_new = data_all[['mentee_id','mentor_id']][data_all.type=='new'].drop_duplicates()\n",
    "with_all = data_all[['mentee_id','mentor_id']]\n",
    "\n",
    "with_all_tuple = set([tuple(k) for k in with_all.values]) \n",
    "with_new_tuple = set([tuple(k) for k in with_new.values])\n",
    "without_new = pd.DataFrame(list(with_all_tuple - with_new_tuple),columns=['mentee_id','mentor_id'])"
   ]
  },
  {
   "cell_type": "code",
   "execution_count": 46,
   "id": "eb12e4a1-5516-4b2f-ac0c-37259520ee46",
   "metadata": {
    "tags": []
   },
   "outputs": [],
   "source": [
    "def find_max(tp_df):\n",
    "    tp_df = tp_df.sort_values(by='credit_mte',ascending=0)\n",
    "    out_type = tp_df['type'].values[0]\n",
    "    return out_type"
   ]
  },
  {
   "cell_type": "code",
   "execution_count": 47,
   "id": "579931b0-fb0f-4d10-8d70-52f8ad3a9c70",
   "metadata": {
    "tags": []
   },
   "outputs": [],
   "source": [
    "with_new_all = with_new.merge(data_all,on=['mentee_id','mentor_id'],how='left')\n",
    "without_new_all = without_new.merge(data_all,on=['mentee_id','mentor_id'],how='left')"
   ]
  },
  {
   "cell_type": "code",
   "execution_count": 48,
   "id": "38ed32f2-6380-4ef7-b799-d0725f8fcbe4",
   "metadata": {
    "tags": []
   },
   "outputs": [],
   "source": [
    "type_max = with_new_all.groupby(['mentee_id','mentor_id']).apply(find_max).reset_index(name='type with max credit')\n",
    "type_max_count = type_max.groupby('type with max credit').size().reset_index(name='Count')\n",
    "type_max_count['ratio'] = type_max_count['Count']/len(type_max)\n",
    "type_max_count_with_new = type_max_count"
   ]
  },
  {
   "cell_type": "code",
   "execution_count": 49,
   "id": "a5be1b2c-2f44-4504-b46c-32e50c3a0bb7",
   "metadata": {
    "tags": []
   },
   "outputs": [],
   "source": [
    "type_max = without_new_all.groupby(['mentee_id','mentor_id']).apply(find_max).reset_index(name='type with max credit')\n",
    "type_max_count = type_max.groupby('type with max credit').size().reset_index(name='Count')\n",
    "type_max_count['ratio'] = type_max_count['Count']/len(type_max)\n",
    "type_max_count_without_new = type_max_count"
   ]
  },
  {
   "cell_type": "code",
   "execution_count": 50,
   "id": "0e7fb384-920d-4806-b45f-db04bfafbfe7",
   "metadata": {
    "tags": []
   },
   "outputs": [
    {
     "data": {
      "image/png": "[encoded data removed]",
      "text/plain": [
       "<Figure size 309x309 with 1 Axes>"
      ]
     },
     "metadata": {},
     "output_type": "display_data"
    }
   ],
   "source": [
    "classes = ['with_new_topic','without_new_topic']\n",
    "width = 0.3  # the width of the bars: can also be len(x) sequence\n",
    "\n",
    "#figure layout set\n",
    "fig, ax = plt.subplots(1,1,constrained_layout=True,figsize=[0.618*5,0.618*5])\n",
    "sns.set(style='ticks',font_scale=1.2, font='Arial')\n",
    "\n",
    "#plot\n",
    "x_main = np.array([1,1+5*width])\n",
    "y_main0 = np.array(type_max_count_with_new['ratio'][type_max_count_with_new['type with max credit']=='main'])[0]\n",
    "y_main1 = np.array(type_max_count_without_new['ratio'][type_max_count_without_new['type with max credit']=='main'])[0]\n",
    "ax.bar(x_main, [y_main0,y_main1], width,color=type_colors['main'],label='Primary')\n",
    "\n",
    "x_associate = np.array([1+width,1+6*width])\n",
    "# y_associate = np.array(type_max_count['ratio'][type_max_count['type with max credit']=='associate'])\n",
    "y_associate0 = np.array(type_max_count_with_new['ratio'][type_max_count_with_new['type with max credit']=='associate'])[0]\n",
    "y_associate1 = np.array(type_max_count_without_new['ratio'][type_max_count_without_new['type with max credit']=='associate'])[0]\n",
    "ax.bar(x_associate, [y_associate0,y_associate1], width,color=type_colors['asso'],label='Secondary')\n",
    "\n",
    "x_new = np.array([1+2*width,1+7*width])\n",
    "y_new0 = np.array(type_max_count_with_new['ratio'][type_max_count_with_new['type with max credit']=='new'])[0]\n",
    "y_new1 = np.array(0)\n",
    "ax.bar(x_new, [y_new0,y_new1], width,color=type_colors['new'],label='New')\n",
    "\n",
    "#fig ticks set\n",
    "ax.legend(frameon=0,ncol=2,loc='upper left',fontsize=10.5)\n",
    "ax.set_ylim([0,0.8])\n",
    "ax.yaxis.set_major_locator(MultipleLocator(0.1))\n",
    "ax.yaxis.set_minor_locator(MultipleLocator(0.025))\n",
    "plt.grid(axis='y',alpha=0.6)\n",
    "ax.set_ylabel('topic with maximal credit')\n",
    "ax.set_xticks([1+width,1+5.5*width], classes,fontsize=11)\n",
    "# ax.set_title(f'All')\n",
    "# fig.savefig('result_data_plot/new_plot(202403)/All (topic with maximal credit).pdf')\n",
    "plt.show()"
   ]
  },
  {
   "cell_type": "markdown",
   "id": "f51607e4-404a-49eb-95f1-b1debdb70a92",
   "metadata": {
    "tags": []
   },
   "source": [
    "#### High impact"
   ]
  },
  {
   "cell_type": "code",
   "execution_count": 51,
   "id": "9e4f88ae-e665-4d2c-9337-0b5beb319b9a",
   "metadata": {
    "tags": []
   },
   "outputs": [],
   "source": [
    "q10,q25,q50,q75,q95 = key_data['total_cits5_mte'].drop_duplicates().quantile([.1,.25,.5,.75,.95])\n",
    "elites = key_data[['mentee_id','mentor_id','credit_mte','type']][(key_data.total_cits5_mte>=q95)]\n",
    "                                             # &(key_data.total_credit_mte>=key_data.total_credit_mto)]"
   ]
  },
  {
   "cell_type": "code",
   "execution_count": 52,
   "id": "fa3091ae-7f39-4155-98a1-5014872fc40a",
   "metadata": {
    "tags": []
   },
   "outputs": [],
   "source": [
    "with_new = elites[['mentee_id','mentor_id']][elites.type=='new'].drop_duplicates()\n",
    "with_all = elites[['mentee_id','mentor_id']]\n",
    "\n",
    "with_all_tuple = set([tuple(k) for k in with_all.values]) \n",
    "with_new_tuple = set([tuple(k) for k in with_new.values])\n",
    "without_new = pd.DataFrame(list(with_all_tuple - with_new_tuple),columns=['mentee_id','mentor_id'])"
   ]
  },
  {
   "cell_type": "code",
   "execution_count": 53,
   "id": "a565d593-4486-4bf5-bdab-5b33faac80e7",
   "metadata": {
    "tags": []
   },
   "outputs": [],
   "source": [
    "with_new_all = with_new.merge(elites,on=['mentee_id','mentor_id'],how='left')\n",
    "without_new_all = without_new.merge(elites,on=['mentee_id','mentor_id'],how='left')"
   ]
  },
  {
   "cell_type": "code",
   "execution_count": 54,
   "id": "98ac6553-be5d-4292-addc-cdb8e1424f0e",
   "metadata": {
    "tags": []
   },
   "outputs": [],
   "source": [
    "type_max = with_new_all.groupby(['mentee_id','mentor_id']).apply(find_max).reset_index(name='type with max credit')\n",
    "type_max_count = type_max.groupby('type with max credit').size().reset_index(name='Count')\n",
    "type_max_count['ratio'] = type_max_count['Count']/len(type_max)\n",
    "type_max_count_with_new = type_max_count"
   ]
  },
  {
   "cell_type": "code",
   "execution_count": 55,
   "id": "cba57456-80d1-468f-8d4b-d492e61542a8",
   "metadata": {
    "tags": []
   },
   "outputs": [],
   "source": [
    "type_max = without_new_all.groupby(['mentee_id','mentor_id']).apply(find_max).reset_index(name='type with max credit')\n",
    "type_max_count = type_max.groupby('type with max credit').size().reset_index(name='Count')\n",
    "type_max_count['ratio'] = type_max_count['Count']/len(type_max)\n",
    "type_max_count_without_new = type_max_count"
   ]
  },
  {
   "cell_type": "code",
   "execution_count": 56,
   "id": "abc714b7-21f6-45ea-b933-881c165158d4",
   "metadata": {
    "tags": []
   },
   "outputs": [
    {
     "data": {
      "image/png": "[encoded data removed]",
      "text/plain": [
       "<Figure size 309x309 with 1 Axes>"
      ]
     },
     "metadata": {},
     "output_type": "display_data"
    }
   ],
   "source": [
    "classes = ['with_new_topic','without_new_topic']\n",
    "width = 0.3  # the width of the bars: can also be len(x) sequence\n",
    "\n",
    "#figure layout set\n",
    "fig, ax = plt.subplots(1,1,constrained_layout=True,figsize=[0.618*5,0.618*5])\n",
    "sns.set(style='ticks',font_scale=1.2, font='Arial')\n",
    "\n",
    "#plot\n",
    "x_main = np.array([1,1+5*width])\n",
    "y_main0 = np.array(type_max_count_with_new['ratio'][type_max_count_with_new['type with max credit']=='main'])[0]\n",
    "y_main1 = np.array(type_max_count_without_new['ratio'][type_max_count_without_new['type with max credit']=='main'])[0]\n",
    "ax.bar(x_main, [y_main0,y_main1], width,color=type_colors['main'],label='Primary',hatch='o')\n",
    "\n",
    "x_associate = np.array([1+width,1+6*width])\n",
    "# y_associate = np.array(type_max_count['ratio'][type_max_count['type with max credit']=='associate'])\n",
    "y_associate0 = np.array(type_max_count_with_new['ratio'][type_max_count_with_new['type with max credit']=='associate'])[0]\n",
    "y_associate1 = np.array(type_max_count_without_new['ratio'][type_max_count_without_new['type with max credit']=='associate'])[0]\n",
    "ax.bar(x_associate, [y_associate0,y_associate1], width,color=type_colors['asso'],label='Secondary',hatch='o')\n",
    "\n",
    "x_new = np.array([1+2*width,1+7*width])\n",
    "y_new0 = np.array(type_max_count_with_new['ratio'][type_max_count_with_new['type with max credit']=='new'])[0]\n",
    "y_new1 = np.array(0)\n",
    "ax.bar(x_new, [y_new0,y_new1], width,color=type_colors['new'],label='New',hatch='o')\n",
    "\n",
    "#fig ticks set\n",
    "ax.legend(frameon=0,ncol=2,loc='upper left',fontsize=10.5)\n",
    "ax.set_ylim([0,0.8])\n",
    "ax.yaxis.set_major_locator(MultipleLocator(0.1))\n",
    "ax.yaxis.set_minor_locator(MultipleLocator(0.025))\n",
    "plt.grid(axis='y',alpha=0.6)\n",
    "ax.set_ylabel('topic with maximal credit')\n",
    "ax.set_xticks([1+width,1+5.5*width], classes,fontsize=11)\n",
    "# ax.set_title(f'High-impact Surpasser')\n",
    "# fig.savefig('result_data_plot/new_plot(202403)/High-impact(topic with maximal credit).pdf')\n",
    "plt.show()"
   ]
  },
  {
   "cell_type": "code",
   "execution_count": null,
   "id": "1980b6d1-9a5d-4381-88b2-591ce8e72238",
   "metadata": {},
   "outputs": [],
   "source": []
  },
  {
   "cell_type": "code",
   "execution_count": null,
   "id": "8cf23f63-955c-40ea-b2ce-7959df6856bf",
   "metadata": {},
   "outputs": [],
   "source": []
  }
 ],
 "metadata": {
  "kernelspec": {
   "display_name": "myenv",
   "language": "python",
   "name": "myenv"
  },
  "language_info": {
   "codemirror_mode": {
    "name": "ipython",
    "version": 3
   },
   "file_extension": ".py",
   "mimetype": "text/x-python",
   "name": "python",
   "nbconvert_exporter": "python",
   "pygments_lexer": "ipython3",
   "version": "3.11.3"
  }
 },
 "nbformat": 4,
 "nbformat_minor": 5
}
