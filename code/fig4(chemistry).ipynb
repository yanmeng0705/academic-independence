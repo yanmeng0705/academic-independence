{
 "cells": [
  {
   "cell_type": "code",
   "execution_count": 1,
   "id": "d67620f8-a80b-456c-bae4-73a938c5944f",
   "metadata": {
    "tags": []
   },
   "outputs": [],
   "source": [
    "import pandas as pd\n",
    "import numpy as np"
   ]
  },
  {
   "cell_type": "code",
   "execution_count": 2,
   "id": "61b5937f-294d-4fb0-9679-799ba7c61725",
   "metadata": {
    "tags": []
   },
   "outputs": [],
   "source": [
    "key_data = pd.read_csv('Key_Data.csv')"
   ]
  },
  {
   "cell_type": "code",
   "execution_count": 3,
   "id": "3697f226-8d1f-431c-8307-be01981ac9d3",
   "metadata": {
    "tags": []
   },
   "outputs": [
    {
     "data": {
      "text/html": [
       "<div>\n",
       "<style scoped>\n",
       "    .dataframe tbody tr th:only-of-type {\n",
       "        vertical-align: middle;\n",
       "    }\n",
       "\n",
       "    .dataframe tbody tr th {\n",
       "        vertical-align: top;\n",
       "    }\n",
       "\n",
       "    .dataframe thead th {\n",
       "        text-align: right;\n",
       "    }\n",
       "</style>\n",
       "<table border=\"1\" class=\"dataframe\">\n",
       "  <thead>\n",
       "    <tr style=\"text-align: right;\">\n",
       "      <th></th>\n",
       "      <th>index_i</th>\n",
       "      <th>mentee_id</th>\n",
       "      <th>mentor_id</th>\n",
       "      <th>community</th>\n",
       "      <th>paper_num_mte</th>\n",
       "      <th>paper_num_mto</th>\n",
       "      <th>paper_ratio_mte</th>\n",
       "      <th>paper_ratio_mto</th>\n",
       "      <th>credit_mte</th>\n",
       "      <th>credit_mto</th>\n",
       "      <th>...</th>\n",
       "      <th>total_cits_mte</th>\n",
       "      <th>total_cits_mto</th>\n",
       "      <th>total_cits5_mte</th>\n",
       "      <th>total_cits5_mto</th>\n",
       "      <th>cits_mte</th>\n",
       "      <th>cits_mto</th>\n",
       "      <th>cits5_mte</th>\n",
       "      <th>cits5_mto</th>\n",
       "      <th>birthYear_mte</th>\n",
       "      <th>birthYear_mto</th>\n",
       "    </tr>\n",
       "  </thead>\n",
       "  <tbody>\n",
       "    <tr>\n",
       "      <th>0</th>\n",
       "      <td>0</td>\n",
       "      <td>A1964335128</td>\n",
       "      <td>A177689540</td>\n",
       "      <td>5.0</td>\n",
       "      <td>0</td>\n",
       "      <td>26</td>\n",
       "      <td>0.000000</td>\n",
       "      <td>1.0</td>\n",
       "      <td>0.000000</td>\n",
       "      <td>96.139683</td>\n",
       "      <td>...</td>\n",
       "      <td>7237.0</td>\n",
       "      <td>21415.0</td>\n",
       "      <td>4403.0</td>\n",
       "      <td>5485.0</td>\n",
       "      <td>0.0</td>\n",
       "      <td>1996.0</td>\n",
       "      <td>0.0</td>\n",
       "      <td>673.0</td>\n",
       "      <td>2004</td>\n",
       "      <td>1956</td>\n",
       "    </tr>\n",
       "    <tr>\n",
       "      <th>1</th>\n",
       "      <td>0</td>\n",
       "      <td>A1964335128</td>\n",
       "      <td>A177689540</td>\n",
       "      <td>3.0</td>\n",
       "      <td>0</td>\n",
       "      <td>42</td>\n",
       "      <td>0.000000</td>\n",
       "      <td>1.0</td>\n",
       "      <td>0.000000</td>\n",
       "      <td>150.796825</td>\n",
       "      <td>...</td>\n",
       "      <td>7237.0</td>\n",
       "      <td>21415.0</td>\n",
       "      <td>4403.0</td>\n",
       "      <td>5485.0</td>\n",
       "      <td>0.0</td>\n",
       "      <td>1276.0</td>\n",
       "      <td>0.0</td>\n",
       "      <td>264.0</td>\n",
       "      <td>2004</td>\n",
       "      <td>1956</td>\n",
       "    </tr>\n",
       "    <tr>\n",
       "      <th>2</th>\n",
       "      <td>0</td>\n",
       "      <td>A1964335128</td>\n",
       "      <td>A177689540</td>\n",
       "      <td>6.0</td>\n",
       "      <td>25</td>\n",
       "      <td>0</td>\n",
       "      <td>1.000000</td>\n",
       "      <td>0.0</td>\n",
       "      <td>523.366667</td>\n",
       "      <td>0.000000</td>\n",
       "      <td>...</td>\n",
       "      <td>7237.0</td>\n",
       "      <td>21415.0</td>\n",
       "      <td>4403.0</td>\n",
       "      <td>5485.0</td>\n",
       "      <td>4163.0</td>\n",
       "      <td>0.0</td>\n",
       "      <td>2469.0</td>\n",
       "      <td>0.0</td>\n",
       "      <td>2004</td>\n",
       "      <td>1956</td>\n",
       "    </tr>\n",
       "    <tr>\n",
       "      <th>3</th>\n",
       "      <td>0</td>\n",
       "      <td>A1964335128</td>\n",
       "      <td>A177689540</td>\n",
       "      <td>1.0</td>\n",
       "      <td>0</td>\n",
       "      <td>62</td>\n",
       "      <td>0.000000</td>\n",
       "      <td>1.0</td>\n",
       "      <td>0.000000</td>\n",
       "      <td>175.473810</td>\n",
       "      <td>...</td>\n",
       "      <td>7237.0</td>\n",
       "      <td>21415.0</td>\n",
       "      <td>4403.0</td>\n",
       "      <td>5485.0</td>\n",
       "      <td>0.0</td>\n",
       "      <td>5142.0</td>\n",
       "      <td>0.0</td>\n",
       "      <td>806.0</td>\n",
       "      <td>2004</td>\n",
       "      <td>1956</td>\n",
       "    </tr>\n",
       "    <tr>\n",
       "      <th>4</th>\n",
       "      <td>0</td>\n",
       "      <td>A1964335128</td>\n",
       "      <td>A177689540</td>\n",
       "      <td>0.0</td>\n",
       "      <td>8</td>\n",
       "      <td>107</td>\n",
       "      <td>0.074766</td>\n",
       "      <td>1.0</td>\n",
       "      <td>132.846429</td>\n",
       "      <td>724.462374</td>\n",
       "      <td>...</td>\n",
       "      <td>7237.0</td>\n",
       "      <td>21415.0</td>\n",
       "      <td>4403.0</td>\n",
       "      <td>5485.0</td>\n",
       "      <td>1817.0</td>\n",
       "      <td>8735.0</td>\n",
       "      <td>795.0</td>\n",
       "      <td>2880.0</td>\n",
       "      <td>2004</td>\n",
       "      <td>1956</td>\n",
       "    </tr>\n",
       "  </tbody>\n",
       "</table>\n",
       "<p>5 rows × 25 columns</p>\n",
       "</div>"
      ],
      "text/plain": [
       "   index_i    mentee_id   mentor_id  community  paper_num_mte  paper_num_mto  \\\n",
       "0        0  A1964335128  A177689540        5.0              0             26   \n",
       "1        0  A1964335128  A177689540        3.0              0             42   \n",
       "2        0  A1964335128  A177689540        6.0             25              0   \n",
       "3        0  A1964335128  A177689540        1.0              0             62   \n",
       "4        0  A1964335128  A177689540        0.0              8            107   \n",
       "\n",
       "   paper_ratio_mte  paper_ratio_mto  credit_mte  credit_mto  ...  \\\n",
       "0         0.000000              1.0    0.000000   96.139683  ...   \n",
       "1         0.000000              1.0    0.000000  150.796825  ...   \n",
       "2         1.000000              0.0  523.366667    0.000000  ...   \n",
       "3         0.000000              1.0    0.000000  175.473810  ...   \n",
       "4         0.074766              1.0  132.846429  724.462374  ...   \n",
       "\n",
       "   total_cits_mte  total_cits_mto  total_cits5_mte  total_cits5_mto cits_mte  \\\n",
       "0          7237.0         21415.0           4403.0           5485.0      0.0   \n",
       "1          7237.0         21415.0           4403.0           5485.0      0.0   \n",
       "2          7237.0         21415.0           4403.0           5485.0   4163.0   \n",
       "3          7237.0         21415.0           4403.0           5485.0      0.0   \n",
       "4          7237.0         21415.0           4403.0           5485.0   1817.0   \n",
       "\n",
       "   cits_mto  cits5_mte  cits5_mto  birthYear_mte  birthYear_mto  \n",
       "0    1996.0        0.0      673.0           2004           1956  \n",
       "1    1276.0        0.0      264.0           2004           1956  \n",
       "2       0.0     2469.0        0.0           2004           1956  \n",
       "3    5142.0        0.0      806.0           2004           1956  \n",
       "4    8735.0      795.0     2880.0           2004           1956  \n",
       "\n",
       "[5 rows x 25 columns]"
      ]
     },
     "execution_count": 3,
     "metadata": {},
     "output_type": "execute_result"
    }
   ],
   "source": [
    "key_data.head(5)"
   ]
  },
  {
   "cell_type": "code",
   "execution_count": 4,
   "id": "a8c4d374-1a53-425c-81a6-c99d28225fb4",
   "metadata": {
    "tags": []
   },
   "outputs": [
    {
     "data": {
      "text/plain": [
       "Index(['index_i', 'mentee_id', 'mentor_id', 'community', 'paper_num_mte',\n",
       "       'paper_num_mto', 'paper_ratio_mte', 'paper_ratio_mto', 'credit_mte',\n",
       "       'credit_mto', 'communitys_paper_num_mto', 'communitys_paper_num_mte',\n",
       "       'total_credit_mte', 'total_credit_mto', 'type', 'total_cits_mte',\n",
       "       'total_cits_mto', 'total_cits5_mte', 'total_cits5_mto', 'cits_mte',\n",
       "       'cits_mto', 'cits5_mte', 'cits5_mto', 'birthYear_mte', 'birthYear_mto'],\n",
       "      dtype='object')"
      ]
     },
     "execution_count": 4,
     "metadata": {},
     "output_type": "execute_result"
    }
   ],
   "source": [
    "key_data.columns"
   ]
  },
  {
   "cell_type": "code",
   "execution_count": 5,
   "id": "15d5f89f-0f55-45ea-8553-13c341b6116f",
   "metadata": {
    "tags": []
   },
   "outputs": [],
   "source": [
    "mentee_mentor_impact = key_data[['mentee_id','mentor_id','total_credit_mte','total_credit_mto','total_cits5_mte']].drop_duplicates().sort_values(by='total_credit_mte')#.values"
   ]
  },
  {
   "cell_type": "code",
   "execution_count": 6,
   "id": "24daef0f-e3a4-42db-8a3d-c4c448477858",
   "metadata": {
    "tags": []
   },
   "outputs": [],
   "source": [
    "q10,q25,q50,q75,q90 = mentee_mentor_impact['total_cits5_mte'].quantile([.1,.25,.5,.75,.90])"
   ]
  },
  {
   "cell_type": "code",
   "execution_count": 7,
   "id": "2d6c4938-d5ad-44be-9d48-340302adf0da",
   "metadata": {
    "tags": []
   },
   "outputs": [
    {
     "data": {
      "text/plain": [
       "(49628, 5)"
      ]
     },
     "execution_count": 7,
     "metadata": {},
     "output_type": "execute_result"
    }
   ],
   "source": [
    "mentee_mentor_impact.shape"
   ]
  },
  {
   "cell_type": "code",
   "execution_count": 8,
   "id": "58ad76b8-56fa-46fc-b424-329a846f1380",
   "metadata": {
    "tags": []
   },
   "outputs": [
    {
     "data": {
      "text/html": [
       "<div>\n",
       "<style scoped>\n",
       "    .dataframe tbody tr th:only-of-type {\n",
       "        vertical-align: middle;\n",
       "    }\n",
       "\n",
       "    .dataframe tbody tr th {\n",
       "        vertical-align: top;\n",
       "    }\n",
       "\n",
       "    .dataframe thead th {\n",
       "        text-align: right;\n",
       "    }\n",
       "</style>\n",
       "<table border=\"1\" class=\"dataframe\">\n",
       "  <thead>\n",
       "    <tr style=\"text-align: right;\">\n",
       "      <th></th>\n",
       "      <th>mentee_id</th>\n",
       "      <th>mentor_id</th>\n",
       "      <th>total_credit_mte</th>\n",
       "      <th>total_credit_mto</th>\n",
       "      <th>total_cits5_mte</th>\n",
       "    </tr>\n",
       "  </thead>\n",
       "  <tbody>\n",
       "    <tr>\n",
       "      <th>156561</th>\n",
       "      <td>A2122109029</td>\n",
       "      <td>A1933066897</td>\n",
       "      <td>37.983333</td>\n",
       "      <td>2366.164286</td>\n",
       "      <td>519.0</td>\n",
       "    </tr>\n",
       "    <tr>\n",
       "      <th>3467</th>\n",
       "      <td>A2047669370</td>\n",
       "      <td>A1913387347</td>\n",
       "      <td>50.196429</td>\n",
       "      <td>112.112049</td>\n",
       "      <td>1053.0</td>\n",
       "    </tr>\n",
       "    <tr>\n",
       "      <th>136146</th>\n",
       "      <td>A2167792332</td>\n",
       "      <td>A2162897294</td>\n",
       "      <td>106.340079</td>\n",
       "      <td>4591.443786</td>\n",
       "      <td>1615.0</td>\n",
       "    </tr>\n",
       "    <tr>\n",
       "      <th>71907</th>\n",
       "      <td>A2122860508</td>\n",
       "      <td>A2093201198</td>\n",
       "      <td>121.117857</td>\n",
       "      <td>588.097680</td>\n",
       "      <td>2011.0</td>\n",
       "    </tr>\n",
       "    <tr>\n",
       "      <th>61138</th>\n",
       "      <td>A2582354219</td>\n",
       "      <td>A2041832096</td>\n",
       "      <td>45.241270</td>\n",
       "      <td>809.267796</td>\n",
       "      <td>788.0</td>\n",
       "    </tr>\n",
       "  </tbody>\n",
       "</table>\n",
       "</div>"
      ],
      "text/plain": [
       "          mentee_id    mentor_id  total_credit_mte  total_credit_mto  \\\n",
       "156561  A2122109029  A1933066897         37.983333       2366.164286   \n",
       "3467    A2047669370  A1913387347         50.196429        112.112049   \n",
       "136146  A2167792332  A2162897294        106.340079       4591.443786   \n",
       "71907   A2122860508  A2093201198        121.117857        588.097680   \n",
       "61138   A2582354219  A2041832096         45.241270        809.267796   \n",
       "\n",
       "        total_cits5_mte  \n",
       "156561            519.0  \n",
       "3467             1053.0  \n",
       "136146           1615.0  \n",
       "71907            2011.0  \n",
       "61138             788.0  "
      ]
     },
     "execution_count": 8,
     "metadata": {},
     "output_type": "execute_result"
    }
   ],
   "source": [
    "mentee_mentor_impact.sample(5)"
   ]
  },
  {
   "cell_type": "markdown",
   "id": "c3b89f6a-e07e-4c9d-b2e5-6bc634cf8a66",
   "metadata": {},
   "source": [
    "##### surpasser"
   ]
  },
  {
   "cell_type": "code",
   "execution_count": 9,
   "id": "8e2af285-e4c8-437c-98ca-148d2e5b43e9",
   "metadata": {
    "tags": []
   },
   "outputs": [],
   "source": [
    "mentee_mentor = mentee_mentor_impact[['mentee_id','mentor_id']][mentee_mentor_impact.total_credit_mte>=mentee_mentor_impact.total_credit_mto].drop_duplicates().values"
   ]
  },
  {
   "cell_type": "code",
   "execution_count": 10,
   "id": "efb5098d-b108-4148-82bb-70695e7af4c8",
   "metadata": {
    "tags": []
   },
   "outputs": [
    {
     "data": {
      "text/plain": [
       "8595"
      ]
     },
     "execution_count": 10,
     "metadata": {},
     "output_type": "execute_result"
    }
   ],
   "source": [
    "len(mentee_mentor)"
   ]
  },
  {
   "cell_type": "markdown",
   "id": "37208a64-259c-4560-b0ee-171c42f7d917",
   "metadata": {},
   "source": [
    "##### high-impact & surpasser"
   ]
  },
  {
   "cell_type": "code",
   "execution_count": 11,
   "id": "0fa0702b-2b67-4819-ab76-1b5d40375bb6",
   "metadata": {
    "tags": []
   },
   "outputs": [],
   "source": [
    "mentee_mentor = mentee_mentor_impact[['mentee_id','mentor_id']][(mentee_mentor_impact.total_credit_mte>=mentee_mentor_impact.total_credit_mto)&(mentee_mentor_impact.total_cits5_mte>=q75)].drop_duplicates().values"
   ]
  },
  {
   "cell_type": "code",
   "execution_count": 12,
   "id": "ec629329-9015-4bb7-84e0-533f27d73316",
   "metadata": {
    "tags": []
   },
   "outputs": [
    {
     "data": {
      "text/plain": [
       "4860"
      ]
     },
     "execution_count": 12,
     "metadata": {},
     "output_type": "execute_result"
    }
   ],
   "source": [
    "len(mentee_mentor)"
   ]
  },
  {
   "cell_type": "code",
   "execution_count": 13,
   "id": "d9d030dc-9686-4b8f-ae41-a1f22576ccda",
   "metadata": {
    "tags": []
   },
   "outputs": [
    {
     "data": {
      "text/plain": [
       "array([['A2104007745', 'A2046609805'],\n",
       "       ['A2154929074', 'A2780323688'],\n",
       "       ['A2118141586', 'A2145845926'],\n",
       "       ...,\n",
       "       ['A1863347785', 'A2008924823'],\n",
       "       ['A1953941416', 'A1990762364'],\n",
       "       ['A1953941416', 'A2164703361']], dtype=object)"
      ]
     },
     "execution_count": 13,
     "metadata": {},
     "output_type": "execute_result"
    }
   ],
   "source": [
    "mentee_mentor"
   ]
  },
  {
   "cell_type": "code",
   "execution_count": 16,
   "id": "6374420b-eb79-4669-8935-d98a216b5334",
   "metadata": {
    "tags": []
   },
   "outputs": [
    {
     "data": {
      "text/plain": [
       "Text(0.5, 1.0, 'the first publication year of elites')"
      ]
     },
     "execution_count": 16,
     "metadata": {},
     "output_type": "execute_result"
    },
    {
     "data": {
      "image/png": "[encoded data removed]",
      "text/plain": [
       "<Figure size 640x480 with 1 Axes>"
      ]
     },
     "metadata": {},
     "output_type": "display_data"
    }
   ],
   "source": [
    "import matplotlib.pyplot as plt\n",
    "t_test = key_data[['mentee_id','birthYear_mte']][key_data.mentee_id.isin(mentee_mentor[:,1])].drop_duplicates()\n",
    "a = plt.hist(t_test.birthYear_mte,bins=30,range=[1960,2020])\n",
    "plt.ylabel('Count')\n",
    "plt.title('the first publication year of elites')"
   ]
  },
  {
   "cell_type": "code",
   "execution_count": 13,
   "id": "34382299-ec69-49a3-8655-d318dd38b9ea",
   "metadata": {
    "scrolled": true,
    "tags": []
   },
   "outputs": [],
   "source": [
    "# all_main_cits5_mte.to_csv('elites_main_credit_mte.csv',index=0)\n",
    "# all_asso_cits5_mte.to_csv('elites_asso_credit_mte.csv',index=0)\n",
    "# all_new_cits5_mte.to_csv('elites_new_credit_mte.csv',index=0)"
   ]
  },
  {
   "cell_type": "code",
   "execution_count": 14,
   "id": "d2db6b36-fcf4-444e-bd28-1125f8a6d618",
   "metadata": {
    "tags": []
   },
   "outputs": [],
   "source": [
    "# all_main_cits5_mte = Main_credit\n",
    "# all_asso_cits5_mte = Asso_credit\n",
    "# all_new_cits5_mte = New_credit\n",
    "\n",
    "all_main_cits5 = pd.read_csv('elites_main_credit_mte.csv')\n",
    "all_asso_cits5 = pd.read_csv('elites_asso_credit_mte.csv')\n",
    "all_new_cits5 = pd.read_csv('elites_new_credit_mte.csv')"
   ]
  },
  {
   "cell_type": "code",
   "execution_count": 15,
   "id": "8f2b48d2-95fd-4c18-8dc7-09e7d339bd0c",
   "metadata": {
    "tags": []
   },
   "outputs": [
    {
     "data": {
      "text/html": [
       "<div>\n",
       "<style scoped>\n",
       "    .dataframe tbody tr th:only-of-type {\n",
       "        vertical-align: middle;\n",
       "    }\n",
       "\n",
       "    .dataframe tbody tr th {\n",
       "        vertical-align: top;\n",
       "    }\n",
       "\n",
       "    .dataframe thead th {\n",
       "        text-align: right;\n",
       "    }\n",
       "</style>\n",
       "<table border=\"1\" class=\"dataframe\">\n",
       "  <thead>\n",
       "    <tr style=\"text-align: right;\">\n",
       "      <th></th>\n",
       "      <th>mentee_id</th>\n",
       "      <th>weight_frac_credit</th>\n",
       "      <th>career_age</th>\n",
       "      <th>type</th>\n",
       "    </tr>\n",
       "  </thead>\n",
       "  <tbody>\n",
       "    <tr>\n",
       "      <th>0</th>\n",
       "      <td>A2055177396</td>\n",
       "      <td>3.285714</td>\n",
       "      <td>0</td>\n",
       "      <td>main</td>\n",
       "    </tr>\n",
       "    <tr>\n",
       "      <th>1</th>\n",
       "      <td>A2055177396</td>\n",
       "      <td>3.250000</td>\n",
       "      <td>0</td>\n",
       "      <td>main</td>\n",
       "    </tr>\n",
       "    <tr>\n",
       "      <th>2</th>\n",
       "      <td>A2055177396</td>\n",
       "      <td>2.000000</td>\n",
       "      <td>1</td>\n",
       "      <td>main</td>\n",
       "    </tr>\n",
       "    <tr>\n",
       "      <th>3</th>\n",
       "      <td>A2055177396</td>\n",
       "      <td>0.142857</td>\n",
       "      <td>2</td>\n",
       "      <td>main</td>\n",
       "    </tr>\n",
       "    <tr>\n",
       "      <th>4</th>\n",
       "      <td>A2055177396</td>\n",
       "      <td>0.333333</td>\n",
       "      <td>2</td>\n",
       "      <td>main</td>\n",
       "    </tr>\n",
       "  </tbody>\n",
       "</table>\n",
       "</div>"
      ],
      "text/plain": [
       "     mentee_id  weight_frac_credit  career_age  type\n",
       "0  A2055177396            3.285714           0  main\n",
       "1  A2055177396            3.250000           0  main\n",
       "2  A2055177396            2.000000           1  main\n",
       "3  A2055177396            0.142857           2  main\n",
       "4  A2055177396            0.333333           2  main"
      ]
     },
     "execution_count": 15,
     "metadata": {},
     "output_type": "execute_result"
    }
   ],
   "source": [
    "all_main_cits5.head(5)"
   ]
  },
  {
   "cell_type": "code",
   "execution_count": 16,
   "id": "83110d38-77dc-44ca-a8b9-7ef031b9a8d9",
   "metadata": {
    "tags": []
   },
   "outputs": [
    {
     "data": {
      "text/plain": [
       "110455"
      ]
     },
     "execution_count": 16,
     "metadata": {},
     "output_type": "execute_result"
    }
   ],
   "source": [
    "len(all_main_cits5)"
   ]
  },
  {
   "cell_type": "code",
   "execution_count": 17,
   "id": "c95814ae-bd5b-4439-8578-9ef6847c8487",
   "metadata": {
    "tags": []
   },
   "outputs": [
    {
     "data": {
      "text/plain": [
       "532855"
      ]
     },
     "execution_count": 17,
     "metadata": {},
     "output_type": "execute_result"
    }
   ],
   "source": [
    "len(all_asso_cits5)"
   ]
  },
  {
   "cell_type": "code",
   "execution_count": 18,
   "id": "ddc5c27a-68de-4629-b27a-be566fc5f7fb",
   "metadata": {
    "tags": []
   },
   "outputs": [
    {
     "data": {
      "text/plain": [
       "646597"
      ]
     },
     "execution_count": 18,
     "metadata": {},
     "output_type": "execute_result"
    }
   ],
   "source": [
    "len(all_new_cits5)"
   ]
  },
  {
   "cell_type": "code",
   "execution_count": 19,
   "id": "ffe46408-d768-48c7-8420-fd7aae89cf6f",
   "metadata": {
    "tags": []
   },
   "outputs": [
    {
     "name": "stdout",
     "output_type": "stream",
     "text": [
      "5.300204913761735\n",
      "6.939748888270694\n",
      "5.32653585974012\n"
     ]
    }
   ],
   "source": [
    "print(np.mean(all_main_cits5.weight_frac_credit))\n",
    "print(np.mean(all_asso_cits5.weight_frac_credit))\n",
    "print(np.mean(all_new_cits5.weight_frac_credit))"
   ]
  },
  {
   "cell_type": "markdown",
   "id": "d9641cc7-cb2c-4bc2-903e-6c1ddeb34657",
   "metadata": {},
   "source": [
    "#### cumu. firstly, then average"
   ]
  },
  {
   "cell_type": "code",
   "execution_count": 20,
   "id": "4dd93222-edf2-44cc-a8a7-5256d5643c9d",
   "metadata": {
    "tags": []
   },
   "outputs": [],
   "source": [
    "def cumsum_cits5(tp_df):\n",
    "    ave_cits5 = tp_df.groupby('career_age')['weight_frac_credit'].agg('sum').reset_index(name='weight_frac_credit')\n",
    "    cumsum_cits5 = ave_cits5.cumsum()['weight_frac_credit']\n",
    "    try:\n",
    "        ave_cits5['cumu. credit'] = cumsum_cits5\n",
    "    except:\n",
    "        ave_cits5 = 'error'\n",
    "    \n",
    "    ave_cits5 = ave_cits5.values\n",
    "    \n",
    "    return ave_cits5"
   ]
  },
  {
   "cell_type": "code",
   "execution_count": 21,
   "id": "23b3c03f-4c36-4cfd-9b01-fa3996ee574e",
   "metadata": {
    "tags": []
   },
   "outputs": [],
   "source": [
    "temp_main_mte = all_main_cits5.groupby('mentee_id').apply(cumsum_cits5).reset_index(name='weight_frac_credit')\n",
    "\n",
    "cumu_cits5_info_mte = pd.DataFrame([],columns=['career_age','weight_frac_credit','cumu_credit','mentee_id'])\n",
    "for k in temp_main_mte.values:\n",
    "    mentee_id = k[0]\n",
    "    mentee_cits_info = k[1]\n",
    "    \n",
    "    \n",
    "    mentee_cits_info = pd.DataFrame(mentee_cits_info,columns=['career_age','weight_frac_credit','cumu_credit'])\n",
    "    career_len = int(max(mentee_cits_info.career_age))\n",
    "    # print(career_len)\n",
    "    age_list = list(range(career_len))\n",
    "    zero_cits5 = np.array(list(set(age_list) - set(mentee_cits_info.career_age)))\n",
    "    zero_cits5_ = zero_cits5 - 1\n",
    "    temp = mentee_cits_info[mentee_cits_info.career_age.isin(zero_cits5_)]\n",
    "    temp.loc[:,'career_age'] = np.array(temp['career_age']) + 1\n",
    "    temp.loc[:,'weight_frac_credit'] = 0\n",
    "    mentee_cits_info = pd.concat((mentee_cits_info,temp)).sort_values(by='career_age')\n",
    "    \n",
    "    mentee_cits_info.loc[:,'mentee_id'] = mentee_id\n",
    "    \n",
    "    cumu_cits5_info_mte = pd.concat((cumu_cits5_info_mte,mentee_cits_info))\n",
    "mte_evolution = cumu_cits5_info_mte.groupby('career_age')[['weight_frac_credit','cumu_credit']].agg('mean').reset_index()\n",
    "mte_main_evolution = mte_evolution[mte_evolution.career_age<100]"
   ]
  },
  {
   "cell_type": "code",
   "execution_count": 22,
   "id": "a78c889d-4307-42f7-9f90-c609733eb64e",
   "metadata": {
    "tags": []
   },
   "outputs": [],
   "source": [
    "temp_asso_mte = all_asso_cits5.groupby('mentee_id').apply(cumsum_cits5).reset_index(name='weight_frac_credit')\n",
    "\n",
    "cumu_cits5_info_mte = pd.DataFrame([],columns=['career_age','weight_frac_credit','cumu_credit','mentee_id'])\n",
    "for k in temp_asso_mte.values:\n",
    "    mentee_id = k[0]\n",
    "    mentee_cits_info = k[1]\n",
    "    \n",
    "    \n",
    "    mentee_cits_info = pd.DataFrame(mentee_cits_info,columns=['career_age','weight_frac_credit','cumu_credit'])\n",
    "    career_len = int(max(mentee_cits_info.career_age))\n",
    "    # print(career_len)\n",
    "    age_list = list(range(career_len))\n",
    "    zero_cits5 = np.array(list(set(age_list) - set(mentee_cits_info.career_age)))\n",
    "    zero_cits5_ = zero_cits5 - 1\n",
    "    temp = mentee_cits_info[mentee_cits_info.career_age.isin(zero_cits5_)]\n",
    "    temp.loc[:,'career_age'] = np.array(temp['career_age']) + 1\n",
    "    temp.loc[:,'weight_frac_credit'] = 0\n",
    "    mentee_cits_info = pd.concat((mentee_cits_info,temp)).sort_values(by='career_age')\n",
    "    \n",
    "    mentee_cits_info.loc[:,'mentee_id'] = mentee_id\n",
    "    \n",
    "    cumu_cits5_info_mte = pd.concat((cumu_cits5_info_mte,mentee_cits_info))\n",
    "\n",
    "mte_evolution = cumu_cits5_info_mte.groupby('career_age')[['weight_frac_credit','cumu_credit']].agg('mean').reset_index()\n",
    "mte_asso_evolution = mte_evolution[mte_evolution.career_age<100]"
   ]
  },
  {
   "cell_type": "code",
   "execution_count": 23,
   "id": "720c6a09-b587-4bcd-89b7-9fa9d8026728",
   "metadata": {
    "tags": []
   },
   "outputs": [],
   "source": [
    "temp_new_mte = all_new_cits5.groupby('mentee_id').apply(cumsum_cits5).reset_index(name='weight_frac_credit')\n",
    "\n",
    "cumu_cits5_info_mte = pd.DataFrame([],columns=['career_age','weight_frac_credit','cumu_credit','mentee_id'])\n",
    "for k in temp_new_mte.values:\n",
    "    mentee_id = k[0]\n",
    "    mentee_cits_info = k[1]\n",
    "    \n",
    "    \n",
    "    mentee_cits_info = pd.DataFrame(mentee_cits_info,columns=['career_age','weight_frac_credit','cumu_credit'])\n",
    "    career_len = int(max(mentee_cits_info.career_age))\n",
    "    # print(career_len)\n",
    "    age_list = list(range(career_len))\n",
    "    zero_cits5 = np.array(list(set(age_list) - set(mentee_cits_info.career_age)))\n",
    "    zero_cits5_ = zero_cits5 - 1\n",
    "    temp = mentee_cits_info[mentee_cits_info.career_age.isin(zero_cits5_)]\n",
    "    temp.loc[:,'career_age'] = np.array(temp['career_age']) + 1\n",
    "    temp.loc[:,'weight_frac_credit'] = 0\n",
    "    mentee_cits_info = pd.concat((mentee_cits_info,temp)).sort_values(by='career_age')\n",
    "    \n",
    "    mentee_cits_info.loc[:,'mentee_id'] = mentee_id\n",
    "    \n",
    "    cumu_cits5_info_mte = pd.concat((cumu_cits5_info_mte,mentee_cits_info))\n",
    "\n",
    "mte_evolution = cumu_cits5_info_mte.groupby('career_age')[['weight_frac_credit','cumu_credit']].agg('mean').reset_index()\n",
    "mte_new_evolution = mte_evolution[mte_evolution.career_age<100]"
   ]
  },
  {
   "cell_type": "code",
   "execution_count": 24,
   "id": "73036963-6435-4a81-be0a-83d6f4d25eda",
   "metadata": {
    "tags": []
   },
   "outputs": [
    {
     "data": {
      "text/html": [
       "<div>\n",
       "<style scoped>\n",
       "    .dataframe tbody tr th:only-of-type {\n",
       "        vertical-align: middle;\n",
       "    }\n",
       "\n",
       "    .dataframe tbody tr th {\n",
       "        vertical-align: top;\n",
       "    }\n",
       "\n",
       "    .dataframe thead th {\n",
       "        text-align: right;\n",
       "    }\n",
       "</style>\n",
       "<table border=\"1\" class=\"dataframe\">\n",
       "  <thead>\n",
       "    <tr style=\"text-align: right;\">\n",
       "      <th></th>\n",
       "      <th>career_age</th>\n",
       "      <th>weight_frac_credit</th>\n",
       "      <th>cumu_credit</th>\n",
       "      <th>mentee_id</th>\n",
       "    </tr>\n",
       "  </thead>\n",
       "  <tbody>\n",
       "    <tr>\n",
       "      <th>0</th>\n",
       "      <td>8.0</td>\n",
       "      <td>14.916667</td>\n",
       "      <td>14.916667</td>\n",
       "      <td>A100328954</td>\n",
       "    </tr>\n",
       "    <tr>\n",
       "      <th>0</th>\n",
       "      <td>9.0</td>\n",
       "      <td>0.000000</td>\n",
       "      <td>14.916667</td>\n",
       "      <td>A100328954</td>\n",
       "    </tr>\n",
       "    <tr>\n",
       "      <th>1</th>\n",
       "      <td>12.0</td>\n",
       "      <td>4.000000</td>\n",
       "      <td>18.916667</td>\n",
       "      <td>A100328954</td>\n",
       "    </tr>\n",
       "    <tr>\n",
       "      <th>2</th>\n",
       "      <td>13.0</td>\n",
       "      <td>8.400000</td>\n",
       "      <td>27.316667</td>\n",
       "      <td>A100328954</td>\n",
       "    </tr>\n",
       "    <tr>\n",
       "      <th>3</th>\n",
       "      <td>14.0</td>\n",
       "      <td>1520.000000</td>\n",
       "      <td>1547.316667</td>\n",
       "      <td>A100328954</td>\n",
       "    </tr>\n",
       "  </tbody>\n",
       "</table>\n",
       "</div>"
      ],
      "text/plain": [
       "   career_age  weight_frac_credit  cumu_credit   mentee_id\n",
       "0         8.0           14.916667    14.916667  A100328954\n",
       "0         9.0            0.000000    14.916667  A100328954\n",
       "1        12.0            4.000000    18.916667  A100328954\n",
       "2        13.0            8.400000    27.316667  A100328954\n",
       "3        14.0         1520.000000  1547.316667  A100328954"
      ]
     },
     "execution_count": 24,
     "metadata": {},
     "output_type": "execute_result"
    }
   ],
   "source": [
    "cumu_cits5_info_mte.head(5)"
   ]
  },
  {
   "cell_type": "markdown",
   "id": "801aa14d-491f-41c0-90a5-2762162b0b27",
   "metadata": {},
   "source": [
    "### Done"
   ]
  },
  {
   "cell_type": "markdown",
   "id": "9cea2fab-2e28-473d-b4cf-088a517a75d1",
   "metadata": {},
   "source": [
    "### Mentor Credit"
   ]
  },
  {
   "cell_type": "code",
   "execution_count": 25,
   "id": "d7384786-1802-4906-ad22-6d3d8b6f38f7",
   "metadata": {
    "tags": []
   },
   "outputs": [],
   "source": [
    "# all_main_cits5 =  Main_credit\n",
    "# all_asso_cits5 = Asso_credit\n",
    "# all_new_cits5 = New_credit\n",
    "\n",
    "all_main_cits5 = pd.read_csv('elites_main_credit_mto.csv')\n",
    "all_asso_cits5 = pd.read_csv('elites_asso_credit_mto.csv')\n",
    "all_new_cits5 = pd.read_csv('elites_new_credit_mto.csv')"
   ]
  },
  {
   "cell_type": "code",
   "execution_count": 26,
   "id": "da4092f2-ea9a-4dbc-ac62-2222df0623f1",
   "metadata": {
    "tags": []
   },
   "outputs": [
    {
     "name": "stdout",
     "output_type": "stream",
     "text": [
      "444694\n",
      "141088\n",
      "0\n"
     ]
    }
   ],
   "source": [
    "print(len(all_main_cits5))\n",
    "print(len(all_asso_cits5))\n",
    "print(len(all_new_cits5))"
   ]
  },
  {
   "cell_type": "code",
   "execution_count": 27,
   "id": "562a3341-9f33-43bb-89bb-82c3130d2460",
   "metadata": {
    "tags": []
   },
   "outputs": [
    {
     "name": "stdout",
     "output_type": "stream",
     "text": [
      "4.308845626153479\n",
      "3.6145752685717594\n",
      "nan\n"
     ]
    }
   ],
   "source": [
    "print(np.mean(all_main_cits5.weight_frac_credit))\n",
    "print(np.mean(all_asso_cits5.weight_frac_credit))\n",
    "print(np.mean(all_new_cits5.weight_frac_credit))"
   ]
  },
  {
   "cell_type": "code",
   "execution_count": 28,
   "id": "d5711152-4157-4555-b158-1ec5bb603728",
   "metadata": {
    "tags": []
   },
   "outputs": [],
   "source": [
    "def cumsum_cits5(tp_df):\n",
    "    ave_cits5 = tp_df.groupby('career_age')['weight_frac_credit'].agg('sum').reset_index(name='weight_frac_credit')\n",
    "    cumsum_cits5 = ave_cits5.cumsum()['weight_frac_credit']\n",
    "    try:\n",
    "        ave_cits5['cumu. credit'] = cumsum_cits5\n",
    "    except:\n",
    "        ave_cits5 = 'error'\n",
    "    \n",
    "    ave_cits5 = ave_cits5.values\n",
    "    \n",
    "    return ave_cits5"
   ]
  },
  {
   "cell_type": "markdown",
   "id": "01dac788-5c81-4686-9e6b-dcdf6c7a37d1",
   "metadata": {},
   "source": [
    "##### main topic"
   ]
  },
  {
   "cell_type": "code",
   "execution_count": 29,
   "id": "daa3e489-8a6e-4487-8357-898bd2065902",
   "metadata": {
    "tags": []
   },
   "outputs": [],
   "source": [
    "temp_main_mto = all_main_cits5.groupby('mentor_id').apply(cumsum_cits5).reset_index(name='weight_frac_credit')\n",
    "\n",
    "cumu_cits5_info_mto = pd.DataFrame([],columns=['career_age','weight_frac_credit','cumu_credit','mentor_id'])\n",
    "for k in temp_main_mto.values:\n",
    "    mentor_id = k[0]\n",
    "    mentee_cits_info = k[1]\n",
    "    \n",
    "    \n",
    "    mentee_cits_info = pd.DataFrame(mentee_cits_info,columns=['career_age','weight_frac_credit','cumu_credit'])\n",
    "    career_len = int(max(mentee_cits_info.career_age))\n",
    "    # print(career_len)\n",
    "    age_list = list(range(career_len))\n",
    "    zero_cits5 = np.array(list(set(age_list) - set(mentee_cits_info.career_age)))\n",
    "    zero_cits5_ = zero_cits5 - 1\n",
    "    temp = mentee_cits_info[mentee_cits_info.career_age.isin(zero_cits5_)]\n",
    "    temp.loc[:,'career_age'] = np.array(temp['career_age']) + 1\n",
    "    temp.loc[:,'weight_frac_credit'] = 0\n",
    "    mentee_cits_info = pd.concat((mentee_cits_info,temp)).sort_values(by='career_age')\n",
    "    \n",
    "    mentee_cits_info.loc[:,'mentor_id'] = mentor_id\n",
    "    \n",
    "    cumu_cits5_info_mto = pd.concat((cumu_cits5_info_mto,mentee_cits_info))\n",
    "    \n",
    "mto_evolution = cumu_cits5_info_mto.groupby('career_age')[['weight_frac_credit','cumu_credit']].agg('mean').reset_index()\n",
    "mto_main_evolution = mto_evolution[mto_evolution.career_age<100]"
   ]
  },
  {
   "cell_type": "markdown",
   "id": "9e3de2fd-0361-45e1-bbfc-40d5dc6a8813",
   "metadata": {},
   "source": [
    "##### asso topic"
   ]
  },
  {
   "cell_type": "code",
   "execution_count": 30,
   "id": "f9bb3731-fd62-4782-a2ce-912d49b59355",
   "metadata": {
    "tags": []
   },
   "outputs": [],
   "source": [
    "temp_asso_mto = all_asso_cits5.groupby('mentor_id').apply(cumsum_cits5).reset_index(name='weight_frac_credit') #adjust\n",
    "\n",
    "cumu_cits5_info_mto = pd.DataFrame([],columns=['career_age','weight_frac_credit','cumu_credit','mentor_id'])\n",
    "for k in temp_asso_mto.values:     #adjust\n",
    "    mentor_id = k[0]\n",
    "    mentee_cits_info = k[1]\n",
    "    \n",
    "    \n",
    "    mentee_cits_info = pd.DataFrame(mentee_cits_info,columns=['career_age','weight_frac_credit','cumu_credit'])\n",
    "    career_len = int(max(mentee_cits_info.career_age))\n",
    "    # print(career_len)\n",
    "    age_list = list(range(career_len))\n",
    "    zero_cits5 = np.array(list(set(age_list) - set(mentee_cits_info.career_age)))\n",
    "    zero_cits5_ = zero_cits5 - 1\n",
    "    temp = mentee_cits_info[mentee_cits_info.career_age.isin(zero_cits5_)]\n",
    "    temp.loc[:,'career_age'] = np.array(temp['career_age']) + 1\n",
    "    temp.loc[:,'weight_frac_credit'] = 0\n",
    "    mentee_cits_info = pd.concat((mentee_cits_info,temp)).sort_values(by='career_age')\n",
    "    \n",
    "    mentee_cits_info.loc[:,'mentor_id'] = mentor_id\n",
    "    \n",
    "    cumu_cits5_info_mto = pd.concat((cumu_cits5_info_mto,mentee_cits_info))\n",
    "    \n",
    "mto_evolution = cumu_cits5_info_mto.groupby('career_age')[['weight_frac_credit','cumu_credit']].agg('mean').reset_index()\n",
    "mto_asso_evolution = mto_evolution[mto_evolution.career_age<100] #adjust"
   ]
  },
  {
   "cell_type": "markdown",
   "id": "88f863a5-3e2c-446c-b9f0-48c2b597ab52",
   "metadata": {},
   "source": [
    "### Plot"
   ]
  },
  {
   "cell_type": "code",
   "execution_count": 31,
   "id": "f083c457-f1fe-432a-a9f7-1d8a23026f41",
   "metadata": {
    "tags": []
   },
   "outputs": [],
   "source": [
    "from matplotlib.pyplot import MultipleLocator\n",
    "import matplotlib.pyplot as plt\n",
    "import seaborn as sns  #画密度图\n",
    "from matplotlib.ticker import MaxNLocator, FuncFormatter, MultipleLocator\n",
    "import matplotlib.ticker as ticker\n",
    "import palettable #python颜色库"
   ]
  },
  {
   "cell_type": "code",
   "execution_count": 32,
   "id": "a7c4f83f-58ba-4abd-9eac-e3f4e95b7643",
   "metadata": {
    "tags": []
   },
   "outputs": [],
   "source": [
    "type_colors = {'all':'k','main':'#fc8d62','asso':'#66c2a5','new':'grey'}"
   ]
  },
  {
   "cell_type": "code",
   "execution_count": 33,
   "id": "b1dd9b99-526a-40d5-8471-6364ebef93bd",
   "metadata": {
    "tags": []
   },
   "outputs": [
    {
     "data": {
      "image/png": "[encoded data removed]",
      "text/plain": [
       "<Figure size 564x320 with 1 Axes>"
      ]
     },
     "metadata": {},
     "output_type": "display_data"
    }
   ],
   "source": [
    "sns.set(style='ticks', font_scale=1.2, font='Arial')\n",
    "fig, ax = plt.subplots(figsize=(4.7*1.2,3.2), constrained_layout=True)\n",
    "\n",
    "# Mentor\n",
    "#average cumulative\n",
    "# ax.plot(mto_main_evolution.career_age,mto_main_evolution.cumu_credit,label='main',marker='o',color='#fc8d62')\n",
    "# ax.plot(mto_asso_evolution.career_age,mto_asso_evolution.cumu_credit,label='asso',marker='o',color='#66c2a5')\n",
    "\n",
    "sum_cumu_credit = mto_main_evolution.cumu_credit + mto_asso_evolution.cumu_credit\n",
    "ax.plot(mto_main_evolution.career_age ,sum_cumu_credit,label='all_mto',marker='',color='k',mec='k',mfc='white',ls='--')\n",
    "\n",
    "# ax.semilogy(mto_main_evolution.career_age,mto_main_evolution.cumu_credit,label='main_mto',marker='',color='#fc8d62',ls='--',\n",
    "#             mec='#fc8d62',mfc='white')\n",
    "# ax.semilogy(mto_asso_evolution.career_age,mto_asso_evolution.cumu_credit,label='asso_mto',marker='',color='#66c2a5',ls='--',\n",
    "#             mec='#66c2a5',mfc='white')\n",
    "\n",
    "ax.set(xlabel='career_age',ylabel='< cumu. credit >',\n",
    "      xlim=[-1,60],ylim=[1,10000])\n",
    "\n",
    "\n",
    "\n",
    "\n",
    "# Mentee\n",
    "\n",
    "# average\n",
    "# ax.plot(mte_main_evolution.career_age,mte_main_evolution.cits5,label='main',marker='o',color='#fc8d62')\n",
    "# ax.plot(mte_asso_evolution.career_age,mte_asso_evolution.cits5,label='asso',marker='o',color='#66c2a5')\n",
    "# ax.plot(mte_new_evolution.career_age ,mte_new_evolution.cits5,label='new',marker='o',color='grey')\n",
    "\n",
    "# ax.set(xlabel='career_age',ylabel='< cits5 >',\n",
    "#       xlim=[0,60],ylim=[0,500])\n",
    "\n",
    "\n",
    "# #average cumulative\n",
    "sum_cumu_credit = mte_new_evolution.cumu_credit + mte_main_evolution.cumu_credit + mte_asso_evolution.cumu_credit\n",
    "ax.plot(mte_new_evolution.career_age+10 ,sum_cumu_credit,label='all_mte',marker='',color='k',mec='k',mfc='white')\n",
    "\n",
    "# only for adjusting legend\n",
    "ax.semilogy(mto_main_evolution.career_age,mto_main_evolution.cumu_credit,marker='',color='white',ls='--',label=' ',alpha=0,\n",
    "            mec='#fc8d62',mfc='white')\n",
    "#adjustment done\n",
    "\n",
    "ax.plot(mte_main_evolution.career_age+10,mte_main_evolution.cumu_credit,label='main_mte',marker='',color='#fc8d62',mec='#fc8d62',mfc='white')\n",
    "ax.plot(mte_asso_evolution.career_age+10,mte_asso_evolution.cumu_credit,label='asso_mte',marker='',color='#66c2a5',mec='#66c2a5',mfc='white')\n",
    "ax.plot(mte_new_evolution.career_age+10 ,mte_new_evolution.cumu_credit,label='new_mte',marker='',color='grey',mec='grey',mfc='white')\n",
    "\n",
    "\n",
    "\n",
    "# ax.semilogy(mte_main_evolution.career_age,mte_main_evolution.cumu_credit,label='main',marker='o',color='#fc8d62')\n",
    "# ax.semilogy(mte_asso_evolution.career_age,mte_asso_evolution.cumu_credit,label='asso',marker='o',color='#66c2a5')\n",
    "# ax.semilogy(mte_new_evolution.career_age ,mte_new_evolution.cumu_credit,label='new',marker='o',color='grey')\n",
    "\n",
    "# ax.set(xlabel='career_age',ylabel='< cumu. credit >',\n",
    "#       xlim=[-1,60],ylim=[0,1500])\n",
    "\n",
    "x_major_locator=MultipleLocator(10)\n",
    "ax.xaxis.set_major_locator(x_major_locator)\n",
    "\n",
    "\n",
    "plt.legend(frameon=0,ncol=2)\n",
    "plt.show()\n",
    "# fig.savefig('/Users/yanmemgxing/Nutstore Files/Nutstore/Physics/who_is_surpasser/result_data_plot/average cumu credit(10_surpasser&high-impact).pdf')"
   ]
  },
  {
   "cell_type": "code",
   "execution_count": 34,
   "id": "a1dcb3c1-56c2-410a-a491-4aa3149bef8a",
   "metadata": {
    "tags": []
   },
   "outputs": [
    {
     "data": {
      "image/png": "[encoded data removed]",
      "text/plain": [
       "<Figure size 564x700 with 1 Axes>"
      ]
     },
     "metadata": {},
     "output_type": "display_data"
    }
   ],
   "source": [
    "sns.set(style='ticks', font_scale=1.2, font='Arial')\n",
    "fig, ax = plt.subplots(figsize=(4.7*1.2,7), constrained_layout=True)\n",
    "\n",
    "# Mentor\n",
    "#average cumulative\n",
    "# ax.plot(mto_main_evolution.career_age,mto_main_evolution.cumu_credit,label='main',marker='o',color='#fc8d62')\n",
    "# ax.plot(mto_asso_evolution.career_age,mto_asso_evolution.cumu_credit,label='asso',marker='o',color='#66c2a5')\n",
    "\n",
    "sum_cumu_credit = mto_main_evolution.cumu_credit + mto_asso_evolution.cumu_credit\n",
    "ax.plot(mto_main_evolution.career_age ,sum_cumu_credit,label='all_mentor',marker='',color='k',mec='k',mfc='white',ls='--')\n",
    "# ax.semilogy(mto_main_evolution.career_age ,sum_cumu_credit,label='all_mentor',marker='',color='k',mec='k',mfc='white',ls='--')\n",
    "\n",
    "\n",
    "ax.set(xlabel='career age',ylabel='< cumu. credit >',\n",
    "      xlim=[-1,40],ylim=[1,5000])\n",
    "\n",
    "\n",
    "\n",
    "\n",
    "# Mentee\n",
    "\n",
    "\n",
    "# #average cumulative\n",
    "sum_cumu_credit = mte_new_evolution.cumu_credit + mte_main_evolution.cumu_credit + mte_asso_evolution.cumu_credit\n",
    "ax.plot(mte_new_evolution.career_age ,sum_cumu_credit,label='all_mentee',marker='',color='k',mec='k',mfc='white')\n",
    "\n",
    "# only for adjusting legend\n",
    "# ax.semilogy(mto_main_evolution.career_age,mto_main_evolution.cumu_credit,marker='',color='white',ls='--',label=' ',alpha=0,\n",
    "#             mec='#fc8d62',mfc='white')\n",
    "ax.plot(mto_main_evolution.career_age,mto_main_evolution.cumu_credit,marker='',color='white',ls='--',label=' ',alpha=0,\n",
    "            mec='#fc8d62',mfc='white')\n",
    "\n",
    "#adjustment done\n",
    "\n",
    "ax.plot(mte_main_evolution.career_age,mte_main_evolution.cumu_credit,label='primary',marker='',color='#fc8d62',mec='#fc8d62',mfc='white')\n",
    "ax.plot(mte_asso_evolution.career_age,mte_asso_evolution.cumu_credit,label='secondary',marker='',color='#66c2a5',mec='#66c2a5',mfc='white')\n",
    "ax.plot(mte_new_evolution.career_age,mte_new_evolution.cumu_credit,label='new',marker='',color='grey',mec='grey',mfc='white')\n",
    "\n",
    "ax.axvline(x=10,ls='--',color='#bdd7e7')\n",
    "ax.axvline(x=20,ls='--',color='#6baed6')\n",
    "ax.axvline(x=30,ls='--',color='#2171b5')\n",
    "\n",
    "\n",
    "# ax.semilogy(mte_main_evolution.career_age,mte_main_evolution.cumu_credit,label='main',marker='o',color='#fc8d62')\n",
    "# ax.semilogy(mte_asso_evolution.career_age,mte_asso_evolution.cumu_credit,label='asso',marker='o',color='#66c2a5')\n",
    "# ax.semilogy(mte_new_evolution.career_age ,mte_new_evolution.cumu_credit,label='new',marker='o',color='grey')\n",
    "\n",
    "# ax.set(xlabel='career_age',ylabel='< cumu. credit >',\n",
    "#       xlim=[-1,60],ylim=[0,1500])\n",
    "\n",
    "ax.xaxis.set_major_locator(MultipleLocator(5))\n",
    "ax.xaxis.set_minor_locator(MultipleLocator(5))\n",
    "\n",
    "plt.legend(frameon=0,ncols=2,loc='upper left')\n",
    "plt.yscale('log',base=10)\n",
    "plt.show()\n",
    "# fig.savefig('/Users/yanmemgxing/Nutstore Files/Nutstore/Chemistry/result_data_plot/new_plot(202403)/average cumu credit(high-impact surpasser).pdf')"
   ]
  },
  {
   "cell_type": "code",
   "execution_count": 39,
   "id": "b5d4c30b-484a-48e0-b87f-d7642c4dc2fa",
   "metadata": {
    "tags": []
   },
   "outputs": [
    {
     "data": {
      "image/png": "[encoded data removed]",
      "text/plain": [
       "<Figure size 470x320 with 1 Axes>"
      ]
     },
     "metadata": {},
     "output_type": "display_data"
    }
   ],
   "source": [
    "sns.set(style='ticks', font_scale=1.2, font='Arial')\n",
    "fig, ax = plt.subplots(figsize=(4.7*1.0,3.2), constrained_layout=True)\n",
    "\n",
    "# Mentor\n",
    "#average cumulative\n",
    "# ax.plot(mto_main_evolution.career_age,mto_main_evolution.cumu_credit,label='main',marker='o',color='#fc8d62')\n",
    "# ax.plot(mto_asso_evolution.career_age,mto_asso_evolution.cumu_credit,label='asso',marker='o',color='#66c2a5')\n",
    "\n",
    "sum_cumu_credit = mto_main_evolution.cumu_credit + mto_asso_evolution.cumu_credit\n",
    "ax.plot(mto_main_evolution.career_age ,sum_cumu_credit,label='all_mentor',marker='',color='k',mec='k',mfc='white',ls='--')\n",
    "# ax.semilogy(mto_main_evolution.career_age ,sum_cumu_credit,label='all_mentor',marker='',color='k',mec='k',mfc='white',ls='--')\n",
    "\n",
    "\n",
    "ax.set(xlabel='career age',ylabel='< cumu. credit >',\n",
    "      xlim=[-1,40],ylim=[1,5000])\n",
    "\n",
    "\n",
    "\n",
    "\n",
    "# Mentee\n",
    "\n",
    "\n",
    "# #average cumulative\n",
    "sum_cumu_credit = mte_new_evolution.cumu_credit + mte_main_evolution.cumu_credit + mte_asso_evolution.cumu_credit\n",
    "ax.plot(mte_new_evolution.career_age ,sum_cumu_credit,label='all_mentee',marker='',color='k',mec='k',mfc='white')\n",
    "\n",
    "# only for adjusting legend\n",
    "# ax.semilogy(mto_main_evolution.career_age,mto_main_evolution.cumu_credit,marker='',color='white',ls='--',label=' ',alpha=0,\n",
    "#             mec='#fc8d62',mfc='white')\n",
    "ax.plot(mto_main_evolution.career_age,mto_main_evolution.cumu_credit,marker='',color='white',ls='--',label=' ',alpha=0,\n",
    "            mec='#fc8d62',mfc='white')\n",
    "\n",
    "#adjustment done\n",
    "\n",
    "ax.plot(mte_main_evolution.career_age,mte_main_evolution.cumu_credit,label='primary',marker='',color='#fc8d62',mec='#fc8d62',mfc='white')\n",
    "ax.plot(mte_asso_evolution.career_age,mte_asso_evolution.cumu_credit,label='secondary',marker='',color='#66c2a5',mec='#66c2a5',mfc='white')\n",
    "ax.plot(mte_new_evolution.career_age,mte_new_evolution.cumu_credit,label='new',marker='',color='grey',mec='grey',mfc='white')\n",
    "\n",
    "ax.axvline(x=10,ls='--',color='#bdd7e7')\n",
    "ax.axvline(x=20,ls='--',color='#6baed6')\n",
    "ax.axvline(x=30,ls='--',color='#2171b5')\n",
    "\n",
    "\n",
    "# ax.semilogy(mte_main_evolution.career_age,mte_main_evolution.cumu_credit,label='main',marker='o',color='#fc8d62')\n",
    "# ax.semilogy(mte_asso_evolution.career_age,mte_asso_evolution.cumu_credit,label='asso',marker='o',color='#66c2a5')\n",
    "# ax.semilogy(mte_new_evolution.career_age ,mte_new_evolution.cumu_credit,label='new',marker='o',color='grey')\n",
    "\n",
    "# ax.set(xlabel='career_age',ylabel='< cumu. credit >',\n",
    "#       xlim=[-1,60],ylim=[0,1500])\n",
    "\n",
    "ax.xaxis.set_major_locator(MultipleLocator(5))\n",
    "ax.xaxis.set_minor_locator(MultipleLocator(5))\n",
    "\n",
    "plt.legend(frameon=0,ncols=2,loc='lower right')\n",
    "plt.yscale('log',base=10)\n",
    "\n",
    "ax.spines['right'].set_visible(False)\n",
    "ax.spines['top'].set_visible(False)\n",
    "plt.show()\n",
    "fig.savefig('/Users/yanmemgxing/Nutstore Files/Nutstore/Chemistry/result_data_plot/new_plot(202403)/average cumu credit(high-impact surpasser).pdf')"
   ]
  },
  {
   "cell_type": "markdown",
   "id": "4c5204fd-3b9b-4847-958e-826e8b07deb9",
   "metadata": {},
   "source": [
    "#### pub. type distribution in different career stage"
   ]
  },
  {
   "cell_type": "code",
   "execution_count": 35,
   "id": "480c18aa-cdd4-4f1c-8922-5d15c8f6091c",
   "metadata": {
    "tags": []
   },
   "outputs": [],
   "source": [
    "# all_main_cits5 = all_main_cits5_mte\n",
    "# all_asso_cits5 = all_asso_cits5_mte\n",
    "# all_new_cits5 = all_new_cits5_mte\n",
    "\n",
    "\n",
    "all_main_cits5 = pd.read_csv('elites_main_credit_mte.csv')\n",
    "all_asso_cits5 = pd.read_csv('elites_asso_credit_mte.csv')\n",
    "all_new_cits5 = pd.read_csv('elites_new_credit_mte.csv')"
   ]
  },
  {
   "cell_type": "code",
   "execution_count": 36,
   "id": "b59305a1-4743-4866-90fc-1813bb675226",
   "metadata": {
    "tags": []
   },
   "outputs": [
    {
     "data": {
      "text/html": [
       "<div>\n",
       "<style scoped>\n",
       "    .dataframe tbody tr th:only-of-type {\n",
       "        vertical-align: middle;\n",
       "    }\n",
       "\n",
       "    .dataframe tbody tr th {\n",
       "        vertical-align: top;\n",
       "    }\n",
       "\n",
       "    .dataframe thead th {\n",
       "        text-align: right;\n",
       "    }\n",
       "</style>\n",
       "<table border=\"1\" class=\"dataframe\">\n",
       "  <thead>\n",
       "    <tr style=\"text-align: right;\">\n",
       "      <th></th>\n",
       "      <th>mentee_id</th>\n",
       "      <th>weight_frac_credit</th>\n",
       "      <th>career_age</th>\n",
       "      <th>type</th>\n",
       "    </tr>\n",
       "  </thead>\n",
       "  <tbody>\n",
       "    <tr>\n",
       "      <th>0</th>\n",
       "      <td>A2055177396</td>\n",
       "      <td>3.285714</td>\n",
       "      <td>0</td>\n",
       "      <td>main</td>\n",
       "    </tr>\n",
       "    <tr>\n",
       "      <th>1</th>\n",
       "      <td>A2055177396</td>\n",
       "      <td>3.250000</td>\n",
       "      <td>0</td>\n",
       "      <td>main</td>\n",
       "    </tr>\n",
       "    <tr>\n",
       "      <th>2</th>\n",
       "      <td>A2055177396</td>\n",
       "      <td>2.000000</td>\n",
       "      <td>1</td>\n",
       "      <td>main</td>\n",
       "    </tr>\n",
       "    <tr>\n",
       "      <th>3</th>\n",
       "      <td>A2055177396</td>\n",
       "      <td>0.142857</td>\n",
       "      <td>2</td>\n",
       "      <td>main</td>\n",
       "    </tr>\n",
       "    <tr>\n",
       "      <th>4</th>\n",
       "      <td>A2055177396</td>\n",
       "      <td>0.333333</td>\n",
       "      <td>2</td>\n",
       "      <td>main</td>\n",
       "    </tr>\n",
       "  </tbody>\n",
       "</table>\n",
       "</div>"
      ],
      "text/plain": [
       "     mentee_id  weight_frac_credit  career_age  type\n",
       "0  A2055177396            3.285714           0  main\n",
       "1  A2055177396            3.250000           0  main\n",
       "2  A2055177396            2.000000           1  main\n",
       "3  A2055177396            0.142857           2  main\n",
       "4  A2055177396            0.333333           2  main"
      ]
     },
     "execution_count": 36,
     "metadata": {},
     "output_type": "execute_result"
    }
   ],
   "source": [
    "all_main_cits5.head(5)"
   ]
  },
  {
   "cell_type": "code",
   "execution_count": 37,
   "id": "6cd64bd0-cc14-48e7-8d6b-b90e9115c785",
   "metadata": {
    "tags": []
   },
   "outputs": [],
   "source": [
    "all_paper_mte = pd.DataFrame([],columns=['mentee_id','weight_frac_credit','career_age','type'])\n",
    "all_paper_mte = pd.concat((all_paper_mte,all_main_cits5))\n",
    "all_paper_mte = pd.concat((all_paper_mte,all_asso_cits5))\n",
    "all_paper_mte = pd.concat((all_paper_mte,all_new_cits5))"
   ]
  },
  {
   "cell_type": "code",
   "execution_count": 38,
   "id": "1b059f7e-debe-4ace-8a76-92b03c37d76c",
   "metadata": {
    "tags": []
   },
   "outputs": [
    {
     "data": {
      "text/plain": [
       "(1289907, 4)"
      ]
     },
     "execution_count": 38,
     "metadata": {},
     "output_type": "execute_result"
    }
   ],
   "source": [
    "all_paper_mte.shape"
   ]
  },
  {
   "cell_type": "code",
   "execution_count": 39,
   "id": "369aa4ce-ef0e-42a0-801d-da792974ba2c",
   "metadata": {
    "tags": []
   },
   "outputs": [
    {
     "data": {
      "text/html": [
       "<div>\n",
       "<style scoped>\n",
       "    .dataframe tbody tr th:only-of-type {\n",
       "        vertical-align: middle;\n",
       "    }\n",
       "\n",
       "    .dataframe tbody tr th {\n",
       "        vertical-align: top;\n",
       "    }\n",
       "\n",
       "    .dataframe thead th {\n",
       "        text-align: right;\n",
       "    }\n",
       "</style>\n",
       "<table border=\"1\" class=\"dataframe\">\n",
       "  <thead>\n",
       "    <tr style=\"text-align: right;\">\n",
       "      <th></th>\n",
       "      <th>mentee_id</th>\n",
       "      <th>weight_frac_credit</th>\n",
       "      <th>career_age</th>\n",
       "      <th>type</th>\n",
       "    </tr>\n",
       "  </thead>\n",
       "  <tbody>\n",
       "    <tr>\n",
       "      <th>0</th>\n",
       "      <td>A2055177396</td>\n",
       "      <td>3.285714</td>\n",
       "      <td>0</td>\n",
       "      <td>main</td>\n",
       "    </tr>\n",
       "    <tr>\n",
       "      <th>1</th>\n",
       "      <td>A2055177396</td>\n",
       "      <td>3.250000</td>\n",
       "      <td>0</td>\n",
       "      <td>main</td>\n",
       "    </tr>\n",
       "    <tr>\n",
       "      <th>2</th>\n",
       "      <td>A2055177396</td>\n",
       "      <td>2.000000</td>\n",
       "      <td>1</td>\n",
       "      <td>main</td>\n",
       "    </tr>\n",
       "    <tr>\n",
       "      <th>3</th>\n",
       "      <td>A2055177396</td>\n",
       "      <td>0.142857</td>\n",
       "      <td>2</td>\n",
       "      <td>main</td>\n",
       "    </tr>\n",
       "    <tr>\n",
       "      <th>4</th>\n",
       "      <td>A2055177396</td>\n",
       "      <td>0.333333</td>\n",
       "      <td>2</td>\n",
       "      <td>main</td>\n",
       "    </tr>\n",
       "  </tbody>\n",
       "</table>\n",
       "</div>"
      ],
      "text/plain": [
       "     mentee_id  weight_frac_credit career_age  type\n",
       "0  A2055177396            3.285714          0  main\n",
       "1  A2055177396            3.250000          0  main\n",
       "2  A2055177396            2.000000          1  main\n",
       "3  A2055177396            0.142857          2  main\n",
       "4  A2055177396            0.333333          2  main"
      ]
     },
     "execution_count": 39,
     "metadata": {},
     "output_type": "execute_result"
    }
   ],
   "source": [
    "all_paper_mte.head(5)"
   ]
  },
  {
   "cell_type": "code",
   "execution_count": 40,
   "id": "3b70a700-47ff-491c-834d-a265b8ba0a9f",
   "metadata": {
    "tags": []
   },
   "outputs": [],
   "source": [
    "def career_type(tp_df):\n",
    "    c0 = 0\n",
    "    c1 = 20\n",
    "    c2 = 30\n",
    "    c_special = 10\n",
    "    \n",
    "    c_special_all = tp_df[(tp_df.career_age>=c0)&(tp_df.career_age<c_special)]\n",
    "    c_special_main = tp_df[(tp_df.career_age>=c0)&(tp_df.career_age<c_special)&(tp_df.type=='main')]\n",
    "    c_special_asso = tp_df[(tp_df.career_age>=c0)&(tp_df.career_age<c_special)&(tp_df.type=='asso')]\n",
    "    c_special_new = tp_df[(tp_df.career_age>=c0)&(tp_df.career_age<c_special)&(tp_df.type=='new')]\n",
    "    \n",
    "    c0_all = tp_df[(tp_df.career_age>=c_special)&(tp_df.career_age<c1)]\n",
    "    c0_main = tp_df[(tp_df.career_age>=c_special)&(tp_df.career_age<c1)&(tp_df.type=='main')]\n",
    "    c0_asso = tp_df[(tp_df.career_age>=c_special)&(tp_df.career_age<c1)&(tp_df.type=='asso')]\n",
    "    c0_new = tp_df[(tp_df.career_age>=c_special)&(tp_df.career_age<c1)&(tp_df.type=='new')]\n",
    "\n",
    "\n",
    "\n",
    "    c1_all = tp_df[(tp_df.career_age>=c1)&(tp_df.career_age<c2)]\n",
    "    c1_main = tp_df[(tp_df.career_age>=c1)&(tp_df.career_age<c2)&(tp_df.type=='main')]\n",
    "    c1_asso = tp_df[(tp_df.career_age>=c1)&(tp_df.career_age<c2)&(tp_df.type=='asso')]\n",
    "    c1_new = tp_df[(tp_df.career_age>=c1)&(tp_df.career_age<c2)&(tp_df.type=='new')]\n",
    "\n",
    "    c2_all = tp_df[tp_df.career_age>=c2]\n",
    "    c2_main = tp_df[(tp_df.career_age>=c2)&(tp_df.type=='main')]\n",
    "    c2_asso = tp_df[(tp_df.career_age>=c2)&(tp_df.type=='asso')]\n",
    "    c2_new = tp_df[(tp_df.career_age>=c2)&(tp_df.type=='new')]\n",
    "\n",
    "    c_output = [len(c0_all),len(c0_main),len(c0_asso),len(c0_new),len(c1_all),len(c1_main),len(c1_asso),len(c1_new),\n",
    "                len(c2_all),len(c2_main),len(c2_asso),len(c2_new),len(c_special_all),len(c_special_main),len(c_special_asso),len(c_special_new)]\n",
    "    \n",
    "    return c_output"
   ]
  },
  {
   "cell_type": "code",
   "execution_count": 41,
   "id": "f61cb6de-fc97-4907-a51f-fef94bd11247",
   "metadata": {
    "tags": []
   },
   "outputs": [],
   "source": [
    "career_type = all_paper_mte.groupby('mentee_id').apply(career_type).reset_index(name='career_type')"
   ]
  },
  {
   "cell_type": "code",
   "execution_count": 42,
   "id": "c44ffdb6-a66e-4bc3-9e59-214eae404c6b",
   "metadata": {
    "tags": []
   },
   "outputs": [
    {
     "data": {
      "text/html": [
       "<div>\n",
       "<style scoped>\n",
       "    .dataframe tbody tr th:only-of-type {\n",
       "        vertical-align: middle;\n",
       "    }\n",
       "\n",
       "    .dataframe tbody tr th {\n",
       "        vertical-align: top;\n",
       "    }\n",
       "\n",
       "    .dataframe thead th {\n",
       "        text-align: right;\n",
       "    }\n",
       "</style>\n",
       "<table border=\"1\" class=\"dataframe\">\n",
       "  <thead>\n",
       "    <tr style=\"text-align: right;\">\n",
       "      <th></th>\n",
       "      <th>mentee_id</th>\n",
       "      <th>career_type</th>\n",
       "    </tr>\n",
       "  </thead>\n",
       "  <tbody>\n",
       "    <tr>\n",
       "      <th>0</th>\n",
       "      <td>A1002422011</td>\n",
       "      <td>[2, 2, 0, 0, 20, 19, 1, 0, 79, 21, 58, 0, 0, 0...</td>\n",
       "    </tr>\n",
       "    <tr>\n",
       "      <th>1</th>\n",
       "      <td>A100328954</td>\n",
       "      <td>[48, 2, 16, 30, 207, 3, 68, 136, 618, 0, 191, ...</td>\n",
       "    </tr>\n",
       "    <tr>\n",
       "      <th>2</th>\n",
       "      <td>A101383955</td>\n",
       "      <td>[169, 8, 111, 50, 0, 0, 0, 0, 0, 0, 0, 0, 30, ...</td>\n",
       "    </tr>\n",
       "    <tr>\n",
       "      <th>3</th>\n",
       "      <td>A101511996</td>\n",
       "      <td>[102, 1, 0, 101, 164, 1, 0, 163, 0, 0, 0, 0, 4...</td>\n",
       "    </tr>\n",
       "    <tr>\n",
       "      <th>4</th>\n",
       "      <td>A103307622</td>\n",
       "      <td>[89, 42, 47, 0, 128, 45, 73, 10, 83, 12, 34, 3...</td>\n",
       "    </tr>\n",
       "  </tbody>\n",
       "</table>\n",
       "</div>"
      ],
      "text/plain": [
       "     mentee_id                                        career_type\n",
       "0  A1002422011  [2, 2, 0, 0, 20, 19, 1, 0, 79, 21, 58, 0, 0, 0...\n",
       "1   A100328954  [48, 2, 16, 30, 207, 3, 68, 136, 618, 0, 191, ...\n",
       "2   A101383955  [169, 8, 111, 50, 0, 0, 0, 0, 0, 0, 0, 0, 30, ...\n",
       "3   A101511996  [102, 1, 0, 101, 164, 1, 0, 163, 0, 0, 0, 0, 4...\n",
       "4   A103307622  [89, 42, 47, 0, 128, 45, 73, 10, 83, 12, 34, 3..."
      ]
     },
     "execution_count": 42,
     "metadata": {},
     "output_type": "execute_result"
    }
   ],
   "source": [
    "career_type.head(5)"
   ]
  },
  {
   "cell_type": "code",
   "execution_count": 43,
   "id": "ec49bd48-33b6-427d-b90b-33a056e90467",
   "metadata": {
    "tags": []
   },
   "outputs": [],
   "source": [
    "df_list = []\n",
    "tp_array = career_type.values\n",
    "for k in tp_array:\n",
    "    tp_k = k[1]\n",
    "    tp_k.append(k[0])\n",
    "    df_list.append(tp_k)"
   ]
  },
  {
   "cell_type": "code",
   "execution_count": 44,
   "id": "d17fb7f8-c855-4857-b1e7-35df78b4959f",
   "metadata": {
    "tags": []
   },
   "outputs": [],
   "source": [
    "career_type_df_0 = pd.DataFrame(df_list,columns=['early_all','early_main','early_asso','early_new',\n",
    "                             'median_all','median_main','median_asso','median_new',\n",
    "                             'late_all','late_main','late_asso','late_new',\n",
    "                             'special_all','special_main','special_asso','special_new',\n",
    "                             'mentee_id'])"
   ]
  },
  {
   "cell_type": "code",
   "execution_count": 45,
   "id": "61d1cae7-2b5e-4efa-905f-1b6a27a9d222",
   "metadata": {
    "tags": []
   },
   "outputs": [
    {
     "data": {
      "text/html": [
       "<div>\n",
       "<style scoped>\n",
       "    .dataframe tbody tr th:only-of-type {\n",
       "        vertical-align: middle;\n",
       "    }\n",
       "\n",
       "    .dataframe tbody tr th {\n",
       "        vertical-align: top;\n",
       "    }\n",
       "\n",
       "    .dataframe thead th {\n",
       "        text-align: right;\n",
       "    }\n",
       "</style>\n",
       "<table border=\"1\" class=\"dataframe\">\n",
       "  <thead>\n",
       "    <tr style=\"text-align: right;\">\n",
       "      <th></th>\n",
       "      <th>early_all</th>\n",
       "      <th>early_main</th>\n",
       "      <th>early_asso</th>\n",
       "      <th>early_new</th>\n",
       "      <th>median_all</th>\n",
       "      <th>median_main</th>\n",
       "      <th>median_asso</th>\n",
       "      <th>median_new</th>\n",
       "      <th>late_all</th>\n",
       "      <th>late_main</th>\n",
       "      <th>late_asso</th>\n",
       "      <th>late_new</th>\n",
       "      <th>special_all</th>\n",
       "      <th>special_main</th>\n",
       "      <th>special_asso</th>\n",
       "      <th>special_new</th>\n",
       "      <th>mentee_id</th>\n",
       "    </tr>\n",
       "  </thead>\n",
       "  <tbody>\n",
       "    <tr>\n",
       "      <th>0</th>\n",
       "      <td>2</td>\n",
       "      <td>2</td>\n",
       "      <td>0</td>\n",
       "      <td>0</td>\n",
       "      <td>20</td>\n",
       "      <td>19</td>\n",
       "      <td>1</td>\n",
       "      <td>0</td>\n",
       "      <td>79</td>\n",
       "      <td>21</td>\n",
       "      <td>58</td>\n",
       "      <td>0</td>\n",
       "      <td>0</td>\n",
       "      <td>0</td>\n",
       "      <td>0</td>\n",
       "      <td>0</td>\n",
       "      <td>A1002422011</td>\n",
       "    </tr>\n",
       "    <tr>\n",
       "      <th>1</th>\n",
       "      <td>48</td>\n",
       "      <td>2</td>\n",
       "      <td>16</td>\n",
       "      <td>30</td>\n",
       "      <td>207</td>\n",
       "      <td>3</td>\n",
       "      <td>68</td>\n",
       "      <td>136</td>\n",
       "      <td>618</td>\n",
       "      <td>0</td>\n",
       "      <td>191</td>\n",
       "      <td>427</td>\n",
       "      <td>45</td>\n",
       "      <td>16</td>\n",
       "      <td>25</td>\n",
       "      <td>4</td>\n",
       "      <td>A100328954</td>\n",
       "    </tr>\n",
       "    <tr>\n",
       "      <th>2</th>\n",
       "      <td>169</td>\n",
       "      <td>8</td>\n",
       "      <td>111</td>\n",
       "      <td>50</td>\n",
       "      <td>0</td>\n",
       "      <td>0</td>\n",
       "      <td>0</td>\n",
       "      <td>0</td>\n",
       "      <td>0</td>\n",
       "      <td>0</td>\n",
       "      <td>0</td>\n",
       "      <td>0</td>\n",
       "      <td>30</td>\n",
       "      <td>2</td>\n",
       "      <td>14</td>\n",
       "      <td>14</td>\n",
       "      <td>A101383955</td>\n",
       "    </tr>\n",
       "    <tr>\n",
       "      <th>3</th>\n",
       "      <td>102</td>\n",
       "      <td>1</td>\n",
       "      <td>0</td>\n",
       "      <td>101</td>\n",
       "      <td>164</td>\n",
       "      <td>1</td>\n",
       "      <td>0</td>\n",
       "      <td>163</td>\n",
       "      <td>0</td>\n",
       "      <td>0</td>\n",
       "      <td>0</td>\n",
       "      <td>0</td>\n",
       "      <td>46</td>\n",
       "      <td>16</td>\n",
       "      <td>0</td>\n",
       "      <td>30</td>\n",
       "      <td>A101511996</td>\n",
       "    </tr>\n",
       "    <tr>\n",
       "      <th>4</th>\n",
       "      <td>89</td>\n",
       "      <td>42</td>\n",
       "      <td>47</td>\n",
       "      <td>0</td>\n",
       "      <td>128</td>\n",
       "      <td>45</td>\n",
       "      <td>73</td>\n",
       "      <td>10</td>\n",
       "      <td>83</td>\n",
       "      <td>12</td>\n",
       "      <td>34</td>\n",
       "      <td>37</td>\n",
       "      <td>19</td>\n",
       "      <td>13</td>\n",
       "      <td>6</td>\n",
       "      <td>0</td>\n",
       "      <td>A103307622</td>\n",
       "    </tr>\n",
       "  </tbody>\n",
       "</table>\n",
       "</div>"
      ],
      "text/plain": [
       "   early_all  early_main  early_asso  early_new  median_all  median_main  \\\n",
       "0          2           2           0          0          20           19   \n",
       "1         48           2          16         30         207            3   \n",
       "2        169           8         111         50           0            0   \n",
       "3        102           1           0        101         164            1   \n",
       "4         89          42          47          0         128           45   \n",
       "\n",
       "   median_asso  median_new  late_all  late_main  late_asso  late_new  \\\n",
       "0            1           0        79         21         58         0   \n",
       "1           68         136       618          0        191       427   \n",
       "2            0           0         0          0          0         0   \n",
       "3            0         163         0          0          0         0   \n",
       "4           73          10        83         12         34        37   \n",
       "\n",
       "   special_all  special_main  special_asso  special_new    mentee_id  \n",
       "0            0             0             0            0  A1002422011  \n",
       "1           45            16            25            4   A100328954  \n",
       "2           30             2            14           14   A101383955  \n",
       "3           46            16             0           30   A101511996  \n",
       "4           19            13             6            0   A103307622  "
      ]
     },
     "execution_count": 45,
     "metadata": {},
     "output_type": "execute_result"
    }
   ],
   "source": [
    "career_type_df_0.head(5)"
   ]
  },
  {
   "cell_type": "code",
   "execution_count": 46,
   "id": "cc9d3500-3610-448e-b40b-34dee371a637",
   "metadata": {
    "tags": []
   },
   "outputs": [],
   "source": [
    "career_type_df_0['early_main_ratio'] = career_type_df_0['early_main']/career_type_df_0['early_all']\n",
    "career_type_df_0['early_asso_ratio'] = career_type_df_0['early_asso']/career_type_df_0['early_all']\n",
    "career_type_df_0['early_new_ratio'] = career_type_df_0['early_new']/career_type_df_0['early_all']\n",
    "\n",
    "career_type_df_0['median_main_ratio'] = career_type_df_0['median_main']/career_type_df_0['median_all']\n",
    "career_type_df_0['median_asso_ratio'] = career_type_df_0['median_asso']/career_type_df_0['median_all']\n",
    "career_type_df_0['median_new_ratio'] = career_type_df_0['median_new']/career_type_df_0['median_all']\n",
    "\n",
    "career_type_df_0['late_main_ratio'] = career_type_df_0['late_main']/career_type_df_0['late_all']\n",
    "career_type_df_0['late_asso_ratio'] = career_type_df_0['late_asso']/career_type_df_0['late_all']\n",
    "career_type_df_0['late_new_ratio'] = career_type_df_0['late_new']/career_type_df_0['late_all']\n",
    "\n",
    "career_type_df_0['special_main_ratio'] = career_type_df_0['special_main']/career_type_df_0['special_all']\n",
    "career_type_df_0['special_asso_ratio'] = career_type_df_0['special_asso']/career_type_df_0['special_all']\n",
    "career_type_df_0['special_new_ratio'] = career_type_df_0['special_new']/career_type_df_0['special_all']"
   ]
  },
  {
   "cell_type": "code",
   "execution_count": 47,
   "id": "3546ae59-781e-40f5-924b-01ea1549a9f3",
   "metadata": {
    "tags": []
   },
   "outputs": [],
   "source": [
    "career_type_df = career_type_df_0"
   ]
  },
  {
   "cell_type": "markdown",
   "id": "b7c9326b-3df0-4aa3-afad-ae5b28a2b162",
   "metadata": {},
   "source": [
    "### boxplot"
   ]
  },
  {
   "cell_type": "code",
   "execution_count": 48,
   "id": "e135f7ab-e272-4468-b5d6-f50c70955ce7",
   "metadata": {
    "tags": []
   },
   "outputs": [],
   "source": [
    "data_junior = career_type_df[['special_main_ratio','special_asso_ratio',\n",
    "                              'special_new_ratio']][~career_type_df.special_main_ratio.isnull()]\n",
    "data_junior = np.array(data_junior)\n",
    "\n",
    "data_early = career_type_df[['early_main_ratio','early_asso_ratio',\n",
    "                        'early_new_ratio']][~career_type_df.early_main_ratio.isnull()]\n",
    "data_early = np.array(data_early)\n",
    "\n",
    "data_mature = career_type_df[['median_main_ratio','median_asso_ratio',\n",
    "                        'median_new_ratio']][~career_type_df.median_main_ratio.isnull()]\n",
    "data_mature = np.array(data_mature)\n",
    "\n",
    "data_senior = career_type_df[['late_main_ratio','late_asso_ratio',\n",
    "                        'late_new_ratio']][~career_type_df.late_main_ratio.isnull()]\n",
    "data_senior = np.array(data_senior)"
   ]
  },
  {
   "cell_type": "code",
   "execution_count": 49,
   "id": "b306bd2d-2669-4da3-be74-c2ee1872332c",
   "metadata": {
    "tags": []
   },
   "outputs": [
    {
     "data": {
      "image/png": "[encoded data removed]",
      "text/plain": [
       "<Figure size 300x400 with 4 Axes>"
      ]
     },
     "metadata": {},
     "output_type": "display_data"
    }
   ],
   "source": [
    "fig, axs = plt.subplots(nrows=2, ncols=2, figsize=(3, 4), sharey=True)\n",
    "\n",
    "labels = ['pri.','sec.','new']\n",
    "meanpointprops = dict(marker='^', markeredgecolor='#91bfdb',linewidth=0.5,ms=5,\n",
    "                      markerfacecolor='#91bfdb')\n",
    "meanlineprops = dict(linestyle='--', linewidth=1.0, color='purple')\n",
    "\n",
    "medianprops = dict(linestyle='-', linewidth=1.0, color='#c51b7d')\n",
    "\n",
    "axs[0, 0].boxplot(data_junior, labels=labels,showmeans=True, showfliers=False, \n",
    "                  medianprops=medianprops,\n",
    "                  meanprops=meanpointprops)\n",
    "# axs[0, 0].set_title('showmeans=True', fontsize=fs)\n",
    "\n",
    "axs[0, 1].boxplot(data_early, labels=labels, showmeans=True, showfliers=False,medianprops=medianprops,\n",
    "                  meanprops=meanpointprops)\n",
    "# axs[0, 1].set_title('showmeans=True', fontsize=fs)\n",
    "\n",
    "axs[1, 0].boxplot(data_mature, labels=labels, showmeans=True, showfliers=False,medianprops=medianprops,\n",
    "                  meanprops=meanpointprops)\n",
    "# axs[1, 0].set_title('showmeans=True', fontsize=fs)\n",
    "\n",
    "axs[1, 1].boxplot(data_senior, labels=labels, showmeans=True, showfliers=False,medianprops=medianprops,\n",
    "                  meanprops=meanpointprops)\n",
    "# axs[1, 1].set_title('showmeans=True', fontsize=fs)\n",
    "\n",
    "\n",
    "\n",
    "# axs[0, 0].boxplot(data0, labels=labels)\n",
    "# axs[0, 0].set_title('Default', fontsize=fs)\n",
    "\n",
    "# axs[0, 1].boxplot(data0, labels=labels, showmeans=True)\n",
    "# axs[0, 1].set_title('showmeans=True', fontsize=fs)\n",
    "\n",
    "# axs[0, 2].boxplot(data0, labels=labels, showmeans=True, meanline=True)\n",
    "# axs[0, 2].set_title('showmeans=True,\\nmeanline=True', fontsize=fs)\n",
    "\n",
    "# axs[1, 0].boxplot(data0, labels=labels, showbox=False, showcaps=False)\n",
    "# tufte_title = 'Tufte Style \\n(showbox=False,\\nshowcaps=False)'\n",
    "# axs[1, 0].set_title(tufte_title, fontsize=fs)\n",
    "\n",
    "# axs[1, 1].boxplot(data0, labels=labels, notch=True, bootstrap=10000)\n",
    "# axs[1, 1].set_title('notch=True,\\nbootstrap=10000', fontsize=fs)\n",
    "\n",
    "# axs[1, 2].boxplot(data0, labels=labels, showfliers=False)\n",
    "# axs[1, 2].set_title('showfliers=False', fontsize=fs)\n",
    "\n",
    "for ax in axs.flat:\n",
    "    # ax.set_yscale('log')\n",
    "    ax.set_yticklabels([])\n",
    "    ax.yaxis.set_major_locator(MultipleLocator(0.2))\n",
    "    ax.yaxis.set_minor_locator(MultipleLocator(0.05))\n",
    "\n",
    "fig.subplots_adjust(hspace=0.4)\n",
    "plt.show()\n",
    "fig.savefig('/Users/yanmemgxing/Nutstore Files/Nutstore/Chemistry/result_data_plot/new_plot(202403)/boxplot(high-impact surpasser).pdf')"
   ]
  },
  {
   "cell_type": "markdown",
   "id": "f3805569-9d86-48e6-9f60-b8fcfe563403",
   "metadata": {},
   "source": [
    "##### Ratio"
   ]
  },
  {
   "cell_type": "code",
   "execution_count": 50,
   "id": "16937f3e-328a-4199-bc9c-324900ec3777",
   "metadata": {
    "tags": []
   },
   "outputs": [
    {
     "data": {
      "text/plain": [
       "<matplotlib.legend.Legend at 0x14feb8d50>"
      ]
     },
     "execution_count": 50,
     "metadata": {},
     "output_type": "execute_result"
    },
    {
     "data": {
      "image/png": "[encoded data removed]",
      "text/plain": [
       "<Figure size 400x309 with 1 Axes>"
      ]
     },
     "metadata": {},
     "output_type": "display_data"
    }
   ],
   "source": [
    "fig, ax = plt.subplots(1,1,constrained_layout=True,figsize=[0.8*5,0.618*5])\n",
    "sns.set(style='ticks',font_scale=1.2, font='Arial')\n",
    "\n",
    "career_type_df = career_type_df_0\n",
    "\n",
    "# early stage\n",
    "X = 'special_main_ratio'\n",
    "sns.histplot(data=career_type_df, x=X,stat='probability', # 'count' 'probability'\n",
    "             binrange=[0,1],bins=20,element='bars',fill=1,color=type_colors['main'],label='primary',kde=1,\n",
    "             ax=ax)\n",
    "\n",
    "\n",
    "X = 'special_asso_ratio'\n",
    "sns.histplot(data=career_type_df, x=X,stat='probability', \n",
    "             binrange=[0,1],bins=20,element='bars',fill=1,color=type_colors['asso'],label='secondary',kde=1,alpha=0.6,\n",
    "             ax=ax)\n",
    "\n",
    "\n",
    "X = 'special_new_ratio'\n",
    "sns.histplot(data=career_type_df, x=X,stat='probability', #'count' 'probability'\n",
    "             binrange=[0,1],bins=20,element='bars',fill=1,color=type_colors['new'],label='new',kde=1,alpha=0.4,\n",
    "             ax=ax)\n",
    "\n",
    "mean_main = np.mean(career_type_df.special_main_ratio)\n",
    "mean_asso = np.mean(career_type_df.special_asso_ratio)\n",
    "mean_new = np.mean(career_type_df.special_new_ratio)\n",
    "\n",
    "ax.axvline(x=mean_main,color=type_colors['main'],ls='--')\n",
    "ax.axvline(x=mean_asso,color=type_colors['asso'],ls='--')\n",
    "ax.axvline(x=mean_new,color=type_colors['new'],ls='--')\n",
    "\n",
    "ax.set(ylim=[0,0.9],\n",
    "       xlabel='pub_type_ratio',\n",
    "       title='training stage'\n",
    "      )\n",
    "\n",
    "ax.xaxis.set_minor_locator(MultipleLocator(0.05))\n",
    "x_ticks = np.array([0,2,4,6,8,10])/10\n",
    "ax.set_xticks(x_ticks, x_ticks)\n",
    "\n",
    "\n",
    "plt.legend(frameon=0)\n",
    "# fig.savefig('/Users/yanmemgxing/Nutstore Files/Nutstore/Physics/who_is_surpasser/result_data_plot/type_training_stage(high-impact&surpasser).pdf')"
   ]
  },
  {
   "cell_type": "code",
   "execution_count": 51,
   "id": "e8dea8be-bf01-4439-b46c-eccf227d98be",
   "metadata": {
    "tags": []
   },
   "outputs": [
    {
     "data": {
      "text/plain": [
       "<matplotlib.legend.Legend at 0x15fdf3690>"
      ]
     },
     "execution_count": 51,
     "metadata": {},
     "output_type": "execute_result"
    },
    {
     "data": {
      "image/png": "[encoded data removed]",
      "text/plain": [
       "<Figure size 400x309 with 1 Axes>"
      ]
     },
     "metadata": {},
     "output_type": "display_data"
    }
   ],
   "source": [
    "fig, ax = plt.subplots(1,1,constrained_layout=True,figsize=[0.8*5,0.618*5])\n",
    "sns.set(style='ticks',font_scale=1.2, font='Arial')\n",
    "\n",
    "career_type_df = career_type_df_0\n",
    "\n",
    "# early stage\n",
    "X = 'early_main_ratio'\n",
    "sns.histplot(data=career_type_df, x=X,stat='probability', # 'count' 'probability'\n",
    "             binrange=[0,1],bins=20,element='bars',fill=1,color=type_colors['main'],label='primary',kde=1,\n",
    "             ax=ax)\n",
    "X = 'early_asso_ratio'\n",
    "sns.histplot(data=career_type_df, x=X,stat='probability', \n",
    "             binrange=[0,1],bins=20,element='bars',fill=1,color=type_colors['asso'],label='secondary',kde=1,alpha=0.6,\n",
    "             ax=ax)\n",
    "\n",
    "X = 'early_new_ratio'\n",
    "sns.histplot(data=career_type_df, x=X,stat='probability', #'count' 'probability'\n",
    "             binrange=[0,1],bins=20,element='bars',fill=1,color=type_colors['new'],label='new',kde=1,alpha=0.4,\n",
    "             ax=ax)\n",
    "\n",
    "mean_main = np.mean(career_type_df['early_main_ratio'])\n",
    "mean_asso = np.mean(career_type_df['early_asso_ratio'])\n",
    "mean_new = np.mean(career_type_df['early_new_ratio'])\n",
    "\n",
    "ax.axvline(x=mean_main,color=type_colors['main'],ls='--')\n",
    "ax.axvline(x=mean_asso,color=type_colors['asso'],ls='--')\n",
    "ax.axvline(x=mean_new,color=type_colors['new'],ls='--')\n",
    "\n",
    "ax.set(ylim=[0,0.9],\n",
    "       xlabel='pub_type_ratio',\n",
    "       title='early stage'\n",
    "      )\n",
    "\n",
    "ax.xaxis.set_minor_locator(MultipleLocator(0.05))\n",
    "x_ticks = np.array([0,2,4,6,8,10])/10\n",
    "ax.set_xticks(x_ticks, x_ticks)\n",
    "\n",
    "plt.legend(frameon=0)\n",
    "# fig.savefig('/Users/yanmemgxing/Nutstore Files/Nutstore/Physics/who_is_surpasser/result_data_plot/type_early_stage(high-impact&surpasser).pdf')"
   ]
  },
  {
   "cell_type": "code",
   "execution_count": 52,
   "id": "d9fd1770-f895-4661-b5c9-f34d0d6687d1",
   "metadata": {
    "tags": []
   },
   "outputs": [
    {
     "data": {
      "text/plain": [
       "<matplotlib.legend.Legend at 0x16e017c50>"
      ]
     },
     "execution_count": 52,
     "metadata": {},
     "output_type": "execute_result"
    },
    {
     "data": {
      "image/png": "[encoded data removed]",
      "text/plain": [
       "<Figure size 400x309 with 1 Axes>"
      ]
     },
     "metadata": {},
     "output_type": "display_data"
    }
   ],
   "source": [
    "fig, ax = plt.subplots(1,1,constrained_layout=True,figsize=[0.8*5,0.618*5])\n",
    "sns.set(style='ticks',font_scale=1.2, font='Arial')\n",
    "\n",
    "career_type_df = career_type_df_0[career_type_df_0.median_all>0]\n",
    "\n",
    "# medain stage\n",
    "X = 'median_main_ratio'\n",
    "sns.histplot(data=career_type_df, x=X,stat='probability', # 'count' 'probability'\n",
    "             binrange=[0,1],bins=20,element='bars',fill=1,color=type_colors['main'],label='primary',kde=1,\n",
    "             ax=ax)\n",
    "X = 'median_asso_ratio'\n",
    "sns.histplot(data=career_type_df, x=X,stat='probability', \n",
    "             binrange=[0,1],bins=20,element='bars',fill=1,color=type_colors['asso'],label='secondary',kde=1,alpha=0.6,\n",
    "             ax=ax)\n",
    "\n",
    "X = 'median_new_ratio'\n",
    "sns.histplot(data=career_type_df, x=X,stat='probability', #'count' 'probability'\n",
    "             binrange=[0,1],bins=20,element='bars',fill=1,color=type_colors['new'],label='new',kde=1,alpha=0.4,\n",
    "             ax=ax)\n",
    "\n",
    "mean_main = np.mean(career_type_df['median_main_ratio'])\n",
    "mean_asso = np.mean(career_type_df['median_asso_ratio'])\n",
    "mean_new = np.mean(career_type_df['median_new_ratio'])\n",
    "\n",
    "ax.axvline(x=mean_main,color=type_colors['main'],ls='--')\n",
    "ax.axvline(x=mean_asso,color=type_colors['asso'],ls='--')\n",
    "ax.axvline(x=mean_new,color=type_colors['new'],ls='--')\n",
    "\n",
    "ax.set(ylim=[0,0.9],\n",
    "       xlabel='pub_type_ratio',\n",
    "       title='median stage'\n",
    "      )\n",
    "\n",
    "ax.xaxis.set_minor_locator(MultipleLocator(0.05))\n",
    "x_ticks = np.array([0,2,4,6,8,10])/10\n",
    "ax.set_xticks(x_ticks, x_ticks)\n",
    "\n",
    "plt.legend(frameon=0)\n",
    "# fig.savefig('/Users/yanmemgxing/Nutstore Files/Nutstore/Physics/who_is_surpasser/result_data_plot/type_median_stage(high-impact&surpasser).pdf')"
   ]
  },
  {
   "cell_type": "code",
   "execution_count": 53,
   "id": "be56626a-bb40-4be7-ae15-8365d3d7c548",
   "metadata": {
    "tags": []
   },
   "outputs": [
    {
     "data": {
      "text/plain": [
       "<matplotlib.legend.Legend at 0x15fe2ed10>"
      ]
     },
     "execution_count": 53,
     "metadata": {},
     "output_type": "execute_result"
    },
    {
     "data": {
      "image/png": "[encoded data removed]",
      "text/plain": [
       "<Figure size 400x309 with 1 Axes>"
      ]
     },
     "metadata": {},
     "output_type": "display_data"
    }
   ],
   "source": [
    "fig, ax = plt.subplots(1,1,constrained_layout=True,figsize=[0.8*5,0.618*5])\n",
    "sns.set(style='ticks',font_scale=1.2, font='Arial')\n",
    "\n",
    "career_type_df = career_type_df_0[career_type_df_0.late_all>0]\n",
    "\n",
    "# late stage\n",
    "X = 'late_main_ratio'\n",
    "sns.histplot(data=career_type_df, x=X,stat='probability', # 'count' 'probability'\n",
    "             binrange=[0,1],bins=20,element='bars',fill=1,color=type_colors['main'],label='primary',kde=1,\n",
    "             ax=ax)\n",
    "X = 'late_asso_ratio'\n",
    "sns.histplot(data=career_type_df, x=X,stat='probability', \n",
    "             binrange=[0,1],bins=20,element='bars',fill=1,color=type_colors['asso'],label='secondary',kde=1,alpha=0.6,\n",
    "             ax=ax)\n",
    "\n",
    "X = 'late_new_ratio'\n",
    "sns.histplot(data=career_type_df, x=X,stat='probability', #'count' 'probability'\n",
    "             binrange=[0,1],bins=20,element='bars',fill=1,color=type_colors['new'],label='new',kde=1,alpha=0.4,\n",
    "             ax=ax)\n",
    "\n",
    "mean_main = np.mean(career_type_df['late_main_ratio'])\n",
    "mean_asso = np.mean(career_type_df['late_asso_ratio'])\n",
    "mean_new = np.mean(career_type_df['late_new_ratio'])\n",
    "\n",
    "ax.axvline(x=mean_main,color=type_colors['main'],ls='--')\n",
    "ax.axvline(x=mean_asso,color=type_colors['asso'],ls='--')\n",
    "ax.axvline(x=mean_new,color=type_colors['new'],ls='--')\n",
    "\n",
    "ax.set(ylim=[0,0.9],\n",
    "       xlabel='pub_type_ratio',\n",
    "       title='late stage'\n",
    "      )\n",
    "\n",
    "ax.xaxis.set_minor_locator(MultipleLocator(0.05))\n",
    "x_ticks = np.array([0,2,4,6,8,10])/10\n",
    "ax.set_xticks(x_ticks, x_ticks)\n",
    "\n",
    "plt.legend(frameon=0)\n",
    "# fig.savefig('/Users/yanmemgxing/Nutstore Files/Nutstore/Physics/who_is_surpasser/result_data_plot/type_late_stage(high-impact&surpasser).pdf')"
   ]
  },
  {
   "cell_type": "code",
   "execution_count": null,
   "id": "e4f815bc-720d-4685-9c2b-77a8e1bf04b7",
   "metadata": {},
   "outputs": [],
   "source": []
  }
 ],
 "metadata": {
  "kernelspec": {
   "display_name": "myenv",
   "language": "python",
   "name": "myenv"
  },
  "language_info": {
   "codemirror_mode": {
    "name": "ipython",
    "version": 3
   },
   "file_extension": ".py",
   "mimetype": "text/x-python",
   "name": "python",
   "nbconvert_exporter": "python",
   "pygments_lexer": "ipython3",
   "version": "3.11.3"
  }
 },
 "nbformat": 4,
 "nbformat_minor": 5
}
