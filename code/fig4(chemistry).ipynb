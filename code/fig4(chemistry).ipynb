{
 "cells": [
  {
   "cell_type": "code",
   "execution_count": 1,
   "id": "d67620f8-a80b-456c-bae4-73a938c5944f",
   "metadata": {
    "tags": []
   },
   "outputs": [],
   "source": [
    "import pandas as pd\n",
    "import numpy as np\n",
    "import matplotlib.pyplot as plt"
   ]
  },
  {
   "cell_type": "markdown",
   "id": "d9641cc7-cb2c-4bc2-903e-6c1ddeb34657",
   "metadata": {},
   "source": [
    "#### Mentee credit evolution"
   ]
  },
  {
   "cell_type": "code",
   "execution_count": 2,
   "id": "5e255eb7-b60b-4732-ab8c-fc254258503f",
   "metadata": {
    "tags": []
   },
   "outputs": [
    {
     "name": "stdout",
     "output_type": "stream",
     "text": [
      "5.300204913761735\n",
      "6.939748888270694\n",
      "5.32653585974012\n"
     ]
    }
   ],
   "source": [
    "all_main_cits5 = pd.read_csv('elites_main_credit_mte.csv')\n",
    "all_asso_cits5 = pd.read_csv('elites_asso_credit_mte.csv')\n",
    "all_new_cits5 = pd.read_csv('elites_new_credit_mte.csv')\n",
    "\n",
    "print(np.mean(all_main_cits5.weight_frac_credit))\n",
    "print(np.mean(all_asso_cits5.weight_frac_credit))\n",
    "print(np.mean(all_new_cits5.weight_frac_credit))"
   ]
  },
  {
   "cell_type": "code",
   "execution_count": 3,
   "id": "4dd93222-edf2-44cc-a8a7-5256d5643c9d",
   "metadata": {
    "tags": []
   },
   "outputs": [],
   "source": [
    "def cumsum_cits5(tp_df):\n",
    "    ave_cits5 = tp_df.groupby('career_age')['weight_frac_credit'].agg('sum').reset_index(name='weight_frac_credit')\n",
    "    cumsum_cits5 = ave_cits5.cumsum()['weight_frac_credit']\n",
    "    try:\n",
    "        ave_cits5['cumu. credit'] = cumsum_cits5\n",
    "    except:\n",
    "        ave_cits5 = 'error'\n",
    "    \n",
    "    ave_cits5 = ave_cits5.values\n",
    "    \n",
    "    return ave_cits5"
   ]
  },
  {
   "cell_type": "code",
   "execution_count": 4,
   "id": "23b3c03f-4c36-4cfd-9b01-fa3996ee574e",
   "metadata": {
    "tags": []
   },
   "outputs": [],
   "source": [
    "temp_main_mte = all_main_cits5.groupby('mentee_id').apply(cumsum_cits5).reset_index(name='weight_frac_credit')\n",
    "\n",
    "cumu_cits5_info_mte = pd.DataFrame([],columns=['career_age','weight_frac_credit','cumu_credit','mentee_id'])\n",
    "for k in temp_main_mte.values:\n",
    "    mentee_id = k[0]\n",
    "    mentee_cits_info = k[1]\n",
    "    \n",
    "    \n",
    "    mentee_cits_info = pd.DataFrame(mentee_cits_info,columns=['career_age','weight_frac_credit','cumu_credit'])\n",
    "    career_len = int(max(mentee_cits_info.career_age))\n",
    "    # print(career_len)\n",
    "    age_list = list(range(career_len))\n",
    "    zero_cits5 = np.array(list(set(age_list) - set(mentee_cits_info.career_age)))\n",
    "    zero_cits5_ = zero_cits5 - 1\n",
    "    temp = mentee_cits_info[mentee_cits_info.career_age.isin(zero_cits5_)]\n",
    "    temp.loc[:,'career_age'] = np.array(temp['career_age']) + 1\n",
    "    temp.loc[:,'weight_frac_credit'] = 0\n",
    "    mentee_cits_info = pd.concat((mentee_cits_info,temp)).sort_values(by='career_age')\n",
    "    \n",
    "    mentee_cits_info.loc[:,'mentee_id'] = mentee_id\n",
    "    \n",
    "    cumu_cits5_info_mte = pd.concat((cumu_cits5_info_mte,mentee_cits_info))\n",
    "mte_evolution = cumu_cits5_info_mte.groupby('career_age')[['weight_frac_credit','cumu_credit']].agg('mean').reset_index()\n",
    "mte_main_evolution = mte_evolution[mte_evolution.career_age<100]"
   ]
  },
  {
   "cell_type": "code",
   "execution_count": 5,
   "id": "a78c889d-4307-42f7-9f90-c609733eb64e",
   "metadata": {
    "tags": []
   },
   "outputs": [],
   "source": [
    "temp_asso_mte = all_asso_cits5.groupby('mentee_id').apply(cumsum_cits5).reset_index(name='weight_frac_credit')\n",
    "\n",
    "cumu_cits5_info_mte = pd.DataFrame([],columns=['career_age','weight_frac_credit','cumu_credit','mentee_id'])\n",
    "for k in temp_asso_mte.values:\n",
    "    mentee_id = k[0]\n",
    "    mentee_cits_info = k[1]\n",
    "    \n",
    "    \n",
    "    mentee_cits_info = pd.DataFrame(mentee_cits_info,columns=['career_age','weight_frac_credit','cumu_credit'])\n",
    "    career_len = int(max(mentee_cits_info.career_age))\n",
    "    # print(career_len)\n",
    "    age_list = list(range(career_len))\n",
    "    zero_cits5 = np.array(list(set(age_list) - set(mentee_cits_info.career_age)))\n",
    "    zero_cits5_ = zero_cits5 - 1\n",
    "    temp = mentee_cits_info[mentee_cits_info.career_age.isin(zero_cits5_)]\n",
    "    temp.loc[:,'career_age'] = np.array(temp['career_age']) + 1\n",
    "    temp.loc[:,'weight_frac_credit'] = 0\n",
    "    mentee_cits_info = pd.concat((mentee_cits_info,temp)).sort_values(by='career_age')\n",
    "    \n",
    "    mentee_cits_info.loc[:,'mentee_id'] = mentee_id\n",
    "    \n",
    "    cumu_cits5_info_mte = pd.concat((cumu_cits5_info_mte,mentee_cits_info))\n",
    "\n",
    "mte_evolution = cumu_cits5_info_mte.groupby('career_age')[['weight_frac_credit','cumu_credit']].agg('mean').reset_index()\n",
    "mte_asso_evolution = mte_evolution[mte_evolution.career_age<100]"
   ]
  },
  {
   "cell_type": "code",
   "execution_count": 6,
   "id": "720c6a09-b587-4bcd-89b7-9fa9d8026728",
   "metadata": {
    "tags": []
   },
   "outputs": [],
   "source": [
    "temp_new_mte = all_new_cits5.groupby('mentee_id').apply(cumsum_cits5).reset_index(name='weight_frac_credit')\n",
    "\n",
    "cumu_cits5_info_mte = pd.DataFrame([],columns=['career_age','weight_frac_credit','cumu_credit','mentee_id'])\n",
    "for k in temp_new_mte.values:\n",
    "    mentee_id = k[0]\n",
    "    mentee_cits_info = k[1]\n",
    "    \n",
    "    \n",
    "    mentee_cits_info = pd.DataFrame(mentee_cits_info,columns=['career_age','weight_frac_credit','cumu_credit'])\n",
    "    career_len = int(max(mentee_cits_info.career_age))\n",
    "    # print(career_len)\n",
    "    age_list = list(range(career_len))\n",
    "    zero_cits5 = np.array(list(set(age_list) - set(mentee_cits_info.career_age)))\n",
    "    zero_cits5_ = zero_cits5 - 1\n",
    "    temp = mentee_cits_info[mentee_cits_info.career_age.isin(zero_cits5_)]\n",
    "    temp.loc[:,'career_age'] = np.array(temp['career_age']) + 1\n",
    "    temp.loc[:,'weight_frac_credit'] = 0\n",
    "    mentee_cits_info = pd.concat((mentee_cits_info,temp)).sort_values(by='career_age')\n",
    "    \n",
    "    mentee_cits_info.loc[:,'mentee_id'] = mentee_id\n",
    "    \n",
    "    cumu_cits5_info_mte = pd.concat((cumu_cits5_info_mte,mentee_cits_info))\n",
    "\n",
    "mte_evolution = cumu_cits5_info_mte.groupby('career_age')[['weight_frac_credit','cumu_credit']].agg('mean').reset_index()\n",
    "mte_new_evolution = mte_evolution[mte_evolution.career_age<100]"
   ]
  },
  {
   "cell_type": "code",
   "execution_count": 7,
   "id": "73036963-6435-4a81-be0a-83d6f4d25eda",
   "metadata": {
    "tags": []
   },
   "outputs": [
    {
     "data": {
      "text/html": [
       "<div>\n",
       "<style scoped>\n",
       "    .dataframe tbody tr th:only-of-type {\n",
       "        vertical-align: middle;\n",
       "    }\n",
       "\n",
       "    .dataframe tbody tr th {\n",
       "        vertical-align: top;\n",
       "    }\n",
       "\n",
       "    .dataframe thead th {\n",
       "        text-align: right;\n",
       "    }\n",
       "</style>\n",
       "<table border=\"1\" class=\"dataframe\">\n",
       "  <thead>\n",
       "    <tr style=\"text-align: right;\">\n",
       "      <th></th>\n",
       "      <th>career_age</th>\n",
       "      <th>weight_frac_credit</th>\n",
       "      <th>cumu_credit</th>\n",
       "      <th>mentee_id</th>\n",
       "    </tr>\n",
       "  </thead>\n",
       "  <tbody>\n",
       "    <tr>\n",
       "      <th>0</th>\n",
       "      <td>8.0</td>\n",
       "      <td>14.916667</td>\n",
       "      <td>14.916667</td>\n",
       "      <td>A100328954</td>\n",
       "    </tr>\n",
       "    <tr>\n",
       "      <th>0</th>\n",
       "      <td>9.0</td>\n",
       "      <td>0.000000</td>\n",
       "      <td>14.916667</td>\n",
       "      <td>A100328954</td>\n",
       "    </tr>\n",
       "    <tr>\n",
       "      <th>1</th>\n",
       "      <td>12.0</td>\n",
       "      <td>4.000000</td>\n",
       "      <td>18.916667</td>\n",
       "      <td>A100328954</td>\n",
       "    </tr>\n",
       "    <tr>\n",
       "      <th>2</th>\n",
       "      <td>13.0</td>\n",
       "      <td>8.400000</td>\n",
       "      <td>27.316667</td>\n",
       "      <td>A100328954</td>\n",
       "    </tr>\n",
       "    <tr>\n",
       "      <th>3</th>\n",
       "      <td>14.0</td>\n",
       "      <td>1520.000000</td>\n",
       "      <td>1547.316667</td>\n",
       "      <td>A100328954</td>\n",
       "    </tr>\n",
       "  </tbody>\n",
       "</table>\n",
       "</div>"
      ],
      "text/plain": [
       "   career_age  weight_frac_credit  cumu_credit   mentee_id\n",
       "0         8.0           14.916667    14.916667  A100328954\n",
       "0         9.0            0.000000    14.916667  A100328954\n",
       "1        12.0            4.000000    18.916667  A100328954\n",
       "2        13.0            8.400000    27.316667  A100328954\n",
       "3        14.0         1520.000000  1547.316667  A100328954"
      ]
     },
     "execution_count": 7,
     "metadata": {},
     "output_type": "execute_result"
    }
   ],
   "source": [
    "cumu_cits5_info_mte.head(5)"
   ]
  },
  {
   "cell_type": "markdown",
   "id": "9cea2fab-2e28-473d-b4cf-088a517a75d1",
   "metadata": {
    "tags": []
   },
   "source": [
    "#### Mentor credit evolution"
   ]
  },
  {
   "cell_type": "code",
   "execution_count": 8,
   "id": "d7384786-1802-4906-ad22-6d3d8b6f38f7",
   "metadata": {
    "tags": []
   },
   "outputs": [
    {
     "name": "stdout",
     "output_type": "stream",
     "text": [
      "444694\n",
      "141088\n",
      "0\n",
      "4.308845626153479\n",
      "3.6145752685717594\n",
      "nan\n"
     ]
    }
   ],
   "source": [
    "all_main_cits5 = pd.read_csv('elites_main_credit_mto.csv')\n",
    "all_asso_cits5 = pd.read_csv('elites_asso_credit_mto.csv')\n",
    "all_new_cits5 = pd.read_csv('elites_new_credit_mto.csv')\n",
    "\n",
    "print(len(all_main_cits5))\n",
    "print(len(all_asso_cits5))\n",
    "print(len(all_new_cits5))\n",
    "print(np.mean(all_main_cits5.weight_frac_credit))\n",
    "print(np.mean(all_asso_cits5.weight_frac_credit))\n",
    "print(np.mean(all_new_cits5.weight_frac_credit))"
   ]
  },
  {
   "cell_type": "code",
   "execution_count": 9,
   "id": "d5711152-4157-4555-b158-1ec5bb603728",
   "metadata": {
    "tags": []
   },
   "outputs": [],
   "source": [
    "def cumsum_cits5(tp_df):\n",
    "    ave_cits5 = tp_df.groupby('career_age')['weight_frac_credit'].agg('sum').reset_index(name='weight_frac_credit')\n",
    "    cumsum_cits5 = ave_cits5.cumsum()['weight_frac_credit']\n",
    "    try:\n",
    "        ave_cits5['cumu. credit'] = cumsum_cits5\n",
    "    except:\n",
    "        ave_cits5 = 'error'\n",
    "    \n",
    "    ave_cits5 = ave_cits5.values\n",
    "    \n",
    "    return ave_cits5"
   ]
  },
  {
   "cell_type": "markdown",
   "id": "01dac788-5c81-4686-9e6b-dcdf6c7a37d1",
   "metadata": {},
   "source": [
    "##### main topic"
   ]
  },
  {
   "cell_type": "code",
   "execution_count": 10,
   "id": "daa3e489-8a6e-4487-8357-898bd2065902",
   "metadata": {
    "tags": []
   },
   "outputs": [],
   "source": [
    "temp_main_mto = all_main_cits5.groupby('mentor_id').apply(cumsum_cits5).reset_index(name='weight_frac_credit')\n",
    "\n",
    "cumu_cits5_info_mto = pd.DataFrame([],columns=['career_age','weight_frac_credit','cumu_credit','mentor_id'])\n",
    "for k in temp_main_mto.values:\n",
    "    mentor_id = k[0]\n",
    "    mentee_cits_info = k[1]\n",
    "    \n",
    "    \n",
    "    mentee_cits_info = pd.DataFrame(mentee_cits_info,columns=['career_age','weight_frac_credit','cumu_credit'])\n",
    "    career_len = int(max(mentee_cits_info.career_age))\n",
    "    # print(career_len)\n",
    "    age_list = list(range(career_len))\n",
    "    zero_cits5 = np.array(list(set(age_list) - set(mentee_cits_info.career_age)))\n",
    "    zero_cits5_ = zero_cits5 - 1\n",
    "    temp = mentee_cits_info[mentee_cits_info.career_age.isin(zero_cits5_)]\n",
    "    temp.loc[:,'career_age'] = np.array(temp['career_age']) + 1\n",
    "    temp.loc[:,'weight_frac_credit'] = 0\n",
    "    mentee_cits_info = pd.concat((mentee_cits_info,temp)).sort_values(by='career_age')\n",
    "    \n",
    "    mentee_cits_info.loc[:,'mentor_id'] = mentor_id\n",
    "    \n",
    "    cumu_cits5_info_mto = pd.concat((cumu_cits5_info_mto,mentee_cits_info))\n",
    "    \n",
    "mto_evolution = cumu_cits5_info_mto.groupby('career_age')[['weight_frac_credit','cumu_credit']].agg('mean').reset_index()\n",
    "mto_main_evolution = mto_evolution[mto_evolution.career_age<100]"
   ]
  },
  {
   "cell_type": "markdown",
   "id": "9e3de2fd-0361-45e1-bbfc-40d5dc6a8813",
   "metadata": {},
   "source": [
    "##### asso topic"
   ]
  },
  {
   "cell_type": "code",
   "execution_count": 11,
   "id": "f9bb3731-fd62-4782-a2ce-912d49b59355",
   "metadata": {
    "tags": []
   },
   "outputs": [],
   "source": [
    "temp_asso_mto = all_asso_cits5.groupby('mentor_id').apply(cumsum_cits5).reset_index(name='weight_frac_credit') #adjust\n",
    "\n",
    "cumu_cits5_info_mto = pd.DataFrame([],columns=['career_age','weight_frac_credit','cumu_credit','mentor_id'])\n",
    "for k in temp_asso_mto.values:     #adjust\n",
    "    mentor_id = k[0]\n",
    "    mentee_cits_info = k[1]\n",
    "    \n",
    "    \n",
    "    mentee_cits_info = pd.DataFrame(mentee_cits_info,columns=['career_age','weight_frac_credit','cumu_credit'])\n",
    "    career_len = int(max(mentee_cits_info.career_age))\n",
    "    # print(career_len)\n",
    "    age_list = list(range(career_len))\n",
    "    zero_cits5 = np.array(list(set(age_list) - set(mentee_cits_info.career_age)))\n",
    "    zero_cits5_ = zero_cits5 - 1\n",
    "    temp = mentee_cits_info[mentee_cits_info.career_age.isin(zero_cits5_)]\n",
    "    temp.loc[:,'career_age'] = np.array(temp['career_age']) + 1\n",
    "    temp.loc[:,'weight_frac_credit'] = 0\n",
    "    mentee_cits_info = pd.concat((mentee_cits_info,temp)).sort_values(by='career_age')\n",
    "    \n",
    "    mentee_cits_info.loc[:,'mentor_id'] = mentor_id\n",
    "    \n",
    "    cumu_cits5_info_mto = pd.concat((cumu_cits5_info_mto,mentee_cits_info))\n",
    "    \n",
    "mto_evolution = cumu_cits5_info_mto.groupby('career_age')[['weight_frac_credit','cumu_credit']].agg('mean').reset_index()\n",
    "mto_asso_evolution = mto_evolution[mto_evolution.career_age<100] #adjust"
   ]
  },
  {
   "cell_type": "markdown",
   "id": "88f863a5-3e2c-446c-b9f0-48c2b597ab52",
   "metadata": {},
   "source": [
    "### Plot"
   ]
  },
  {
   "cell_type": "code",
   "execution_count": 12,
   "id": "f083c457-f1fe-432a-a9f7-1d8a23026f41",
   "metadata": {
    "tags": []
   },
   "outputs": [],
   "source": [
    "from matplotlib.pyplot import MultipleLocator\n",
    "import matplotlib.pyplot as plt\n",
    "import seaborn as sns  #画密度图\n",
    "from matplotlib.ticker import MaxNLocator, FuncFormatter, MultipleLocator\n",
    "import matplotlib.ticker as ticker\n",
    "import palettable #python颜色库\n",
    "\n",
    "type_colors = {'all':'k','main':'#fc8d62','asso':'#66c2a5','new':'grey'}"
   ]
  },
  {
   "cell_type": "code",
   "execution_count": 30,
   "id": "b5d4c30b-484a-48e0-b87f-d7642c4dc2fa",
   "metadata": {
    "tags": []
   },
   "outputs": [
    {
     "data": {
      "image/png": "[encoded data removed]",
      "text/plain": [
       "<Figure size 470x320 with 1 Axes>"
      ]
     },
     "metadata": {},
     "output_type": "display_data"
    }
   ],
   "source": [
    "sns.set(style='ticks', font_scale=1.2, font='Arial')\n",
    "fig, ax = plt.subplots(figsize=(4.7*1.0,3.2), constrained_layout=True)\n",
    "\n",
    "# ------------------------------------------ Mentor ------------------------------------------\n",
    "# average cumulative\n",
    "sum_cumu_credit = mto_main_evolution.cumu_credit + mto_asso_evolution.cumu_credit\n",
    "ax.plot(mto_main_evolution.career_age ,sum_cumu_credit,label='all_mentor',marker='',color='k',mec='k',mfc='white',ls='--')\n",
    "ax.set(xlabel='career age',ylabel='< cumu. credit >',\n",
    "      xlim=[-1,40],ylim=[1,5000])\n",
    "\n",
    "\n",
    "# ------------------------------------------ Mentee ------------------------------------------\n",
    "# #average cumulative\n",
    "sum_cumu_credit = mte_new_evolution.cumu_credit + mte_main_evolution.cumu_credit + mte_asso_evolution.cumu_credit\n",
    "ax.plot(mte_new_evolution.career_age ,sum_cumu_credit,label='all_mentee',marker='',color='k',mec='k',mfc='white')\n",
    "ax.plot(mto_main_evolution.career_age,mto_main_evolution.cumu_credit,marker='',color='white',ls='--',label=' ',alpha=0,\n",
    "            mec='#fc8d62',mfc='white')\n",
    "\n",
    "ax.plot(mte_main_evolution.career_age,mte_main_evolution.cumu_credit,label='primary',marker='',color='#fc8d62',mec='#fc8d62',mfc='white')\n",
    "ax.plot(mte_asso_evolution.career_age,mte_asso_evolution.cumu_credit,label='secondary',marker='',color='#66c2a5',mec='#66c2a5',mfc='white')\n",
    "ax.plot(mte_new_evolution.career_age,mte_new_evolution.cumu_credit,label='new',marker='',color='grey',mec='grey',mfc='white')\n",
    "\n",
    "ax.axvline(x=10,ls='--',color='#bdd7e7')\n",
    "ax.axvline(x=20,ls='--',color='#6baed6')\n",
    "ax.axvline(x=30,ls='--',color='#2171b5')\n",
    "\n",
    "ax.xaxis.set_major_locator(MultipleLocator(5))\n",
    "ax.xaxis.set_minor_locator(MultipleLocator(5))\n",
    "\n",
    "plt.legend(frameon=0,ncols=2,loc='lower right')\n",
    "plt.yscale('log',base=10)\n",
    "ax.spines['right'].set_visible(False)\n",
    "ax.spines['top'].set_visible(False)\n",
    "plt.show()\n",
    "# fig.savefig('/Users/yanmemgxing/Nutstore Files/Nutstore/Chemistry/result_data_plot/new_plot/average cumu credit(high-impact surpasser).pdf')"
   ]
  },
  {
   "cell_type": "markdown",
   "id": "4c5204fd-3b9b-4847-958e-826e8b07deb9",
   "metadata": {},
   "source": [
    "### pub. type distribution in different career stage"
   ]
  },
  {
   "cell_type": "code",
   "execution_count": 14,
   "id": "480c18aa-cdd4-4f1c-8922-5d15c8f6091c",
   "metadata": {
    "tags": []
   },
   "outputs": [],
   "source": [
    "all_main_cits5 = pd.read_csv('elites_main_credit_mte.csv')\n",
    "all_asso_cits5 = pd.read_csv('elites_asso_credit_mte.csv')\n",
    "all_new_cits5 = pd.read_csv('elites_new_credit_mte.csv')"
   ]
  },
  {
   "cell_type": "code",
   "execution_count": 15,
   "id": "6cd64bd0-cc14-48e7-8d6b-b90e9115c785",
   "metadata": {
    "tags": []
   },
   "outputs": [],
   "source": [
    "all_paper_mte = pd.DataFrame([],columns=['mentee_id','weight_frac_credit','career_age','type'])\n",
    "all_paper_mte = pd.concat((all_paper_mte,all_main_cits5))\n",
    "all_paper_mte = pd.concat((all_paper_mte,all_asso_cits5))\n",
    "all_paper_mte = pd.concat((all_paper_mte,all_new_cits5))"
   ]
  },
  {
   "cell_type": "code",
   "execution_count": 16,
   "id": "3b70a700-47ff-491c-834d-a265b8ba0a9f",
   "metadata": {
    "tags": []
   },
   "outputs": [],
   "source": [
    "def career_type(tp_df):\n",
    "    c0 = 0\n",
    "    c1 = 20\n",
    "    c2 = 30\n",
    "    c_special = 10\n",
    "    \n",
    "    c_special_all = tp_df[(tp_df.career_age>=c0)&(tp_df.career_age<c_special)]\n",
    "    c_special_main = tp_df[(tp_df.career_age>=c0)&(tp_df.career_age<c_special)&(tp_df.type=='main')]\n",
    "    c_special_asso = tp_df[(tp_df.career_age>=c0)&(tp_df.career_age<c_special)&(tp_df.type=='asso')]\n",
    "    c_special_new = tp_df[(tp_df.career_age>=c0)&(tp_df.career_age<c_special)&(tp_df.type=='new')]\n",
    "    \n",
    "    c0_all = tp_df[(tp_df.career_age>=c_special)&(tp_df.career_age<c1)]\n",
    "    c0_main = tp_df[(tp_df.career_age>=c_special)&(tp_df.career_age<c1)&(tp_df.type=='main')]\n",
    "    c0_asso = tp_df[(tp_df.career_age>=c_special)&(tp_df.career_age<c1)&(tp_df.type=='asso')]\n",
    "    c0_new = tp_df[(tp_df.career_age>=c_special)&(tp_df.career_age<c1)&(tp_df.type=='new')]\n",
    "\n",
    "\n",
    "\n",
    "    c1_all = tp_df[(tp_df.career_age>=c1)&(tp_df.career_age<c2)]\n",
    "    c1_main = tp_df[(tp_df.career_age>=c1)&(tp_df.career_age<c2)&(tp_df.type=='main')]\n",
    "    c1_asso = tp_df[(tp_df.career_age>=c1)&(tp_df.career_age<c2)&(tp_df.type=='asso')]\n",
    "    c1_new = tp_df[(tp_df.career_age>=c1)&(tp_df.career_age<c2)&(tp_df.type=='new')]\n",
    "\n",
    "    c2_all = tp_df[tp_df.career_age>=c2]\n",
    "    c2_main = tp_df[(tp_df.career_age>=c2)&(tp_df.type=='main')]\n",
    "    c2_asso = tp_df[(tp_df.career_age>=c2)&(tp_df.type=='asso')]\n",
    "    c2_new = tp_df[(tp_df.career_age>=c2)&(tp_df.type=='new')]\n",
    "\n",
    "    c_output = [len(c0_all),len(c0_main),len(c0_asso),len(c0_new),len(c1_all),len(c1_main),len(c1_asso),len(c1_new),\n",
    "                len(c2_all),len(c2_main),len(c2_asso),len(c2_new),len(c_special_all),len(c_special_main),len(c_special_asso),len(c_special_new)]\n",
    "    \n",
    "    return c_output"
   ]
  },
  {
   "cell_type": "code",
   "execution_count": 17,
   "id": "f61cb6de-fc97-4907-a51f-fef94bd11247",
   "metadata": {
    "tags": []
   },
   "outputs": [],
   "source": [
    "career_type = all_paper_mte.groupby('mentee_id').apply(career_type).reset_index(name='career_type')"
   ]
  },
  {
   "cell_type": "code",
   "execution_count": 18,
   "id": "c44ffdb6-a66e-4bc3-9e59-214eae404c6b",
   "metadata": {
    "tags": []
   },
   "outputs": [
    {
     "data": {
      "text/html": [
       "<div>\n",
       "<style scoped>\n",
       "    .dataframe tbody tr th:only-of-type {\n",
       "        vertical-align: middle;\n",
       "    }\n",
       "\n",
       "    .dataframe tbody tr th {\n",
       "        vertical-align: top;\n",
       "    }\n",
       "\n",
       "    .dataframe thead th {\n",
       "        text-align: right;\n",
       "    }\n",
       "</style>\n",
       "<table border=\"1\" class=\"dataframe\">\n",
       "  <thead>\n",
       "    <tr style=\"text-align: right;\">\n",
       "      <th></th>\n",
       "      <th>mentee_id</th>\n",
       "      <th>career_type</th>\n",
       "    </tr>\n",
       "  </thead>\n",
       "  <tbody>\n",
       "    <tr>\n",
       "      <th>0</th>\n",
       "      <td>A1002422011</td>\n",
       "      <td>[2, 2, 0, 0, 20, 19, 1, 0, 79, 21, 58, 0, 0, 0...</td>\n",
       "    </tr>\n",
       "    <tr>\n",
       "      <th>1</th>\n",
       "      <td>A100328954</td>\n",
       "      <td>[48, 2, 16, 30, 207, 3, 68, 136, 618, 0, 191, ...</td>\n",
       "    </tr>\n",
       "    <tr>\n",
       "      <th>2</th>\n",
       "      <td>A101383955</td>\n",
       "      <td>[169, 8, 111, 50, 0, 0, 0, 0, 0, 0, 0, 0, 30, ...</td>\n",
       "    </tr>\n",
       "    <tr>\n",
       "      <th>3</th>\n",
       "      <td>A101511996</td>\n",
       "      <td>[102, 1, 0, 101, 164, 1, 0, 163, 0, 0, 0, 0, 4...</td>\n",
       "    </tr>\n",
       "    <tr>\n",
       "      <th>4</th>\n",
       "      <td>A103307622</td>\n",
       "      <td>[89, 42, 47, 0, 128, 45, 73, 10, 83, 12, 34, 3...</td>\n",
       "    </tr>\n",
       "  </tbody>\n",
       "</table>\n",
       "</div>"
      ],
      "text/plain": [
       "     mentee_id                                        career_type\n",
       "0  A1002422011  [2, 2, 0, 0, 20, 19, 1, 0, 79, 21, 58, 0, 0, 0...\n",
       "1   A100328954  [48, 2, 16, 30, 207, 3, 68, 136, 618, 0, 191, ...\n",
       "2   A101383955  [169, 8, 111, 50, 0, 0, 0, 0, 0, 0, 0, 0, 30, ...\n",
       "3   A101511996  [102, 1, 0, 101, 164, 1, 0, 163, 0, 0, 0, 0, 4...\n",
       "4   A103307622  [89, 42, 47, 0, 128, 45, 73, 10, 83, 12, 34, 3..."
      ]
     },
     "execution_count": 18,
     "metadata": {},
     "output_type": "execute_result"
    }
   ],
   "source": [
    "career_type.head(5)"
   ]
  },
  {
   "cell_type": "code",
   "execution_count": 19,
   "id": "ec49bd48-33b6-427d-b90b-33a056e90467",
   "metadata": {
    "tags": []
   },
   "outputs": [],
   "source": [
    "df_list = []\n",
    "tp_array = career_type.values\n",
    "for k in tp_array:\n",
    "    tp_k = k[1]\n",
    "    tp_k.append(k[0])\n",
    "    df_list.append(tp_k)"
   ]
  },
  {
   "cell_type": "code",
   "execution_count": 20,
   "id": "d17fb7f8-c855-4857-b1e7-35df78b4959f",
   "metadata": {
    "tags": []
   },
   "outputs": [],
   "source": [
    "career_type_df_0 = pd.DataFrame(df_list,columns=['early_all','early_main','early_asso','early_new',\n",
    "                             'median_all','median_main','median_asso','median_new',\n",
    "                             'late_all','late_main','late_asso','late_new',\n",
    "                             'special_all','special_main','special_asso','special_new',\n",
    "                             'mentee_id'])"
   ]
  },
  {
   "cell_type": "code",
   "execution_count": 21,
   "id": "61d1cae7-2b5e-4efa-905f-1b6a27a9d222",
   "metadata": {
    "tags": []
   },
   "outputs": [
    {
     "data": {
      "text/html": [
       "<div>\n",
       "<style scoped>\n",
       "    .dataframe tbody tr th:only-of-type {\n",
       "        vertical-align: middle;\n",
       "    }\n",
       "\n",
       "    .dataframe tbody tr th {\n",
       "        vertical-align: top;\n",
       "    }\n",
       "\n",
       "    .dataframe thead th {\n",
       "        text-align: right;\n",
       "    }\n",
       "</style>\n",
       "<table border=\"1\" class=\"dataframe\">\n",
       "  <thead>\n",
       "    <tr style=\"text-align: right;\">\n",
       "      <th></th>\n",
       "      <th>early_all</th>\n",
       "      <th>early_main</th>\n",
       "      <th>early_asso</th>\n",
       "      <th>early_new</th>\n",
       "      <th>median_all</th>\n",
       "      <th>median_main</th>\n",
       "      <th>median_asso</th>\n",
       "      <th>median_new</th>\n",
       "      <th>late_all</th>\n",
       "      <th>late_main</th>\n",
       "      <th>late_asso</th>\n",
       "      <th>late_new</th>\n",
       "      <th>special_all</th>\n",
       "      <th>special_main</th>\n",
       "      <th>special_asso</th>\n",
       "      <th>special_new</th>\n",
       "      <th>mentee_id</th>\n",
       "    </tr>\n",
       "  </thead>\n",
       "  <tbody>\n",
       "    <tr>\n",
       "      <th>0</th>\n",
       "      <td>2</td>\n",
       "      <td>2</td>\n",
       "      <td>0</td>\n",
       "      <td>0</td>\n",
       "      <td>20</td>\n",
       "      <td>19</td>\n",
       "      <td>1</td>\n",
       "      <td>0</td>\n",
       "      <td>79</td>\n",
       "      <td>21</td>\n",
       "      <td>58</td>\n",
       "      <td>0</td>\n",
       "      <td>0</td>\n",
       "      <td>0</td>\n",
       "      <td>0</td>\n",
       "      <td>0</td>\n",
       "      <td>A1002422011</td>\n",
       "    </tr>\n",
       "    <tr>\n",
       "      <th>1</th>\n",
       "      <td>48</td>\n",
       "      <td>2</td>\n",
       "      <td>16</td>\n",
       "      <td>30</td>\n",
       "      <td>207</td>\n",
       "      <td>3</td>\n",
       "      <td>68</td>\n",
       "      <td>136</td>\n",
       "      <td>618</td>\n",
       "      <td>0</td>\n",
       "      <td>191</td>\n",
       "      <td>427</td>\n",
       "      <td>45</td>\n",
       "      <td>16</td>\n",
       "      <td>25</td>\n",
       "      <td>4</td>\n",
       "      <td>A100328954</td>\n",
       "    </tr>\n",
       "    <tr>\n",
       "      <th>2</th>\n",
       "      <td>169</td>\n",
       "      <td>8</td>\n",
       "      <td>111</td>\n",
       "      <td>50</td>\n",
       "      <td>0</td>\n",
       "      <td>0</td>\n",
       "      <td>0</td>\n",
       "      <td>0</td>\n",
       "      <td>0</td>\n",
       "      <td>0</td>\n",
       "      <td>0</td>\n",
       "      <td>0</td>\n",
       "      <td>30</td>\n",
       "      <td>2</td>\n",
       "      <td>14</td>\n",
       "      <td>14</td>\n",
       "      <td>A101383955</td>\n",
       "    </tr>\n",
       "    <tr>\n",
       "      <th>3</th>\n",
       "      <td>102</td>\n",
       "      <td>1</td>\n",
       "      <td>0</td>\n",
       "      <td>101</td>\n",
       "      <td>164</td>\n",
       "      <td>1</td>\n",
       "      <td>0</td>\n",
       "      <td>163</td>\n",
       "      <td>0</td>\n",
       "      <td>0</td>\n",
       "      <td>0</td>\n",
       "      <td>0</td>\n",
       "      <td>46</td>\n",
       "      <td>16</td>\n",
       "      <td>0</td>\n",
       "      <td>30</td>\n",
       "      <td>A101511996</td>\n",
       "    </tr>\n",
       "    <tr>\n",
       "      <th>4</th>\n",
       "      <td>89</td>\n",
       "      <td>42</td>\n",
       "      <td>47</td>\n",
       "      <td>0</td>\n",
       "      <td>128</td>\n",
       "      <td>45</td>\n",
       "      <td>73</td>\n",
       "      <td>10</td>\n",
       "      <td>83</td>\n",
       "      <td>12</td>\n",
       "      <td>34</td>\n",
       "      <td>37</td>\n",
       "      <td>19</td>\n",
       "      <td>13</td>\n",
       "      <td>6</td>\n",
       "      <td>0</td>\n",
       "      <td>A103307622</td>\n",
       "    </tr>\n",
       "  </tbody>\n",
       "</table>\n",
       "</div>"
      ],
      "text/plain": [
       "   early_all  early_main  early_asso  early_new  median_all  median_main  \\\n",
       "0          2           2           0          0          20           19   \n",
       "1         48           2          16         30         207            3   \n",
       "2        169           8         111         50           0            0   \n",
       "3        102           1           0        101         164            1   \n",
       "4         89          42          47          0         128           45   \n",
       "\n",
       "   median_asso  median_new  late_all  late_main  late_asso  late_new  \\\n",
       "0            1           0        79         21         58         0   \n",
       "1           68         136       618          0        191       427   \n",
       "2            0           0         0          0          0         0   \n",
       "3            0         163         0          0          0         0   \n",
       "4           73          10        83         12         34        37   \n",
       "\n",
       "   special_all  special_main  special_asso  special_new    mentee_id  \n",
       "0            0             0             0            0  A1002422011  \n",
       "1           45            16            25            4   A100328954  \n",
       "2           30             2            14           14   A101383955  \n",
       "3           46            16             0           30   A101511996  \n",
       "4           19            13             6            0   A103307622  "
      ]
     },
     "execution_count": 21,
     "metadata": {},
     "output_type": "execute_result"
    }
   ],
   "source": [
    "career_type_df_0.head(5)"
   ]
  },
  {
   "cell_type": "code",
   "execution_count": 22,
   "id": "cc9d3500-3610-448e-b40b-34dee371a637",
   "metadata": {
    "tags": []
   },
   "outputs": [],
   "source": [
    "career_type_df_0['early_main_ratio'] = career_type_df_0['early_main']/career_type_df_0['early_all']\n",
    "career_type_df_0['early_asso_ratio'] = career_type_df_0['early_asso']/career_type_df_0['early_all']\n",
    "career_type_df_0['early_new_ratio'] = career_type_df_0['early_new']/career_type_df_0['early_all']\n",
    "\n",
    "career_type_df_0['median_main_ratio'] = career_type_df_0['median_main']/career_type_df_0['median_all']\n",
    "career_type_df_0['median_asso_ratio'] = career_type_df_0['median_asso']/career_type_df_0['median_all']\n",
    "career_type_df_0['median_new_ratio'] = career_type_df_0['median_new']/career_type_df_0['median_all']\n",
    "\n",
    "career_type_df_0['late_main_ratio'] = career_type_df_0['late_main']/career_type_df_0['late_all']\n",
    "career_type_df_0['late_asso_ratio'] = career_type_df_0['late_asso']/career_type_df_0['late_all']\n",
    "career_type_df_0['late_new_ratio'] = career_type_df_0['late_new']/career_type_df_0['late_all']\n",
    "\n",
    "career_type_df_0['special_main_ratio'] = career_type_df_0['special_main']/career_type_df_0['special_all']\n",
    "career_type_df_0['special_asso_ratio'] = career_type_df_0['special_asso']/career_type_df_0['special_all']\n",
    "career_type_df_0['special_new_ratio'] = career_type_df_0['special_new']/career_type_df_0['special_all']"
   ]
  },
  {
   "cell_type": "code",
   "execution_count": 23,
   "id": "3546ae59-781e-40f5-924b-01ea1549a9f3",
   "metadata": {
    "tags": []
   },
   "outputs": [],
   "source": [
    "career_type_df = career_type_df_0"
   ]
  },
  {
   "cell_type": "markdown",
   "id": "b7c9326b-3df0-4aa3-afad-ae5b28a2b162",
   "metadata": {},
   "source": [
    "### boxplot"
   ]
  },
  {
   "cell_type": "code",
   "execution_count": 24,
   "id": "e135f7ab-e272-4468-b5d6-f50c70955ce7",
   "metadata": {
    "tags": []
   },
   "outputs": [],
   "source": [
    "data_junior = career_type_df[['special_main_ratio','special_asso_ratio',\n",
    "                              'special_new_ratio']][~career_type_df.special_main_ratio.isnull()]\n",
    "data_junior = np.array(data_junior)\n",
    "\n",
    "data_early = career_type_df[['early_main_ratio','early_asso_ratio',\n",
    "                        'early_new_ratio']][~career_type_df.early_main_ratio.isnull()]\n",
    "data_early = np.array(data_early)\n",
    "\n",
    "data_mature = career_type_df[['median_main_ratio','median_asso_ratio',\n",
    "                        'median_new_ratio']][~career_type_df.median_main_ratio.isnull()]\n",
    "data_mature = np.array(data_mature)\n",
    "\n",
    "data_senior = career_type_df[['late_main_ratio','late_asso_ratio',\n",
    "                        'late_new_ratio']][~career_type_df.late_main_ratio.isnull()]\n",
    "data_senior = np.array(data_senior)"
   ]
  },
  {
   "cell_type": "code",
   "execution_count": 25,
   "id": "b306bd2d-2669-4da3-be74-c2ee1872332c",
   "metadata": {
    "tags": []
   },
   "outputs": [
    {
     "data": {
      "image/png": "[encoded data removed]",
      "text/plain": [
       "<Figure size 300x400 with 4 Axes>"
      ]
     },
     "metadata": {},
     "output_type": "display_data"
    }
   ],
   "source": [
    "fig, axs = plt.subplots(nrows=2, ncols=2, figsize=(3, 4), sharey=True)\n",
    "\n",
    "labels = ['pri.','sec.','new']\n",
    "meanpointprops = dict(marker='^', markeredgecolor='#91bfdb',linewidth=0.5,ms=5,\n",
    "                      markerfacecolor='#91bfdb')\n",
    "meanlineprops = dict(linestyle='--', linewidth=1.0, color='purple')\n",
    "\n",
    "medianprops = dict(linestyle='-', linewidth=1.0, color='#c51b7d')\n",
    "\n",
    "axs[0, 0].boxplot(data_junior, labels=labels,showmeans=True, showfliers=False, \n",
    "                  medianprops=medianprops,\n",
    "                  meanprops=meanpointprops)\n",
    "# axs[0, 0].set_title('showmeans=True', fontsize=fs)\n",
    "\n",
    "axs[0, 1].boxplot(data_early, labels=labels, showmeans=True, showfliers=False,medianprops=medianprops,\n",
    "                  meanprops=meanpointprops)\n",
    "# axs[0, 1].set_title('showmeans=True', fontsize=fs)\n",
    "\n",
    "axs[1, 0].boxplot(data_mature, labels=labels, showmeans=True, showfliers=False,medianprops=medianprops,\n",
    "                  meanprops=meanpointprops)\n",
    "# axs[1, 0].set_title('showmeans=True', fontsize=fs)\n",
    "\n",
    "axs[1, 1].boxplot(data_senior, labels=labels, showmeans=True, showfliers=False,medianprops=medianprops,\n",
    "                  meanprops=meanpointprops)\n",
    "\n",
    "\n",
    "\n",
    "for ax in axs.flat:\n",
    "    # ax.set_yscale('log')\n",
    "    ax.set_yticklabels([])\n",
    "    ax.yaxis.set_major_locator(MultipleLocator(0.2))\n",
    "    ax.yaxis.set_minor_locator(MultipleLocator(0.05))\n",
    "\n",
    "fig.subplots_adjust(hspace=0.4)\n",
    "plt.show()\n",
    "# fig.savefig('/Users/yanmemgxing/Nutstore Files/Nutstore/Chemistry/result_data_plot/new_plot/boxplot(high-impact surpasser).pdf')"
   ]
  },
  {
   "cell_type": "code",
   "execution_count": 26,
   "id": "16937f3e-328a-4199-bc9c-324900ec3777",
   "metadata": {
    "tags": []
   },
   "outputs": [
    {
     "data": {
      "text/plain": [
       "<matplotlib.legend.Legend at 0x15fa8a650>"
      ]
     },
     "execution_count": 26,
     "metadata": {},
     "output_type": "execute_result"
    },
    {
     "data": {
      "image/png": "[encoded data removed]",
      "text/plain": [
       "<Figure size 400x309 with 1 Axes>"
      ]
     },
     "metadata": {},
     "output_type": "display_data"
    }
   ],
   "source": [
    "fig, ax = plt.subplots(1,1,constrained_layout=True,figsize=[0.8*5,0.618*5])\n",
    "sns.set(style='ticks',font_scale=1.2, font='Arial')\n",
    "\n",
    "career_type_df = career_type_df_0\n",
    "\n",
    "# early stage\n",
    "X = 'special_main_ratio'\n",
    "sns.histplot(data=career_type_df, x=X,stat='probability', # 'count' 'probability'\n",
    "             binrange=[0,1],bins=20,element='bars',fill=1,color=type_colors['main'],label='primary',kde=1,\n",
    "             ax=ax)\n",
    "\n",
    "\n",
    "X = 'special_asso_ratio'\n",
    "sns.histplot(data=career_type_df, x=X,stat='probability', \n",
    "             binrange=[0,1],bins=20,element='bars',fill=1,color=type_colors['asso'],label='secondary',kde=1,alpha=0.6,\n",
    "             ax=ax)\n",
    "\n",
    "\n",
    "X = 'special_new_ratio'\n",
    "sns.histplot(data=career_type_df, x=X,stat='probability', #'count' 'probability'\n",
    "             binrange=[0,1],bins=20,element='bars',fill=1,color=type_colors['new'],label='new',kde=1,alpha=0.4,\n",
    "             ax=ax)\n",
    "\n",
    "mean_main = np.mean(career_type_df.special_main_ratio)\n",
    "mean_asso = np.mean(career_type_df.special_asso_ratio)\n",
    "mean_new = np.mean(career_type_df.special_new_ratio)\n",
    "\n",
    "ax.axvline(x=mean_main,color=type_colors['main'],ls='--')\n",
    "ax.axvline(x=mean_asso,color=type_colors['asso'],ls='--')\n",
    "ax.axvline(x=mean_new,color=type_colors['new'],ls='--')\n",
    "\n",
    "ax.set(ylim=[0,0.9],\n",
    "       xlabel='pub_type_ratio',\n",
    "       title='training stage'\n",
    "      )\n",
    "\n",
    "ax.xaxis.set_minor_locator(MultipleLocator(0.05))\n",
    "x_ticks = np.array([0,2,4,6,8,10])/10\n",
    "ax.set_xticks(x_ticks, x_ticks)\n",
    "\n",
    "\n",
    "plt.legend(frameon=0)\n",
    "# fig.savefig('/Users/yanmemgxing/Nutstore Files/Nutstore/Physics/who_is_surpasser/result_data_plot/type_training_stage(high-impact&surpasser).pdf')"
   ]
  },
  {
   "cell_type": "code",
   "execution_count": 27,
   "id": "e8dea8be-bf01-4439-b46c-eccf227d98be",
   "metadata": {
    "tags": []
   },
   "outputs": [
    {
     "data": {
      "text/plain": [
       "<matplotlib.legend.Legend at 0x177f98090>"
      ]
     },
     "execution_count": 27,
     "metadata": {},
     "output_type": "execute_result"
    },
    {
     "data": {
      "image/png": "[encoded data removed]",
      "text/plain": [
       "<Figure size 400x309 with 1 Axes>"
      ]
     },
     "metadata": {},
     "output_type": "display_data"
    }
   ],
   "source": [
    "fig, ax = plt.subplots(1,1,constrained_layout=True,figsize=[0.8*5,0.618*5])\n",
    "sns.set(style='ticks',font_scale=1.2, font='Arial')\n",
    "\n",
    "career_type_df = career_type_df_0\n",
    "\n",
    "# early stage\n",
    "X = 'early_main_ratio'\n",
    "sns.histplot(data=career_type_df, x=X,stat='probability', # 'count' 'probability'\n",
    "             binrange=[0,1],bins=20,element='bars',fill=1,color=type_colors['main'],label='primary',kde=1,\n",
    "             ax=ax)\n",
    "X = 'early_asso_ratio'\n",
    "sns.histplot(data=career_type_df, x=X,stat='probability', \n",
    "             binrange=[0,1],bins=20,element='bars',fill=1,color=type_colors['asso'],label='secondary',kde=1,alpha=0.6,\n",
    "             ax=ax)\n",
    "\n",
    "X = 'early_new_ratio'\n",
    "sns.histplot(data=career_type_df, x=X,stat='probability', #'count' 'probability'\n",
    "             binrange=[0,1],bins=20,element='bars',fill=1,color=type_colors['new'],label='new',kde=1,alpha=0.4,\n",
    "             ax=ax)\n",
    "\n",
    "mean_main = np.mean(career_type_df['early_main_ratio'])\n",
    "mean_asso = np.mean(career_type_df['early_asso_ratio'])\n",
    "mean_new = np.mean(career_type_df['early_new_ratio'])\n",
    "\n",
    "ax.axvline(x=mean_main,color=type_colors['main'],ls='--')\n",
    "ax.axvline(x=mean_asso,color=type_colors['asso'],ls='--')\n",
    "ax.axvline(x=mean_new,color=type_colors['new'],ls='--')\n",
    "\n",
    "ax.set(ylim=[0,0.9],\n",
    "       xlabel='pub_type_ratio',\n",
    "       title='early stage'\n",
    "      )\n",
    "\n",
    "ax.xaxis.set_minor_locator(MultipleLocator(0.05))\n",
    "x_ticks = np.array([0,2,4,6,8,10])/10\n",
    "ax.set_xticks(x_ticks, x_ticks)\n",
    "\n",
    "plt.legend(frameon=0)\n",
    "# fig.savefig('/Users/yanmemgxing/Nutstore Files/Nutstore/Physics/who_is_surpasser/result_data_plot/type_early_stage(high-impact&surpasser).pdf')"
   ]
  },
  {
   "cell_type": "code",
   "execution_count": 28,
   "id": "d9fd1770-f895-4661-b5c9-f34d0d6687d1",
   "metadata": {
    "tags": []
   },
   "outputs": [
    {
     "data": {
      "text/plain": [
       "<matplotlib.legend.Legend at 0x15fb34950>"
      ]
     },
     "execution_count": 28,
     "metadata": {},
     "output_type": "execute_result"
    },
    {
     "data": {
      "image/png": "[encoded data removed]",
      "text/plain": [
       "<Figure size 400x309 with 1 Axes>"
      ]
     },
     "metadata": {},
     "output_type": "display_data"
    }
   ],
   "source": [
    "fig, ax = plt.subplots(1,1,constrained_layout=True,figsize=[0.8*5,0.618*5])\n",
    "sns.set(style='ticks',font_scale=1.2, font='Arial')\n",
    "\n",
    "career_type_df = career_type_df_0[career_type_df_0.median_all>0]\n",
    "\n",
    "# medain stage\n",
    "X = 'median_main_ratio'\n",
    "sns.histplot(data=career_type_df, x=X,stat='probability', # 'count' 'probability'\n",
    "             binrange=[0,1],bins=20,element='bars',fill=1,color=type_colors['main'],label='primary',kde=1,\n",
    "             ax=ax)\n",
    "X = 'median_asso_ratio'\n",
    "sns.histplot(data=career_type_df, x=X,stat='probability', \n",
    "             binrange=[0,1],bins=20,element='bars',fill=1,color=type_colors['asso'],label='secondary',kde=1,alpha=0.6,\n",
    "             ax=ax)\n",
    "\n",
    "X = 'median_new_ratio'\n",
    "sns.histplot(data=career_type_df, x=X,stat='probability', #'count' 'probability'\n",
    "             binrange=[0,1],bins=20,element='bars',fill=1,color=type_colors['new'],label='new',kde=1,alpha=0.4,\n",
    "             ax=ax)\n",
    "\n",
    "mean_main = np.mean(career_type_df['median_main_ratio'])\n",
    "mean_asso = np.mean(career_type_df['median_asso_ratio'])\n",
    "mean_new = np.mean(career_type_df['median_new_ratio'])\n",
    "\n",
    "ax.axvline(x=mean_main,color=type_colors['main'],ls='--')\n",
    "ax.axvline(x=mean_asso,color=type_colors['asso'],ls='--')\n",
    "ax.axvline(x=mean_new,color=type_colors['new'],ls='--')\n",
    "\n",
    "ax.set(ylim=[0,0.9],\n",
    "       xlabel='pub_type_ratio',\n",
    "       title='median stage'\n",
    "      )\n",
    "\n",
    "ax.xaxis.set_minor_locator(MultipleLocator(0.05))\n",
    "x_ticks = np.array([0,2,4,6,8,10])/10\n",
    "ax.set_xticks(x_ticks, x_ticks)\n",
    "\n",
    "plt.legend(frameon=0)\n",
    "# fig.savefig('/Users/yanmemgxing/Nutstore Files/Nutstore/Physics/who_is_surpasser/result_data_plot/type_median_stage(high-impact&surpasser).pdf')"
   ]
  },
  {
   "cell_type": "code",
   "execution_count": 29,
   "id": "be56626a-bb40-4be7-ae15-8365d3d7c548",
   "metadata": {
    "tags": []
   },
   "outputs": [
    {
     "data": {
      "text/plain": [
       "<matplotlib.legend.Legend at 0x3120c8090>"
      ]
     },
     "execution_count": 29,
     "metadata": {},
     "output_type": "execute_result"
    },
    {
     "data": {
      "image/png": "[encoded data removed]",
      "text/plain": [
       "<Figure size 400x309 with 1 Axes>"
      ]
     },
     "metadata": {},
     "output_type": "display_data"
    }
   ],
   "source": [
    "fig, ax = plt.subplots(1,1,constrained_layout=True,figsize=[0.8*5,0.618*5])\n",
    "sns.set(style='ticks',font_scale=1.2, font='Arial')\n",
    "\n",
    "career_type_df = career_type_df_0[career_type_df_0.late_all>0]\n",
    "\n",
    "# late stage\n",
    "X = 'late_main_ratio'\n",
    "sns.histplot(data=career_type_df, x=X,stat='probability', # 'count' 'probability'\n",
    "             binrange=[0,1],bins=20,element='bars',fill=1,color=type_colors['main'],label='primary',kde=1,\n",
    "             ax=ax)\n",
    "X = 'late_asso_ratio'\n",
    "sns.histplot(data=career_type_df, x=X,stat='probability', \n",
    "             binrange=[0,1],bins=20,element='bars',fill=1,color=type_colors['asso'],label='secondary',kde=1,alpha=0.6,\n",
    "             ax=ax)\n",
    "\n",
    "X = 'late_new_ratio'\n",
    "sns.histplot(data=career_type_df, x=X,stat='probability', #'count' 'probability'\n",
    "             binrange=[0,1],bins=20,element='bars',fill=1,color=type_colors['new'],label='new',kde=1,alpha=0.4,\n",
    "             ax=ax)\n",
    "\n",
    "mean_main = np.mean(career_type_df['late_main_ratio'])\n",
    "mean_asso = np.mean(career_type_df['late_asso_ratio'])\n",
    "mean_new = np.mean(career_type_df['late_new_ratio'])\n",
    "\n",
    "ax.axvline(x=mean_main,color=type_colors['main'],ls='--')\n",
    "ax.axvline(x=mean_asso,color=type_colors['asso'],ls='--')\n",
    "ax.axvline(x=mean_new,color=type_colors['new'],ls='--')\n",
    "\n",
    "ax.set(ylim=[0,0.9],\n",
    "       xlabel='pub_type_ratio',\n",
    "       title='late stage'\n",
    "      )\n",
    "\n",
    "ax.xaxis.set_minor_locator(MultipleLocator(0.05))\n",
    "x_ticks = np.array([0,2,4,6,8,10])/10\n",
    "ax.set_xticks(x_ticks, x_ticks)\n",
    "\n",
    "plt.legend(frameon=0)\n",
    "# fig.savefig('/Users/yanmemgxing/Nutstore Files/Nutstore/Physics/who_is_surpasser/result_data_plot/type_late_stage(high-impact&surpasser).pdf')"
   ]
  },
  {
   "cell_type": "code",
   "execution_count": null,
   "id": "e4f815bc-720d-4685-9c2b-77a8e1bf04b7",
   "metadata": {},
   "outputs": [],
   "source": []
  }
 ],
 "metadata": {
  "kernelspec": {
   "display_name": "myenv",
   "language": "python",
   "name": "myenv"
  },
  "language_info": {
   "codemirror_mode": {
    "name": "ipython",
    "version": 3
   },
   "file_extension": ".py",
   "mimetype": "text/x-python",
   "name": "python",
   "nbconvert_exporter": "python",
   "pygments_lexer": "ipython3",
   "version": "3.11.4"
  }
 },
 "nbformat": 4,
 "nbformat_minor": 5
}
