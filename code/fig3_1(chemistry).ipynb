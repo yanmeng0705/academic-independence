{
 "cells": [
  {
   "cell_type": "code",
   "execution_count": 1,
   "id": "a7114cff-3007-40f1-86eb-7884ea4aba19",
   "metadata": {
    "tags": []
   },
   "outputs": [],
   "source": [
    "import pandas as pd\n",
    "import os\n",
    "import numpy as np\n",
    "\n",
    "from matplotlib.pyplot import MultipleLocator\n",
    "import matplotlib.pyplot as plt\n",
    "import seaborn as sns  \n",
    "from matplotlib.dates import DateFormatter, ConciseDateFormatter\n",
    "from matplotlib.ticker import MaxNLocator, FuncFormatter, MultipleLocator\n",
    "import matplotlib.ticker as ticker\n",
    "import palettable "
   ]
  },
  {
   "cell_type": "code",
   "execution_count": 2,
   "id": "58d98fe9-4fc7-46a3-925c-7f6bb192015b",
   "metadata": {
    "tags": []
   },
   "outputs": [
    {
     "name": "stdout",
     "output_type": "stream",
     "text": [
      "236104\n",
      "49628\n"
     ]
    }
   ],
   "source": [
    "key_data = pd.read_csv('Key_Data.csv')        # import prepocessed data including variables: community, cits , cits credit and etc.\n",
    "V0 = pd.read_csv('regression_variables.csv')  # covariates and confounders interacting with research interest and collaboration\n",
    "print(len(key_data))\n",
    "print(len(V0))"
   ]
  },
  {
   "cell_type": "code",
   "execution_count": 3,
   "id": "9fb32cbe-b364-45f8-87a3-3f816b07d44b",
   "metadata": {
    "tags": []
   },
   "outputs": [
    {
     "data": {
      "text/html": [
       "<div>\n",
       "<style scoped>\n",
       "    .dataframe tbody tr th:only-of-type {\n",
       "        vertical-align: middle;\n",
       "    }\n",
       "\n",
       "    .dataframe tbody tr th {\n",
       "        vertical-align: top;\n",
       "    }\n",
       "\n",
       "    .dataframe thead th {\n",
       "        text-align: right;\n",
       "    }\n",
       "</style>\n",
       "<table border=\"1\" class=\"dataframe\">\n",
       "  <thead>\n",
       "    <tr style=\"text-align: right;\">\n",
       "      <th></th>\n",
       "      <th>index_i</th>\n",
       "      <th>mentee_id</th>\n",
       "      <th>mentor_id</th>\n",
       "      <th>community</th>\n",
       "      <th>paper_num_mte</th>\n",
       "      <th>paper_num_mto</th>\n",
       "      <th>paper_ratio_mte</th>\n",
       "      <th>paper_ratio_mto</th>\n",
       "      <th>credit_mte</th>\n",
       "      <th>credit_mto</th>\n",
       "      <th>...</th>\n",
       "      <th>total_cits_mte</th>\n",
       "      <th>total_cits_mto</th>\n",
       "      <th>total_cits5_mte</th>\n",
       "      <th>total_cits5_mto</th>\n",
       "      <th>cits_mte</th>\n",
       "      <th>cits_mto</th>\n",
       "      <th>cits5_mte</th>\n",
       "      <th>cits5_mto</th>\n",
       "      <th>birthYear_mte</th>\n",
       "      <th>birthYear_mto</th>\n",
       "    </tr>\n",
       "  </thead>\n",
       "  <tbody>\n",
       "    <tr>\n",
       "      <th>0</th>\n",
       "      <td>0</td>\n",
       "      <td>A1964335128</td>\n",
       "      <td>A177689540</td>\n",
       "      <td>5.0</td>\n",
       "      <td>0</td>\n",
       "      <td>26</td>\n",
       "      <td>0.0</td>\n",
       "      <td>1.0</td>\n",
       "      <td>0.000000</td>\n",
       "      <td>96.139683</td>\n",
       "      <td>...</td>\n",
       "      <td>7237.0</td>\n",
       "      <td>21415.0</td>\n",
       "      <td>4403.0</td>\n",
       "      <td>5485.0</td>\n",
       "      <td>0.0</td>\n",
       "      <td>1996.0</td>\n",
       "      <td>0.0</td>\n",
       "      <td>673.0</td>\n",
       "      <td>2004</td>\n",
       "      <td>1956</td>\n",
       "    </tr>\n",
       "    <tr>\n",
       "      <th>1</th>\n",
       "      <td>0</td>\n",
       "      <td>A1964335128</td>\n",
       "      <td>A177689540</td>\n",
       "      <td>3.0</td>\n",
       "      <td>0</td>\n",
       "      <td>42</td>\n",
       "      <td>0.0</td>\n",
       "      <td>1.0</td>\n",
       "      <td>0.000000</td>\n",
       "      <td>150.796825</td>\n",
       "      <td>...</td>\n",
       "      <td>7237.0</td>\n",
       "      <td>21415.0</td>\n",
       "      <td>4403.0</td>\n",
       "      <td>5485.0</td>\n",
       "      <td>0.0</td>\n",
       "      <td>1276.0</td>\n",
       "      <td>0.0</td>\n",
       "      <td>264.0</td>\n",
       "      <td>2004</td>\n",
       "      <td>1956</td>\n",
       "    </tr>\n",
       "    <tr>\n",
       "      <th>2</th>\n",
       "      <td>0</td>\n",
       "      <td>A1964335128</td>\n",
       "      <td>A177689540</td>\n",
       "      <td>6.0</td>\n",
       "      <td>25</td>\n",
       "      <td>0</td>\n",
       "      <td>1.0</td>\n",
       "      <td>0.0</td>\n",
       "      <td>523.366667</td>\n",
       "      <td>0.000000</td>\n",
       "      <td>...</td>\n",
       "      <td>7237.0</td>\n",
       "      <td>21415.0</td>\n",
       "      <td>4403.0</td>\n",
       "      <td>5485.0</td>\n",
       "      <td>4163.0</td>\n",
       "      <td>0.0</td>\n",
       "      <td>2469.0</td>\n",
       "      <td>0.0</td>\n",
       "      <td>2004</td>\n",
       "      <td>1956</td>\n",
       "    </tr>\n",
       "  </tbody>\n",
       "</table>\n",
       "<p>3 rows × 25 columns</p>\n",
       "</div>"
      ],
      "text/plain": [
       "   index_i    mentee_id   mentor_id  community  paper_num_mte  paper_num_mto  \\\n",
       "0        0  A1964335128  A177689540        5.0              0             26   \n",
       "1        0  A1964335128  A177689540        3.0              0             42   \n",
       "2        0  A1964335128  A177689540        6.0             25              0   \n",
       "\n",
       "   paper_ratio_mte  paper_ratio_mto  credit_mte  credit_mto  ...  \\\n",
       "0              0.0              1.0    0.000000   96.139683  ...   \n",
       "1              0.0              1.0    0.000000  150.796825  ...   \n",
       "2              1.0              0.0  523.366667    0.000000  ...   \n",
       "\n",
       "   total_cits_mte  total_cits_mto  total_cits5_mte  total_cits5_mto cits_mte  \\\n",
       "0          7237.0         21415.0           4403.0           5485.0      0.0   \n",
       "1          7237.0         21415.0           4403.0           5485.0      0.0   \n",
       "2          7237.0         21415.0           4403.0           5485.0   4163.0   \n",
       "\n",
       "   cits_mto  cits5_mte  cits5_mto  birthYear_mte  birthYear_mto  \n",
       "0    1996.0        0.0      673.0           2004           1956  \n",
       "1    1276.0        0.0      264.0           2004           1956  \n",
       "2       0.0     2469.0        0.0           2004           1956  \n",
       "\n",
       "[3 rows x 25 columns]"
      ]
     },
     "execution_count": 3,
     "metadata": {},
     "output_type": "execute_result"
    }
   ],
   "source": [
    "key_data.head(3)"
   ]
  },
  {
   "cell_type": "code",
   "execution_count": 4,
   "id": "31e14aec-ff63-4f19-8fd7-f7d68c94256b",
   "metadata": {
    "tags": []
   },
   "outputs": [
    {
     "data": {
      "text/html": [
       "<div>\n",
       "<style scoped>\n",
       "    .dataframe tbody tr th:only-of-type {\n",
       "        vertical-align: middle;\n",
       "    }\n",
       "\n",
       "    .dataframe tbody tr th {\n",
       "        vertical-align: top;\n",
       "    }\n",
       "\n",
       "    .dataframe thead th {\n",
       "        text-align: right;\n",
       "    }\n",
       "</style>\n",
       "<table border=\"1\" class=\"dataframe\">\n",
       "  <thead>\n",
       "    <tr style=\"text-align: right;\">\n",
       "      <th></th>\n",
       "      <th>mentee_id</th>\n",
       "      <th>mentor_id</th>\n",
       "      <th>communitys_paper_num_mte</th>\n",
       "      <th>total_cits5_mte</th>\n",
       "      <th>total_credit_mte</th>\n",
       "      <th>birthYear_mte</th>\n",
       "      <th>communitys_paper_num_mto</th>\n",
       "      <th>total_cits5_mto</th>\n",
       "      <th>career_len_mte</th>\n",
       "      <th>career_len_mto</th>\n",
       "      <th>...</th>\n",
       "      <th>topic_num10_mto</th>\n",
       "      <th>total_papers_mte</th>\n",
       "      <th>total_papers_mto</th>\n",
       "      <th>colla_work_count</th>\n",
       "      <th>colla_work_count_first5</th>\n",
       "      <th>colla_work_count_later5</th>\n",
       "      <th>collaborators_mte_count</th>\n",
       "      <th>common_cllaborators_count</th>\n",
       "      <th>ratio_common_collaborators</th>\n",
       "      <th>mte_work_first5_count</th>\n",
       "    </tr>\n",
       "  </thead>\n",
       "  <tbody>\n",
       "    <tr>\n",
       "      <th>0</th>\n",
       "      <td>A1964335128</td>\n",
       "      <td>A177689540</td>\n",
       "      <td>67</td>\n",
       "      <td>4403.0</td>\n",
       "      <td>739.891667</td>\n",
       "      <td>2004</td>\n",
       "      <td>284</td>\n",
       "      <td>5485.0</td>\n",
       "      <td>18</td>\n",
       "      <td>64</td>\n",
       "      <td>...</td>\n",
       "      <td>5</td>\n",
       "      <td>117</td>\n",
       "      <td>405</td>\n",
       "      <td>9</td>\n",
       "      <td>9</td>\n",
       "      <td>0</td>\n",
       "      <td>34</td>\n",
       "      <td>7</td>\n",
       "      <td>0.205882</td>\n",
       "      <td>12</td>\n",
       "    </tr>\n",
       "    <tr>\n",
       "      <th>1</th>\n",
       "      <td>A2047598244</td>\n",
       "      <td>A2124458367</td>\n",
       "      <td>40</td>\n",
       "      <td>2013.0</td>\n",
       "      <td>73.733081</td>\n",
       "      <td>2005</td>\n",
       "      <td>244</td>\n",
       "      <td>11491.0</td>\n",
       "      <td>17</td>\n",
       "      <td>60</td>\n",
       "      <td>...</td>\n",
       "      <td>5</td>\n",
       "      <td>75</td>\n",
       "      <td>627</td>\n",
       "      <td>11</td>\n",
       "      <td>2</td>\n",
       "      <td>9</td>\n",
       "      <td>23</td>\n",
       "      <td>9</td>\n",
       "      <td>0.391304</td>\n",
       "      <td>33</td>\n",
       "    </tr>\n",
       "    <tr>\n",
       "      <th>2</th>\n",
       "      <td>A2141337483</td>\n",
       "      <td>A328693186</td>\n",
       "      <td>24</td>\n",
       "      <td>1161.0</td>\n",
       "      <td>50.217857</td>\n",
       "      <td>1869</td>\n",
       "      <td>180</td>\n",
       "      <td>9040.0</td>\n",
       "      <td>151</td>\n",
       "      <td>37</td>\n",
       "      <td>...</td>\n",
       "      <td>4</td>\n",
       "      <td>36</td>\n",
       "      <td>413</td>\n",
       "      <td>2</td>\n",
       "      <td>0</td>\n",
       "      <td>2</td>\n",
       "      <td>6</td>\n",
       "      <td>4</td>\n",
       "      <td>0.666667</td>\n",
       "      <td>1</td>\n",
       "    </tr>\n",
       "  </tbody>\n",
       "</table>\n",
       "<p>3 rows × 22 columns</p>\n",
       "</div>"
      ],
      "text/plain": [
       "     mentee_id    mentor_id  communitys_paper_num_mte  total_cits5_mte  \\\n",
       "0  A1964335128   A177689540                        67           4403.0   \n",
       "1  A2047598244  A2124458367                        40           2013.0   \n",
       "2  A2141337483   A328693186                        24           1161.0   \n",
       "\n",
       "   total_credit_mte  birthYear_mte  communitys_paper_num_mto  total_cits5_mto  \\\n",
       "0        739.891667           2004                       284           5485.0   \n",
       "1         73.733081           2005                       244          11491.0   \n",
       "2         50.217857           1869                       180           9040.0   \n",
       "\n",
       "   career_len_mte  career_len_mto  ...  topic_num10_mto  total_papers_mte  \\\n",
       "0              18              64  ...                5               117   \n",
       "1              17              60  ...                5                75   \n",
       "2             151              37  ...                4                36   \n",
       "\n",
       "   total_papers_mto  colla_work_count  colla_work_count_first5  \\\n",
       "0               405                 9                        9   \n",
       "1               627                11                        2   \n",
       "2               413                 2                        0   \n",
       "\n",
       "   colla_work_count_later5  collaborators_mte_count  \\\n",
       "0                        0                       34   \n",
       "1                        9                       23   \n",
       "2                        2                        6   \n",
       "\n",
       "   common_cllaborators_count  ratio_common_collaborators  \\\n",
       "0                          7                    0.205882   \n",
       "1                          9                    0.391304   \n",
       "2                          4                    0.666667   \n",
       "\n",
       "   mte_work_first5_count  \n",
       "0                     12  \n",
       "1                     33  \n",
       "2                      1  \n",
       "\n",
       "[3 rows x 22 columns]"
      ]
     },
     "execution_count": 4,
     "metadata": {},
     "output_type": "execute_result"
    }
   ],
   "source": [
    "V0.head(3)"
   ]
  },
  {
   "cell_type": "code",
   "execution_count": 5,
   "id": "7dd68ab4-9b6f-49f7-867a-3137325e012f",
   "metadata": {
    "tags": []
   },
   "outputs": [
    {
     "data": {
      "text/plain": [
       "Index(['index_i', 'mentee_id', 'mentor_id', 'community', 'paper_num_mte',\n",
       "       'paper_num_mto', 'paper_ratio_mte', 'paper_ratio_mto', 'credit_mte',\n",
       "       'credit_mto', 'communitys_paper_num_mto', 'communitys_paper_num_mte',\n",
       "       'total_credit_mte', 'total_credit_mto', 'type', 'total_cits_mte',\n",
       "       'total_cits_mto', 'total_cits5_mte', 'total_cits5_mto', 'cits_mte',\n",
       "       'cits_mto', 'cits5_mte', 'cits5_mto', 'birthYear_mte', 'birthYear_mto'],\n",
       "      dtype='object')"
      ]
     },
     "execution_count": 5,
     "metadata": {},
     "output_type": "execute_result"
    }
   ],
   "source": [
    "key_data.columns"
   ]
  },
  {
   "cell_type": "code",
   "execution_count": 6,
   "id": "31d7d1db-7de3-46ed-a8b8-b8e3e58fc904",
   "metadata": {
    "tags": []
   },
   "outputs": [
    {
     "data": {
      "text/plain": [
       "Index(['mentee_id', 'mentor_id', 'communitys_paper_num_mte', 'total_cits5_mte',\n",
       "       'total_credit_mte', 'birthYear_mte', 'communitys_paper_num_mto',\n",
       "       'total_cits5_mto', 'career_len_mte', 'career_len_mto',\n",
       "       'yearly_cits5_mto', 'topic_num10_mte', 'topic_num10_mto',\n",
       "       'total_papers_mte', 'total_papers_mto', 'colla_work_count',\n",
       "       'colla_work_count_first5', 'colla_work_count_later5',\n",
       "       'collaborators_mte_count', 'common_cllaborators_count',\n",
       "       'ratio_common_collaborators', 'mte_work_first5_count'],\n",
       "      dtype='object')"
      ]
     },
     "execution_count": 6,
     "metadata": {},
     "output_type": "execute_result"
    }
   ],
   "source": [
    "V0.columns"
   ]
  },
  {
   "cell_type": "markdown",
   "id": "71c2f98a-01cb-47e1-a481-de2f519d67fa",
   "metadata": {},
   "source": [
    "#### overall scientists"
   ]
  },
  {
   "cell_type": "code",
   "execution_count": 7,
   "id": "fea6105a-d11b-4a4a-8dd2-d7d5f186f2f9",
   "metadata": {
    "tags": []
   },
   "outputs": [
    {
     "name": "stdout",
     "output_type": "stream",
     "text": [
      "sample size:  11436\n"
     ]
    }
   ],
   "source": [
    "# here only consider scientists with with career durations of more than 30 years\n",
    "thd = 1990\n",
    "V2000 = V0['mentee_id'][V0.birthYear_mte<=thd]\n",
    "key_data = key_data[(key_data.paper_num_mte>0)&(key_data.mentee_id.isin(V2000))]\n",
    "print('sample size: ',len(set(key_data['mentee_id'])))"
   ]
  },
  {
   "cell_type": "code",
   "execution_count": 8,
   "id": "47d95f25-2d3e-478a-8f3a-12ebc6f1ff83",
   "metadata": {
    "tags": []
   },
   "outputs": [],
   "source": [
    "def num_new(tp_df):\n",
    "    \n",
    "    num = len(tp_df[tp_df.type=='new'])\n",
    "    \n",
    "    return num\n",
    "\n",
    "def num_follow(tp_df):\n",
    "    \n",
    "    num = len(tp_df[tp_df.type!='new'])\n",
    "    \n",
    "    return num"
   ]
  },
  {
   "cell_type": "code",
   "execution_count": 9,
   "id": "003bd19b-be84-4f80-855d-8841507ac53d",
   "metadata": {
    "tags": []
   },
   "outputs": [],
   "source": [
    "Num_new = key_data.groupby(['mentee_id','mentor_id']).apply(num_new).reset_index(name='num_new')\n",
    "Num_follow = key_data.groupby(['mentee_id','mentor_id']).apply(num_follow).reset_index(name='num_follow')\n",
    "\n",
    "Num_follow_new = Num_follow.merge(Num_new,on=['mentee_id','mentor_id'],how='left')\n",
    "Num_follow_new['ratio of new'] = Num_follow_new['num_new']/(Num_follow_new['num_follow'] + Num_follow_new['num_new'])\n",
    "Num_follow_new['ratio of follow'] = Num_follow_new['num_follow']/(Num_follow_new['num_follow'] + Num_follow_new['num_new'])\n",
    "Num_follow_new_All = Num_follow_new"
   ]
  },
  {
   "cell_type": "code",
   "execution_count": 10,
   "id": "fcb97239-7602-4445-93be-8f0e80ffcbad",
   "metadata": {
    "tags": []
   },
   "outputs": [
    {
     "data": {
      "text/html": [
       "<div>\n",
       "<style scoped>\n",
       "    .dataframe tbody tr th:only-of-type {\n",
       "        vertical-align: middle;\n",
       "    }\n",
       "\n",
       "    .dataframe tbody tr th {\n",
       "        vertical-align: top;\n",
       "    }\n",
       "\n",
       "    .dataframe thead th {\n",
       "        text-align: right;\n",
       "    }\n",
       "</style>\n",
       "<table border=\"1\" class=\"dataframe\">\n",
       "  <thead>\n",
       "    <tr style=\"text-align: right;\">\n",
       "      <th></th>\n",
       "      <th>mentee_id</th>\n",
       "      <th>mentor_id</th>\n",
       "      <th>num_follow</th>\n",
       "      <th>num_new</th>\n",
       "      <th>ratio of new</th>\n",
       "      <th>ratio of follow</th>\n",
       "    </tr>\n",
       "  </thead>\n",
       "  <tbody>\n",
       "    <tr>\n",
       "      <th>0</th>\n",
       "      <td>A1002422011</td>\n",
       "      <td>A1897971127</td>\n",
       "      <td>2</td>\n",
       "      <td>0</td>\n",
       "      <td>0.00</td>\n",
       "      <td>1.00</td>\n",
       "    </tr>\n",
       "    <tr>\n",
       "      <th>1</th>\n",
       "      <td>A1002422011</td>\n",
       "      <td>A1966502692</td>\n",
       "      <td>2</td>\n",
       "      <td>0</td>\n",
       "      <td>0.00</td>\n",
       "      <td>1.00</td>\n",
       "    </tr>\n",
       "    <tr>\n",
       "      <th>2</th>\n",
       "      <td>A100328954</td>\n",
       "      <td>A1993268291</td>\n",
       "      <td>1</td>\n",
       "      <td>3</td>\n",
       "      <td>0.75</td>\n",
       "      <td>0.25</td>\n",
       "    </tr>\n",
       "    <tr>\n",
       "      <th>3</th>\n",
       "      <td>A100328954</td>\n",
       "      <td>A2157074446</td>\n",
       "      <td>3</td>\n",
       "      <td>1</td>\n",
       "      <td>0.25</td>\n",
       "      <td>0.75</td>\n",
       "    </tr>\n",
       "    <tr>\n",
       "      <th>4</th>\n",
       "      <td>A100328954</td>\n",
       "      <td>A2780364925</td>\n",
       "      <td>1</td>\n",
       "      <td>3</td>\n",
       "      <td>0.75</td>\n",
       "      <td>0.25</td>\n",
       "    </tr>\n",
       "  </tbody>\n",
       "</table>\n",
       "</div>"
      ],
      "text/plain": [
       "     mentee_id    mentor_id  num_follow  num_new  ratio of new  \\\n",
       "0  A1002422011  A1897971127           2        0          0.00   \n",
       "1  A1002422011  A1966502692           2        0          0.00   \n",
       "2   A100328954  A1993268291           1        3          0.75   \n",
       "3   A100328954  A2157074446           3        1          0.25   \n",
       "4   A100328954  A2780364925           1        3          0.75   \n",
       "\n",
       "   ratio of follow  \n",
       "0             1.00  \n",
       "1             1.00  \n",
       "2             0.25  \n",
       "3             0.75  \n",
       "4             0.25  "
      ]
     },
     "execution_count": 10,
     "metadata": {},
     "output_type": "execute_result"
    }
   ],
   "source": [
    "Num_follow_new.head(5)"
   ]
  },
  {
   "cell_type": "code",
   "execution_count": 11,
   "id": "6debf645-8a51-48ea-8741-04c5050a7568",
   "metadata": {
    "tags": []
   },
   "outputs": [
    {
     "name": "stdout",
     "output_type": "stream",
     "text": [
      "0.32831836932783304 0.5575103130308178 0.11417131764134919\n",
      "1.0\n"
     ]
    }
   ],
   "source": [
    "only_follow = Num_follow_new[['mentee_id','mentor_id']][(Num_follow_new.num_new==0)&(Num_follow_new.num_follow>0)]\n",
    "pie_only_follow = len(only_follow)/len(Num_follow_new)\n",
    "\n",
    "follow_disrupt = Num_follow_new[['mentee_id','mentor_id']][(Num_follow_new.num_new>0)&(Num_follow_new.num_follow>0)]\n",
    "pie_follow_disrupt = len(follow_disrupt)/len(Num_follow_new)\n",
    "\n",
    "only_disrupt = Num_follow_new[['mentee_id','mentor_id']][(Num_follow_new.num_new>0)&(Num_follow_new.num_follow==0)]\n",
    "pie_only_disrupt = len(only_disrupt)/len(Num_follow_new)\n",
    "\n",
    "print(pie_only_follow,pie_follow_disrupt,pie_only_disrupt)\n",
    "print(pie_only_follow + pie_follow_disrupt + pie_only_disrupt)"
   ]
  },
  {
   "cell_type": "code",
   "execution_count": 12,
   "id": "dbbf2258-f0bb-485a-9c16-14f95e24f924",
   "metadata": {
    "tags": []
   },
   "outputs": [],
   "source": [
    "only_follow = only_follow.merge(key_data,on=['mentee_id','mentor_id'],how='left')\n",
    "only_follow_surpasser = only_follow[only_follow.total_credit_mte>=only_follow.total_credit_mto]\n",
    "bar_only_follow_surpasser = len(only_follow_surpasser)/len(only_follow)\n",
    "bar_only_follow_behinder = 1 - bar_only_follow_surpasser\n",
    "\n",
    "follow_disrupt = follow_disrupt.merge(key_data,on=['mentee_id','mentor_id'],how='left')\n",
    "follow_disrupt_surpasser = follow_disrupt[follow_disrupt.total_credit_mte>=follow_disrupt.total_credit_mto]\n",
    "bar_follow_disrupt_surpasser = len(follow_disrupt_surpasser)/len(follow_disrupt)\n",
    "bar_follow_disrupt_behinder = 1 - bar_follow_disrupt_surpasser\n",
    "\n",
    "only_disrupt = only_disrupt.merge(key_data,on=['mentee_id','mentor_id'],how='left')\n",
    "only_disrupt_surpasser = only_disrupt[only_disrupt.total_credit_mte>=only_disrupt.total_credit_mto]\n",
    "bar_only_disrupt_surpasser = len(only_disrupt_surpasser)/len(only_disrupt)\n",
    "bar_only_disrupt_behinder = 1 - bar_only_disrupt_surpasser"
   ]
  },
  {
   "cell_type": "markdown",
   "id": "25c1c020-d8d2-4877-8794-aaf29be30714",
   "metadata": {},
   "source": [
    "#### High-impact scientists"
   ]
  },
  {
   "cell_type": "code",
   "execution_count": 13,
   "id": "995ad132-2280-4b95-8b6b-6e218be763ba",
   "metadata": {
    "tags": []
   },
   "outputs": [
    {
     "name": "stdout",
     "output_type": "stream",
     "text": [
      "(236104, 25)\n",
      "1990\n",
      "11436\n"
     ]
    }
   ],
   "source": [
    "key_data_0 = pd.read_csv('Key_Data.csv')\n",
    "print(key_data_0.shape)\n",
    "print(thd)\n",
    "V20 = V0['mentee_id'][V0.birthYear_mte<=thd]\n",
    "key_data_0 = key_data_0[(key_data_0.paper_num_mte>0)&(key_data_0.mentee_id.isin(V20))]\n",
    "print(len(set(key_data_0.mentee_id)))"
   ]
  },
  {
   "cell_type": "code",
   "execution_count": 14,
   "id": "bf36fe1c-2137-4f36-9c53-5c0259c39bad",
   "metadata": {
    "tags": []
   },
   "outputs": [
    {
     "name": "stdout",
     "output_type": "stream",
     "text": [
      "4331.200000000012\n"
     ]
    }
   ],
   "source": [
    "# elite scientists: top 20% total cits\n",
    "V0['yearly_cits5_mte'] = V0['total_cits5_mte']/V0['career_len_mte']\n",
    "q80_total_cits5 = V0[['yearly_cits5_mte','total_cits5_mte']].quantile([0.25,0.80]).total_cits5_mte.tolist()[1]\n",
    "print(q80_total_cits5)\n",
    "\n",
    "V0_elite = V0['mentee_id'][V0.total_cits5_mte>=q80_total_cits5]\n",
    "key_data = key_data_0[key_data_0.mentee_id.isin(V0_elite)]"
   ]
  },
  {
   "cell_type": "code",
   "execution_count": 15,
   "id": "737edc20-620e-49ca-838f-1a989bea0302",
   "metadata": {
    "tags": []
   },
   "outputs": [],
   "source": [
    "Num_new = key_data.groupby(['mentee_id','mentor_id']).apply(num_new).reset_index(name='num_new')\n",
    "Num_follow = key_data.groupby(['mentee_id','mentor_id']).apply(num_follow).reset_index(name='num_follow')\n",
    "Num_follow_new = Num_follow.merge(Num_new,on=['mentee_id','mentor_id'],how='left')\n",
    "\n",
    "Num_follow_new['ratio of new'] = Num_follow_new['num_new']/(Num_follow_new['num_follow'] + Num_follow_new['num_new'])\n",
    "Num_follow_new['ratio of follow'] = Num_follow_new['num_follow']/(Num_follow_new['num_follow'] + Num_follow_new['num_new'])\n",
    "Num_follow_new_Elite = Num_follow_new"
   ]
  },
  {
   "cell_type": "code",
   "execution_count": 16,
   "id": "bda4307b-5c70-4484-af5a-a00f5603267e",
   "metadata": {
    "tags": []
   },
   "outputs": [
    {
     "data": {
      "text/html": [
       "<div>\n",
       "<style scoped>\n",
       "    .dataframe tbody tr th:only-of-type {\n",
       "        vertical-align: middle;\n",
       "    }\n",
       "\n",
       "    .dataframe tbody tr th {\n",
       "        vertical-align: top;\n",
       "    }\n",
       "\n",
       "    .dataframe thead th {\n",
       "        text-align: right;\n",
       "    }\n",
       "</style>\n",
       "<table border=\"1\" class=\"dataframe\">\n",
       "  <thead>\n",
       "    <tr style=\"text-align: right;\">\n",
       "      <th></th>\n",
       "      <th>mentee_id</th>\n",
       "      <th>mentor_id</th>\n",
       "      <th>num_follow</th>\n",
       "      <th>num_new</th>\n",
       "      <th>ratio of new</th>\n",
       "      <th>ratio of follow</th>\n",
       "    </tr>\n",
       "  </thead>\n",
       "  <tbody>\n",
       "    <tr>\n",
       "      <th>0</th>\n",
       "      <td>A100328954</td>\n",
       "      <td>A1993268291</td>\n",
       "      <td>1</td>\n",
       "      <td>3</td>\n",
       "      <td>0.75</td>\n",
       "      <td>0.25</td>\n",
       "    </tr>\n",
       "    <tr>\n",
       "      <th>1</th>\n",
       "      <td>A100328954</td>\n",
       "      <td>A2157074446</td>\n",
       "      <td>3</td>\n",
       "      <td>1</td>\n",
       "      <td>0.25</td>\n",
       "      <td>0.75</td>\n",
       "    </tr>\n",
       "    <tr>\n",
       "      <th>2</th>\n",
       "      <td>A100328954</td>\n",
       "      <td>A2780364925</td>\n",
       "      <td>1</td>\n",
       "      <td>3</td>\n",
       "      <td>0.75</td>\n",
       "      <td>0.25</td>\n",
       "    </tr>\n",
       "  </tbody>\n",
       "</table>\n",
       "</div>"
      ],
      "text/plain": [
       "    mentee_id    mentor_id  num_follow  num_new  ratio of new  ratio of follow\n",
       "0  A100328954  A1993268291           1        3          0.75             0.25\n",
       "1  A100328954  A2157074446           3        1          0.25             0.75\n",
       "2  A100328954  A2780364925           1        3          0.75             0.25"
      ]
     },
     "execution_count": 16,
     "metadata": {},
     "output_type": "execute_result"
    }
   ],
   "source": [
    "Num_follow_new.head(3)"
   ]
  },
  {
   "cell_type": "code",
   "execution_count": 17,
   "id": "d3887d5f-4e43-47c4-b933-fe75baedcd48",
   "metadata": {
    "tags": []
   },
   "outputs": [
    {
     "name": "stdout",
     "output_type": "stream",
     "text": [
      "0.2394689395181118 0.6908703491230945 0.06966071135879363\n"
     ]
    }
   ],
   "source": [
    "only_follow = Num_follow_new[['mentee_id','mentor_id']][(Num_follow_new.num_new==0)&(Num_follow_new.num_follow>0)]\n",
    "pie_only_follow_elite = len(only_follow)/len(Num_follow_new)\n",
    "\n",
    "follow_disrupt = Num_follow_new[['mentee_id','mentor_id']][(Num_follow_new.num_new>0)&(Num_follow_new.num_follow>0)]\n",
    "pie_follow_disrupt_elite = len(follow_disrupt)/len(Num_follow_new)\n",
    "\n",
    "only_disrupt = Num_follow_new[['mentee_id','mentor_id']][(Num_follow_new.num_new>0)&(Num_follow_new.num_follow==0)]\n",
    "pie_only_disrupt_elite = len(only_disrupt)/len(Num_follow_new)\n",
    "\n",
    "print(pie_only_follow_elite,pie_follow_disrupt_elite,pie_only_disrupt_elite)"
   ]
  },
  {
   "cell_type": "markdown",
   "id": "069dc2c6-a763-40b9-af57-bb959c8978f8",
   "metadata": {},
   "source": [
    "##### Surpasser ratio : later to plot"
   ]
  },
  {
   "cell_type": "code",
   "execution_count": 18,
   "id": "4794ac6f-eea5-4792-b35f-1b875eb20ff7",
   "metadata": {
    "tags": []
   },
   "outputs": [],
   "source": [
    "only_follow = only_follow.merge(key_data,on=['mentee_id','mentor_id'],how='left')\n",
    "only_follow_surpasser = only_follow[only_follow.total_credit_mte>=only_follow.total_credit_mto]\n",
    "bar_only_follow_surpasser_elite = len(only_follow_surpasser)/len(only_follow)\n",
    "bar_only_follow_behinder_elite = 1 - bar_only_follow_surpasser_elite\n",
    "\n",
    "follow_disrupt = follow_disrupt.merge(key_data,on=['mentee_id','mentor_id'],how='left')\n",
    "follow_disrupt_surpasser = follow_disrupt[follow_disrupt.total_credit_mte>=follow_disrupt.total_credit_mto]\n",
    "bar_follow_disrupt_surpasser_elite = len(follow_disrupt_surpasser)/len(follow_disrupt)\n",
    "bar_follow_disrupt_behinder_elite = 1 - bar_follow_disrupt_surpasser_elite\n",
    "\n",
    "only_disrupt = only_disrupt.merge(key_data,on=['mentee_id','mentor_id'],how='left')\n",
    "only_disrupt_surpasser = only_disrupt[only_disrupt.total_credit_mte>=only_disrupt.total_credit_mto]\n",
    "bar_only_disrupt_surpasser_elite = len(only_disrupt_surpasser)/len(only_disrupt)\n",
    "bar_only_disrupt_behinder_elite = 1 - bar_only_disrupt_surpasser_elite"
   ]
  },
  {
   "cell_type": "code",
   "execution_count": 19,
   "id": "964363bd-b61f-4c40-8839-9c204a89a8d5",
   "metadata": {
    "tags": []
   },
   "outputs": [
    {
     "name": "stdout",
     "output_type": "stream",
     "text": [
      "0.16 0.84\n",
      "0.52 0.48\n",
      "0.73 0.27\n",
      "0.26 0.74\n",
      "0.64 0.36\n",
      "0.85 0.15\n"
     ]
    }
   ],
   "source": [
    "print(round(bar_only_follow_surpasser,2),round(bar_only_follow_behinder,2))\n",
    "print(round(bar_follow_disrupt_surpasser,2),round(bar_follow_disrupt_behinder,2))\n",
    "print(round(bar_only_disrupt_surpasser,2),round(bar_only_disrupt_behinder,2))\n",
    "\n",
    "print(round(bar_only_follow_surpasser_elite,2),round(bar_only_follow_behinder_elite,2))\n",
    "print(round(bar_follow_disrupt_surpasser_elite,2),round(bar_follow_disrupt_behinder_elite,2))\n",
    "print(round(bar_only_disrupt_surpasser_elite,2),round(bar_only_disrupt_behinder_elite,2))"
   ]
  },
  {
   "cell_type": "markdown",
   "id": "68d1eb24-1b67-46f4-a3b4-435f2cacc81a",
   "metadata": {},
   "source": [
    "### Plot"
   ]
  },
  {
   "cell_type": "markdown",
   "id": "74a8ace6-ce4f-46a2-9ce0-6555ed52b227",
   "metadata": {},
   "source": [
    "##### pie plot"
   ]
  },
  {
   "cell_type": "code",
   "execution_count": 20,
   "id": "b6aaeaa8-65af-4e72-91bb-bd0c1d62b355",
   "metadata": {
    "tags": []
   },
   "outputs": [
    {
     "data": {
      "image/png": "[encoded data removed]",
      "text/plain": [
       "<Figure size 640x480 with 2 Axes>"
      ]
     },
     "metadata": {},
     "output_type": "display_data"
    }
   ],
   "source": [
    "import matplotlib.gridspec as gridspec\n",
    "\n",
    "fig = plt.figure(tight_layout=True)\n",
    "gs = gridspec.GridSpec(2, 2)\n",
    "fig.subplots_adjust(wspace=0)\n",
    "\n",
    "#                                                          upper left panel\n",
    "ax1 = fig.add_subplot(gs[0, 0])\n",
    "# pie chart parameters\n",
    "overall_ratios = [pie_only_follow, pie_follow_disrupt, pie_only_disrupt]\n",
    "labels = ['only follow', 'follow & disrupt', 'only disrupt']\n",
    "explode = [0.0, 0, 0]\n",
    "# rotate so that first wedge is split by the x-axis\n",
    "angle = -180 * overall_ratios[0]\n",
    "wedges, *_ = ax1.pie(overall_ratios, autopct='%1.0f%%', startangle=angle,\n",
    "                      explode=explode, wedgeprops={'edgecolor': '#998ec3'}) #998ec3\n",
    "\n",
    "ax1.set(title='All')\n",
    "\n",
    "\n",
    "ax1.legend(wedges, labels,\n",
    "          title=\"Type\",\n",
    "          loc=\"center\",\n",
    "          bbox_to_anchor=(1.0, 1, 0.5, 1),\n",
    "          ncol=3,\n",
    "          frameon=0)\n",
    "\n",
    "\n",
    "#                                                            high impact\n",
    "ax2 = fig.add_subplot(gs[1, 0])\n",
    "overall_ratios = [pie_only_follow_elite, pie_follow_disrupt_elite, pie_only_disrupt_elite]\n",
    "labels = ['only follow', 'follow & disrupt', 'only disrupt']\n",
    "explode = [0.0, 0, 0]\n",
    "# rotate so that first wedge is split by the x-axis\n",
    "angle = -180 * overall_ratios[0]\n",
    "wedges, *_ = ax2.pie(overall_ratios, autopct='%1.0f%%', startangle=angle,\n",
    "                      explode=explode, wedgeprops={'edgecolor': '#f1a340'})\n",
    "ax2.set(title='Elite')\n",
    "\n",
    "\n",
    "fig.align_labels()  # same as fig.align_xlabels(); fig.align_ylabels()\n",
    "\n",
    "plt.show()\n",
    "# fig.savefig('result_data_plot/new_plot/topic_ratio.pdf')"
   ]
  },
  {
   "cell_type": "markdown",
   "id": "fbae35f8-d336-492b-9aff-fc5523b69c62",
   "metadata": {},
   "source": [
    "##### bar plot"
   ]
  },
  {
   "cell_type": "code",
   "execution_count": 21,
   "id": "dfb5ab68-6a0a-4f3f-b3ec-194e42571e83",
   "metadata": {
    "tags": []
   },
   "outputs": [],
   "source": [
    "ratios_All = [pie_only_follow, pie_follow_disrupt, pie_only_disrupt]\n",
    "ratios_Elite = [pie_only_follow_elite, pie_follow_disrupt_elite, pie_only_disrupt_elite]"
   ]
  },
  {
   "cell_type": "code",
   "execution_count": 22,
   "id": "efb69e86-4275-4a4d-841f-0d5c4e7835fb",
   "metadata": {
    "tags": []
   },
   "outputs": [
    {
     "data": {
      "image/png": "[encoded data removed]",
      "text/plain": [
       "<Figure size 350x309 with 1 Axes>"
      ]
     },
     "metadata": {},
     "output_type": "display_data"
    }
   ],
   "source": [
    "width = 0.5\n",
    "x = np.array(range(3))*2\n",
    "\n",
    "fig, ax = plt.subplots(1,1,constrained_layout=True,figsize=[0.7*5,0.618*5])\n",
    "sns.set(style='ticks',font_scale=1.2, font='Arial')\n",
    "\n",
    "p = ax.bar(x, ratios_All, width,label=f'primary',color='#998ec3') #,ec='lightgrey'\n",
    "p = ax.bar(x+width, ratios_Elite, width,label=f'secondary', color='#f1a340')\n",
    "\n",
    "X = x+0.25\n",
    "X_ticks = ['only follow','follow&new','only new']\n",
    "c = ax.set_xticks(ticks=X,labels=X_ticks,rotation=20,fontsize=16)\n",
    "ax.set_ylabel('Fraction',fontsize=16)\n",
    "ax.set_ylim([0.0,0.8])\n",
    "ax.grid(True,ls=\"--\", axis='y',which='both')\n",
    "ax.yaxis.set_major_locator(MultipleLocator(0.2))\n",
    "ax.yaxis.set_minor_locator(MultipleLocator(0.1))\n",
    "ax.set_yticks([0.0,0.2,0.4,0.6,0.8], ['0%','20%','40%','60%','80%'])\n",
    "sns.despine(left=True)\n",
    "# fig.savefig('result_data_plot/new_plot/topic_ratio.pdf')"
   ]
  },
  {
   "cell_type": "markdown",
   "id": "b5363512-70fa-4201-bb1c-a673058b2e8d",
   "metadata": {},
   "source": [
    "##### kde plot"
   ]
  },
  {
   "cell_type": "code",
   "execution_count": 23,
   "id": "1b87bd51-ba5e-43c0-b2a8-16acf84fa182",
   "metadata": {
    "tags": []
   },
   "outputs": [
    {
     "data": {
      "text/html": [
       "<div>\n",
       "<style scoped>\n",
       "    .dataframe tbody tr th:only-of-type {\n",
       "        vertical-align: middle;\n",
       "    }\n",
       "\n",
       "    .dataframe tbody tr th {\n",
       "        vertical-align: top;\n",
       "    }\n",
       "\n",
       "    .dataframe thead th {\n",
       "        text-align: right;\n",
       "    }\n",
       "</style>\n",
       "<table border=\"1\" class=\"dataframe\">\n",
       "  <thead>\n",
       "    <tr style=\"text-align: right;\">\n",
       "      <th></th>\n",
       "      <th>mentee_id</th>\n",
       "      <th>mentor_id</th>\n",
       "      <th>num_follow</th>\n",
       "      <th>num_new</th>\n",
       "      <th>ratio of new</th>\n",
       "      <th>ratio of follow</th>\n",
       "      <th>type</th>\n",
       "    </tr>\n",
       "  </thead>\n",
       "  <tbody>\n",
       "    <tr>\n",
       "      <th>0</th>\n",
       "      <td>A1002422011</td>\n",
       "      <td>A1897971127</td>\n",
       "      <td>2</td>\n",
       "      <td>0</td>\n",
       "      <td>0.00</td>\n",
       "      <td>1.00</td>\n",
       "      <td>All</td>\n",
       "    </tr>\n",
       "    <tr>\n",
       "      <th>1</th>\n",
       "      <td>A1002422011</td>\n",
       "      <td>A1966502692</td>\n",
       "      <td>2</td>\n",
       "      <td>0</td>\n",
       "      <td>0.00</td>\n",
       "      <td>1.00</td>\n",
       "      <td>All</td>\n",
       "    </tr>\n",
       "    <tr>\n",
       "      <th>2</th>\n",
       "      <td>A100328954</td>\n",
       "      <td>A1993268291</td>\n",
       "      <td>1</td>\n",
       "      <td>3</td>\n",
       "      <td>0.75</td>\n",
       "      <td>0.25</td>\n",
       "      <td>All</td>\n",
       "    </tr>\n",
       "  </tbody>\n",
       "</table>\n",
       "</div>"
      ],
      "text/plain": [
       "     mentee_id    mentor_id  num_follow  num_new  ratio of new  \\\n",
       "0  A1002422011  A1897971127           2        0          0.00   \n",
       "1  A1002422011  A1966502692           2        0          0.00   \n",
       "2   A100328954  A1993268291           1        3          0.75   \n",
       "\n",
       "   ratio of follow type  \n",
       "0             1.00  All  \n",
       "1             1.00  All  \n",
       "2             0.25  All  "
      ]
     },
     "execution_count": 23,
     "metadata": {},
     "output_type": "execute_result"
    }
   ],
   "source": [
    "Num_follow_new_All['type'] = 'All'\n",
    "Num_follow_new_Elite['type'] = 'Elite'\n",
    "\n",
    "data_kde = pd.concat((Num_follow_new_All,Num_follow_new_Elite))\n",
    "data_kde.head(3)"
   ]
  },
  {
   "cell_type": "code",
   "execution_count": 24,
   "id": "65610254-82e0-4a4e-acc5-8747d3d3f5cd",
   "metadata": {
    "tags": []
   },
   "outputs": [
    {
     "data": {
      "text/plain": [
       "[Text(0.5, 0, 'ratio of new topic'),\n",
       " Text(0, 0.5, 'kernel density'),\n",
       " (0.0, 4.1)]"
      ]
     },
     "execution_count": 24,
     "metadata": {},
     "output_type": "execute_result"
    },
    {
     "data": {
      "image/png": "[encoded data removed]",
      "text/plain": [
       "<Figure size 400x309 with 1 Axes>"
      ]
     },
     "metadata": {},
     "output_type": "display_data"
    }
   ],
   "source": [
    "fig, ax = plt.subplots(1,1,constrained_layout=True,figsize=[0.8*5,0.618*5])\n",
    "sns.set(style='ticks',font_scale=1.2, font='Arial')\n",
    "\n",
    "sns.kdeplot(Num_follow_new_All, x=\"ratio of new\",fill=1,label='All',color='#998ec3',alpha=0.6,\n",
    "            ax=ax)\n",
    "\n",
    "sns.kdeplot(Num_follow_new_Elite, x=\"ratio of new\",fill=1,label='Elite',color='#f1a340',alpha=0.6,\n",
    "            ax=ax)\n",
    "plt.legend(frameon=0)\n",
    "ax.yaxis.set_major_locator(MultipleLocator(1))\n",
    "ax.yaxis.set_minor_locator(MultipleLocator(0.2))\n",
    "ax.xaxis.set_major_locator(MultipleLocator(0.2))\n",
    "ax.xaxis.set_minor_locator(MultipleLocator(0.05))\n",
    "# 隐藏右侧和顶部边框\n",
    "ax.spines['right'].set_visible(False)\n",
    "ax.spines['top'].set_visible(False)\n",
    "\n",
    "ax.set(xlabel='ratio of new topic',ylabel='kernel density',ylim=[0,4.1])\n",
    "\n",
    "# fig.savefig('result_data_plot/new_plot/topic_ratio_distribution.pdf')"
   ]
  },
  {
   "cell_type": "markdown",
   "id": "6701348a-0de2-438d-9a50-83adaa963115",
   "metadata": {},
   "source": [
    "##### CCDF plot"
   ]
  },
  {
   "cell_type": "code",
   "execution_count": 25,
   "id": "b0ead025-aaf9-4ff1-ac10-e63ce59ddcc2",
   "metadata": {
    "tags": []
   },
   "outputs": [
    {
     "data": {
      "text/plain": [
       "[Text(0.5, 0, 'ratio of new topic'),\n",
       " Text(0, 0.5, 'CCDF'),\n",
       " (0.0, 1.0),\n",
       " (0.0, 1.05)]"
      ]
     },
     "execution_count": 25,
     "metadata": {},
     "output_type": "execute_result"
    },
    {
     "data": {
      "image/png": "[encoded data removed]",
      "text/plain": [
       "<Figure size 455x490 with 1 Axes>"
      ]
     },
     "metadata": {},
     "output_type": "display_data"
    }
   ],
   "source": [
    "fig, ax = plt.subplots(1,1,constrained_layout=True,figsize=[0.65*7,0.7*7])\n",
    "sns.set(style='ticks',font_scale=1.2, font='Arial')\n",
    "\n",
    "#All researcher\n",
    "data = list(Num_follow_new_All['ratio of new'])\n",
    "# Sort the data in ascending order\n",
    "sorted_data = np.sort(data)\n",
    "# Calculate the CCDF\n",
    "ccdf = 1 - np.linspace(0, 1, len(sorted_data))\n",
    "# Create a DataFrame for Seaborn\n",
    "ax.step(sorted_data, ccdf, where='post',label='All',color='#998ec3',alpha=1) \n",
    "\n",
    "#Elite researcher\n",
    "data = list(Num_follow_new_Elite['ratio of new'])\n",
    "# Sort the data in ascending order\n",
    "sorted_data = np.sort(data)\n",
    "# Calculate the CCDF\n",
    "ccdf = 1 - np.linspace(0, 1, len(sorted_data))\n",
    "# Create a DataFrame for Seaborn\n",
    "ax.step(sorted_data, ccdf, where='post',label='Elite',color='#f1a340',alpha=1)\n",
    "plt.legend(frameon=0)\n",
    "ax.yaxis.set_major_locator(MultipleLocator(0.1))\n",
    "ax.yaxis.set_minor_locator(MultipleLocator(0.05))\n",
    "\n",
    "ax.xaxis.set_major_locator(MultipleLocator(0.2))\n",
    "ax.xaxis.set_minor_locator(MultipleLocator(0.1))\n",
    "# 隐藏右侧和顶部边框\n",
    "ax.spines['right'].set_visible(False)\n",
    "ax.spines['top'].set_visible(False)\n",
    "plt.grid(axis='y',alpha=0.6)\n",
    "\n",
    "ax.set(xlabel='ratio of new topic',ylabel='CCDF',\n",
    "       ylim=[0,1.0],xlim=[0,1.05])\n",
    "# fig.savefig('result_data_plot/new_plot/topic_ratio_distribution(CCDF).pdf')"
   ]
  }
 ],
 "metadata": {
  "kernelspec": {
   "display_name": "myenv",
   "language": "python",
   "name": "myenv"
  },
  "language_info": {
   "codemirror_mode": {
    "name": "ipython",
    "version": 3
   },
   "file_extension": ".py",
   "mimetype": "text/x-python",
   "name": "python",
   "nbconvert_exporter": "python",
   "pygments_lexer": "ipython3",
   "version": "3.11.4"
  }
 },
 "nbformat": 4,
 "nbformat_minor": 5
}
