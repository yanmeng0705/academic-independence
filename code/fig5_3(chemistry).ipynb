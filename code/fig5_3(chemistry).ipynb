{
 "cells": [
  {
   "cell_type": "code",
   "execution_count": 66,
   "id": "5ffe8157-8dea-40ec-8117-be55a58e9055",
   "metadata": {
    "tags": []
   },
   "outputs": [],
   "source": [
    "import pandas as pd\n",
    "import numpy as np\n",
    "\n",
    "from matplotlib.pyplot import MultipleLocator\n",
    "import matplotlib.pyplot as plt\n",
    "import seaborn as sns  #画密度图\n",
    "from matplotlib.ticker import MaxNLocator, FuncFormatter, MultipleLocator\n",
    "import matplotlib.ticker as ticker\n",
    "import palettable #python颜色库\n",
    "\n",
    "type_colors = {'all':'k','main':'#fc8d62','asso':'#66c2a5','new':'grey'}"
   ]
  },
  {
   "cell_type": "code",
   "execution_count": 67,
   "id": "e9926512-579a-49e3-8b12-425093eac89a",
   "metadata": {
    "tags": []
   },
   "outputs": [],
   "source": [
    "key_data = pd.read_csv('Key_Data.csv')"
   ]
  },
  {
   "cell_type": "code",
   "execution_count": 68,
   "id": "6c53a267-01df-4eca-82e7-5b17b3424028",
   "metadata": {
    "tags": []
   },
   "outputs": [
    {
     "data": {
      "text/html": [
       "<div>\n",
       "<style scoped>\n",
       "    .dataframe tbody tr th:only-of-type {\n",
       "        vertical-align: middle;\n",
       "    }\n",
       "\n",
       "    .dataframe tbody tr th {\n",
       "        vertical-align: top;\n",
       "    }\n",
       "\n",
       "    .dataframe thead th {\n",
       "        text-align: right;\n",
       "    }\n",
       "</style>\n",
       "<table border=\"1\" class=\"dataframe\">\n",
       "  <thead>\n",
       "    <tr style=\"text-align: right;\">\n",
       "      <th></th>\n",
       "      <th>index_i</th>\n",
       "      <th>mentee_id</th>\n",
       "      <th>mentor_id</th>\n",
       "      <th>community</th>\n",
       "      <th>paper_num_mte</th>\n",
       "      <th>paper_num_mto</th>\n",
       "      <th>paper_ratio_mte</th>\n",
       "      <th>paper_ratio_mto</th>\n",
       "      <th>credit_mte</th>\n",
       "      <th>credit_mto</th>\n",
       "      <th>...</th>\n",
       "      <th>total_cits_mte</th>\n",
       "      <th>total_cits_mto</th>\n",
       "      <th>total_cits5_mte</th>\n",
       "      <th>total_cits5_mto</th>\n",
       "      <th>cits_mte</th>\n",
       "      <th>cits_mto</th>\n",
       "      <th>cits5_mte</th>\n",
       "      <th>cits5_mto</th>\n",
       "      <th>birthYear_mte</th>\n",
       "      <th>birthYear_mto</th>\n",
       "    </tr>\n",
       "  </thead>\n",
       "  <tbody>\n",
       "    <tr>\n",
       "      <th>0</th>\n",
       "      <td>0</td>\n",
       "      <td>A1964335128</td>\n",
       "      <td>A177689540</td>\n",
       "      <td>5.0</td>\n",
       "      <td>0</td>\n",
       "      <td>26</td>\n",
       "      <td>0.000000</td>\n",
       "      <td>1.0</td>\n",
       "      <td>0.000000</td>\n",
       "      <td>96.139683</td>\n",
       "      <td>...</td>\n",
       "      <td>7237.0</td>\n",
       "      <td>21415.0</td>\n",
       "      <td>4403.0</td>\n",
       "      <td>5485.0</td>\n",
       "      <td>0.0</td>\n",
       "      <td>1996.0</td>\n",
       "      <td>0.0</td>\n",
       "      <td>673.0</td>\n",
       "      <td>2004</td>\n",
       "      <td>1956</td>\n",
       "    </tr>\n",
       "    <tr>\n",
       "      <th>1</th>\n",
       "      <td>0</td>\n",
       "      <td>A1964335128</td>\n",
       "      <td>A177689540</td>\n",
       "      <td>3.0</td>\n",
       "      <td>0</td>\n",
       "      <td>42</td>\n",
       "      <td>0.000000</td>\n",
       "      <td>1.0</td>\n",
       "      <td>0.000000</td>\n",
       "      <td>150.796825</td>\n",
       "      <td>...</td>\n",
       "      <td>7237.0</td>\n",
       "      <td>21415.0</td>\n",
       "      <td>4403.0</td>\n",
       "      <td>5485.0</td>\n",
       "      <td>0.0</td>\n",
       "      <td>1276.0</td>\n",
       "      <td>0.0</td>\n",
       "      <td>264.0</td>\n",
       "      <td>2004</td>\n",
       "      <td>1956</td>\n",
       "    </tr>\n",
       "    <tr>\n",
       "      <th>2</th>\n",
       "      <td>0</td>\n",
       "      <td>A1964335128</td>\n",
       "      <td>A177689540</td>\n",
       "      <td>6.0</td>\n",
       "      <td>25</td>\n",
       "      <td>0</td>\n",
       "      <td>1.000000</td>\n",
       "      <td>0.0</td>\n",
       "      <td>523.366667</td>\n",
       "      <td>0.000000</td>\n",
       "      <td>...</td>\n",
       "      <td>7237.0</td>\n",
       "      <td>21415.0</td>\n",
       "      <td>4403.0</td>\n",
       "      <td>5485.0</td>\n",
       "      <td>4163.0</td>\n",
       "      <td>0.0</td>\n",
       "      <td>2469.0</td>\n",
       "      <td>0.0</td>\n",
       "      <td>2004</td>\n",
       "      <td>1956</td>\n",
       "    </tr>\n",
       "    <tr>\n",
       "      <th>3</th>\n",
       "      <td>0</td>\n",
       "      <td>A1964335128</td>\n",
       "      <td>A177689540</td>\n",
       "      <td>1.0</td>\n",
       "      <td>0</td>\n",
       "      <td>62</td>\n",
       "      <td>0.000000</td>\n",
       "      <td>1.0</td>\n",
       "      <td>0.000000</td>\n",
       "      <td>175.473810</td>\n",
       "      <td>...</td>\n",
       "      <td>7237.0</td>\n",
       "      <td>21415.0</td>\n",
       "      <td>4403.0</td>\n",
       "      <td>5485.0</td>\n",
       "      <td>0.0</td>\n",
       "      <td>5142.0</td>\n",
       "      <td>0.0</td>\n",
       "      <td>806.0</td>\n",
       "      <td>2004</td>\n",
       "      <td>1956</td>\n",
       "    </tr>\n",
       "    <tr>\n",
       "      <th>4</th>\n",
       "      <td>0</td>\n",
       "      <td>A1964335128</td>\n",
       "      <td>A177689540</td>\n",
       "      <td>0.0</td>\n",
       "      <td>8</td>\n",
       "      <td>107</td>\n",
       "      <td>0.074766</td>\n",
       "      <td>1.0</td>\n",
       "      <td>132.846429</td>\n",
       "      <td>724.462374</td>\n",
       "      <td>...</td>\n",
       "      <td>7237.0</td>\n",
       "      <td>21415.0</td>\n",
       "      <td>4403.0</td>\n",
       "      <td>5485.0</td>\n",
       "      <td>1817.0</td>\n",
       "      <td>8735.0</td>\n",
       "      <td>795.0</td>\n",
       "      <td>2880.0</td>\n",
       "      <td>2004</td>\n",
       "      <td>1956</td>\n",
       "    </tr>\n",
       "  </tbody>\n",
       "</table>\n",
       "<p>5 rows × 25 columns</p>\n",
       "</div>"
      ],
      "text/plain": [
       "   index_i    mentee_id   mentor_id  community  paper_num_mte  paper_num_mto  \\\n",
       "0        0  A1964335128  A177689540        5.0              0             26   \n",
       "1        0  A1964335128  A177689540        3.0              0             42   \n",
       "2        0  A1964335128  A177689540        6.0             25              0   \n",
       "3        0  A1964335128  A177689540        1.0              0             62   \n",
       "4        0  A1964335128  A177689540        0.0              8            107   \n",
       "\n",
       "   paper_ratio_mte  paper_ratio_mto  credit_mte  credit_mto  ...  \\\n",
       "0         0.000000              1.0    0.000000   96.139683  ...   \n",
       "1         0.000000              1.0    0.000000  150.796825  ...   \n",
       "2         1.000000              0.0  523.366667    0.000000  ...   \n",
       "3         0.000000              1.0    0.000000  175.473810  ...   \n",
       "4         0.074766              1.0  132.846429  724.462374  ...   \n",
       "\n",
       "   total_cits_mte  total_cits_mto  total_cits5_mte  total_cits5_mto cits_mte  \\\n",
       "0          7237.0         21415.0           4403.0           5485.0      0.0   \n",
       "1          7237.0         21415.0           4403.0           5485.0      0.0   \n",
       "2          7237.0         21415.0           4403.0           5485.0   4163.0   \n",
       "3          7237.0         21415.0           4403.0           5485.0      0.0   \n",
       "4          7237.0         21415.0           4403.0           5485.0   1817.0   \n",
       "\n",
       "   cits_mto  cits5_mte  cits5_mto  birthYear_mte  birthYear_mto  \n",
       "0    1996.0        0.0      673.0           2004           1956  \n",
       "1    1276.0        0.0      264.0           2004           1956  \n",
       "2       0.0     2469.0        0.0           2004           1956  \n",
       "3    5142.0        0.0      806.0           2004           1956  \n",
       "4    8735.0      795.0     2880.0           2004           1956  \n",
       "\n",
       "[5 rows x 25 columns]"
      ]
     },
     "execution_count": 68,
     "metadata": {},
     "output_type": "execute_result"
    }
   ],
   "source": [
    "key_data.head(5)"
   ]
  },
  {
   "cell_type": "code",
   "execution_count": 69,
   "id": "c9b926df-002d-4512-b88f-23925b531961",
   "metadata": {
    "tags": []
   },
   "outputs": [
    {
     "name": "stdout",
     "output_type": "stream",
     "text": [
      "7114\n"
     ]
    }
   ],
   "source": [
    "surpasser = key_data['mentee_id'][key_data.total_credit_mte>=key_data.total_credit_mto].drop_duplicates().tolist()\n",
    "print(len(surpasser))"
   ]
  },
  {
   "cell_type": "code",
   "execution_count": 70,
   "id": "cf774470-2e24-462a-b760-8321b3ba5068",
   "metadata": {
    "tags": []
   },
   "outputs": [
    {
     "data": {
      "text/plain": [
       "Index(['index_i', 'mentee_id', 'mentor_id', 'community', 'paper_num_mte',\n",
       "       'paper_num_mto', 'paper_ratio_mte', 'paper_ratio_mto', 'credit_mte',\n",
       "       'credit_mto', 'communitys_paper_num_mto', 'communitys_paper_num_mte',\n",
       "       'total_credit_mte', 'total_credit_mto', 'type', 'total_cits_mte',\n",
       "       'total_cits_mto', 'total_cits5_mte', 'total_cits5_mto', 'cits_mte',\n",
       "       'cits_mto', 'cits5_mte', 'cits5_mto', 'birthYear_mte', 'birthYear_mto'],\n",
       "      dtype='object')"
      ]
     },
     "execution_count": 70,
     "metadata": {},
     "output_type": "execute_result"
    }
   ],
   "source": [
    "key_data.columns"
   ]
  },
  {
   "cell_type": "code",
   "execution_count": 71,
   "id": "9360c5a2-7ece-4491-8854-693350148a79",
   "metadata": {
    "tags": []
   },
   "outputs": [],
   "source": [
    "temp_key_data = pd.read_csv('temp_key_data.csv')"
   ]
  },
  {
   "cell_type": "code",
   "execution_count": 72,
   "id": "3f84bfe8-8ba3-4735-936a-a33818e06e42",
   "metadata": {
    "tags": []
   },
   "outputs": [
    {
     "data": {
      "text/html": [
       "<div>\n",
       "<style scoped>\n",
       "    .dataframe tbody tr th:only-of-type {\n",
       "        vertical-align: middle;\n",
       "    }\n",
       "\n",
       "    .dataframe tbody tr th {\n",
       "        vertical-align: top;\n",
       "    }\n",
       "\n",
       "    .dataframe thead th {\n",
       "        text-align: right;\n",
       "    }\n",
       "</style>\n",
       "<table border=\"1\" class=\"dataframe\">\n",
       "  <thead>\n",
       "    <tr style=\"text-align: right;\">\n",
       "      <th></th>\n",
       "      <th>index_i</th>\n",
       "      <th>mentee_id</th>\n",
       "      <th>mentor_id</th>\n",
       "      <th>community</th>\n",
       "      <th>paper_num_mte</th>\n",
       "      <th>paper_num_mto</th>\n",
       "      <th>paper_ratio_mte</th>\n",
       "      <th>paper_ratio_mto</th>\n",
       "      <th>credit_mte</th>\n",
       "      <th>credit_mto</th>\n",
       "      <th>communitys_paper_num_mto</th>\n",
       "      <th>communitys_paper_num_mte</th>\n",
       "      <th>total_credit_mte</th>\n",
       "      <th>total_credit_mto</th>\n",
       "      <th>type</th>\n",
       "    </tr>\n",
       "  </thead>\n",
       "  <tbody>\n",
       "    <tr>\n",
       "      <th>0</th>\n",
       "      <td>0</td>\n",
       "      <td>A1964335128</td>\n",
       "      <td>A177689540</td>\n",
       "      <td>5.0</td>\n",
       "      <td>0</td>\n",
       "      <td>26</td>\n",
       "      <td>0.000000</td>\n",
       "      <td>1.0</td>\n",
       "      <td>0.000000</td>\n",
       "      <td>96.139683</td>\n",
       "      <td>284</td>\n",
       "      <td>67</td>\n",
       "      <td>739.891667</td>\n",
       "      <td>1392.864371</td>\n",
       "      <td>associate</td>\n",
       "    </tr>\n",
       "    <tr>\n",
       "      <th>1</th>\n",
       "      <td>0</td>\n",
       "      <td>A1964335128</td>\n",
       "      <td>A177689540</td>\n",
       "      <td>3.0</td>\n",
       "      <td>0</td>\n",
       "      <td>42</td>\n",
       "      <td>0.000000</td>\n",
       "      <td>1.0</td>\n",
       "      <td>0.000000</td>\n",
       "      <td>150.796825</td>\n",
       "      <td>284</td>\n",
       "      <td>67</td>\n",
       "      <td>739.891667</td>\n",
       "      <td>1392.864371</td>\n",
       "      <td>associate</td>\n",
       "    </tr>\n",
       "    <tr>\n",
       "      <th>2</th>\n",
       "      <td>0</td>\n",
       "      <td>A1964335128</td>\n",
       "      <td>A177689540</td>\n",
       "      <td>6.0</td>\n",
       "      <td>25</td>\n",
       "      <td>0</td>\n",
       "      <td>1.000000</td>\n",
       "      <td>0.0</td>\n",
       "      <td>523.366667</td>\n",
       "      <td>0.000000</td>\n",
       "      <td>284</td>\n",
       "      <td>67</td>\n",
       "      <td>739.891667</td>\n",
       "      <td>1392.864371</td>\n",
       "      <td>new</td>\n",
       "    </tr>\n",
       "    <tr>\n",
       "      <th>3</th>\n",
       "      <td>0</td>\n",
       "      <td>A1964335128</td>\n",
       "      <td>A177689540</td>\n",
       "      <td>1.0</td>\n",
       "      <td>0</td>\n",
       "      <td>62</td>\n",
       "      <td>0.000000</td>\n",
       "      <td>1.0</td>\n",
       "      <td>0.000000</td>\n",
       "      <td>175.473810</td>\n",
       "      <td>284</td>\n",
       "      <td>67</td>\n",
       "      <td>739.891667</td>\n",
       "      <td>1392.864371</td>\n",
       "      <td>main</td>\n",
       "    </tr>\n",
       "    <tr>\n",
       "      <th>4</th>\n",
       "      <td>0</td>\n",
       "      <td>A1964335128</td>\n",
       "      <td>A177689540</td>\n",
       "      <td>0.0</td>\n",
       "      <td>8</td>\n",
       "      <td>107</td>\n",
       "      <td>0.074766</td>\n",
       "      <td>1.0</td>\n",
       "      <td>132.846429</td>\n",
       "      <td>724.462374</td>\n",
       "      <td>284</td>\n",
       "      <td>67</td>\n",
       "      <td>739.891667</td>\n",
       "      <td>1392.864371</td>\n",
       "      <td>main</td>\n",
       "    </tr>\n",
       "  </tbody>\n",
       "</table>\n",
       "</div>"
      ],
      "text/plain": [
       "   index_i    mentee_id   mentor_id  community  paper_num_mte  paper_num_mto  \\\n",
       "0        0  A1964335128  A177689540        5.0              0             26   \n",
       "1        0  A1964335128  A177689540        3.0              0             42   \n",
       "2        0  A1964335128  A177689540        6.0             25              0   \n",
       "3        0  A1964335128  A177689540        1.0              0             62   \n",
       "4        0  A1964335128  A177689540        0.0              8            107   \n",
       "\n",
       "   paper_ratio_mte  paper_ratio_mto  credit_mte  credit_mto  \\\n",
       "0         0.000000              1.0    0.000000   96.139683   \n",
       "1         0.000000              1.0    0.000000  150.796825   \n",
       "2         1.000000              0.0  523.366667    0.000000   \n",
       "3         0.000000              1.0    0.000000  175.473810   \n",
       "4         0.074766              1.0  132.846429  724.462374   \n",
       "\n",
       "   communitys_paper_num_mto  communitys_paper_num_mte  total_credit_mte  \\\n",
       "0                       284                        67        739.891667   \n",
       "1                       284                        67        739.891667   \n",
       "2                       284                        67        739.891667   \n",
       "3                       284                        67        739.891667   \n",
       "4                       284                        67        739.891667   \n",
       "\n",
       "   total_credit_mto       type  \n",
       "0       1392.864371  associate  \n",
       "1       1392.864371  associate  \n",
       "2       1392.864371        new  \n",
       "3       1392.864371       main  \n",
       "4       1392.864371       main  "
      ]
     },
     "execution_count": 72,
     "metadata": {},
     "output_type": "execute_result"
    }
   ],
   "source": [
    "temp_key_data.head(5)"
   ]
  },
  {
   "cell_type": "code",
   "execution_count": 73,
   "id": "42189b6d-703a-4ce0-b29e-c02c8ddd71eb",
   "metadata": {
    "tags": []
   },
   "outputs": [
    {
     "data": {
      "text/html": [
       "<div>\n",
       "<style scoped>\n",
       "    .dataframe tbody tr th:only-of-type {\n",
       "        vertical-align: middle;\n",
       "    }\n",
       "\n",
       "    .dataframe tbody tr th {\n",
       "        vertical-align: top;\n",
       "    }\n",
       "\n",
       "    .dataframe thead th {\n",
       "        text-align: right;\n",
       "    }\n",
       "</style>\n",
       "<table border=\"1\" class=\"dataframe\">\n",
       "  <thead>\n",
       "    <tr style=\"text-align: right;\">\n",
       "      <th></th>\n",
       "      <th>mentee_id</th>\n",
       "      <th>total_cits5_mte</th>\n",
       "    </tr>\n",
       "  </thead>\n",
       "  <tbody>\n",
       "    <tr>\n",
       "      <th>0</th>\n",
       "      <td>A1964335128</td>\n",
       "      <td>4403.0</td>\n",
       "    </tr>\n",
       "    <tr>\n",
       "      <th>7</th>\n",
       "      <td>A2047598244</td>\n",
       "      <td>2013.0</td>\n",
       "    </tr>\n",
       "    <tr>\n",
       "      <th>14</th>\n",
       "      <td>A2141337483</td>\n",
       "      <td>1161.0</td>\n",
       "    </tr>\n",
       "    <tr>\n",
       "      <th>19</th>\n",
       "      <td>A2619161227</td>\n",
       "      <td>528.0</td>\n",
       "    </tr>\n",
       "    <tr>\n",
       "      <th>22</th>\n",
       "      <td>A3010849663</td>\n",
       "      <td>16304.0</td>\n",
       "    </tr>\n",
       "  </tbody>\n",
       "</table>\n",
       "</div>"
      ],
      "text/plain": [
       "      mentee_id  total_cits5_mte\n",
       "0   A1964335128           4403.0\n",
       "7   A2047598244           2013.0\n",
       "14  A2141337483           1161.0\n",
       "19  A2619161227            528.0\n",
       "22  A3010849663          16304.0"
      ]
     },
     "execution_count": 73,
     "metadata": {},
     "output_type": "execute_result"
    }
   ],
   "source": [
    "target_author = key_data[['mentee_id','total_cits5_mte']].drop_duplicates()\n",
    "target_author.head(5)"
   ]
  },
  {
   "cell_type": "code",
   "execution_count": 74,
   "id": "decb888c-63e3-4000-a5c5-02314d7b2a6e",
   "metadata": {
    "tags": []
   },
   "outputs": [
    {
     "data": {
      "text/plain": [
       "35395"
      ]
     },
     "execution_count": 74,
     "metadata": {},
     "output_type": "execute_result"
    }
   ],
   "source": [
    "len(target_author)"
   ]
  },
  {
   "cell_type": "code",
   "execution_count": 75,
   "id": "74355b49-b817-4901-af94-436ed757c279",
   "metadata": {
    "tags": []
   },
   "outputs": [],
   "source": [
    "author_id_info = pd.read_csv('author_id_info.csv')"
   ]
  },
  {
   "cell_type": "code",
   "execution_count": 76,
   "id": "505ad133-2aef-467a-a9e6-b37e75ffdbfe",
   "metadata": {
    "tags": []
   },
   "outputs": [
    {
     "data": {
      "text/html": [
       "<div>\n",
       "<style scoped>\n",
       "    .dataframe tbody tr th:only-of-type {\n",
       "        vertical-align: middle;\n",
       "    }\n",
       "\n",
       "    .dataframe tbody tr th {\n",
       "        vertical-align: top;\n",
       "    }\n",
       "\n",
       "    .dataframe thead th {\n",
       "        text-align: right;\n",
       "    }\n",
       "</style>\n",
       "<table border=\"1\" class=\"dataframe\">\n",
       "  <thead>\n",
       "    <tr style=\"text-align: right;\">\n",
       "      <th></th>\n",
       "      <th>AFTAuthorID</th>\n",
       "      <th>MAGAuthorID</th>\n",
       "      <th>author_id</th>\n",
       "      <th>careerlen</th>\n",
       "      <th>pubsnum</th>\n",
       "    </tr>\n",
       "  </thead>\n",
       "  <tbody>\n",
       "    <tr>\n",
       "      <th>0</th>\n",
       "      <td>9</td>\n",
       "      <td>2.952982e+09</td>\n",
       "      <td>A2952981685</td>\n",
       "      <td>46.0</td>\n",
       "      <td>92.0</td>\n",
       "    </tr>\n",
       "    <tr>\n",
       "      <th>1</th>\n",
       "      <td>20</td>\n",
       "      <td>2.169128e+09</td>\n",
       "      <td>A2169128453</td>\n",
       "      <td>37.0</td>\n",
       "      <td>70.0</td>\n",
       "    </tr>\n",
       "    <tr>\n",
       "      <th>2</th>\n",
       "      <td>24</td>\n",
       "      <td>2.225823e+09</td>\n",
       "      <td>A2225823178</td>\n",
       "      <td>43.0</td>\n",
       "      <td>161.0</td>\n",
       "    </tr>\n",
       "    <tr>\n",
       "      <th>3</th>\n",
       "      <td>44</td>\n",
       "      <td>2.194379e+09</td>\n",
       "      <td>A2194378655</td>\n",
       "      <td>37.0</td>\n",
       "      <td>162.0</td>\n",
       "    </tr>\n",
       "    <tr>\n",
       "      <th>4</th>\n",
       "      <td>65</td>\n",
       "      <td>2.700743e+09</td>\n",
       "      <td>A2700743302</td>\n",
       "      <td>76.0</td>\n",
       "      <td>67.0</td>\n",
       "    </tr>\n",
       "  </tbody>\n",
       "</table>\n",
       "</div>"
      ],
      "text/plain": [
       "   AFTAuthorID   MAGAuthorID    author_id  careerlen  pubsnum\n",
       "0            9  2.952982e+09  A2952981685       46.0     92.0\n",
       "1           20  2.169128e+09  A2169128453       37.0     70.0\n",
       "2           24  2.225823e+09  A2225823178       43.0    161.0\n",
       "3           44  2.194379e+09  A2194378655       37.0    162.0\n",
       "4           65  2.700743e+09  A2700743302       76.0     67.0"
      ]
     },
     "execution_count": 76,
     "metadata": {},
     "output_type": "execute_result"
    }
   ],
   "source": [
    "author_id_info.head(5)"
   ]
  },
  {
   "cell_type": "code",
   "execution_count": 77,
   "id": "735f0b29-3ba6-4e82-9fcd-4af69f1eafc9",
   "metadata": {
    "tags": []
   },
   "outputs": [],
   "source": [
    "author_careerLen = author_id_info[['author_id','careerlen']].drop_duplicates()\n",
    "author_careerLen = author_careerLen.rename(columns={\"author_id\":'mentee_id'})"
   ]
  },
  {
   "cell_type": "code",
   "execution_count": 78,
   "id": "51e3751b-76dc-404e-b1d2-0854ea7e0456",
   "metadata": {
    "tags": []
   },
   "outputs": [
    {
     "data": {
      "text/plain": [
       "93431"
      ]
     },
     "execution_count": 78,
     "metadata": {},
     "output_type": "execute_result"
    }
   ],
   "source": [
    "len(author_careerLen)"
   ]
  },
  {
   "cell_type": "code",
   "execution_count": 79,
   "id": "9f81033b-e75f-463c-8a1b-14b3f72df71b",
   "metadata": {
    "tags": []
   },
   "outputs": [],
   "source": [
    "target_author = target_author.merge(author_careerLen,on='mentee_id',how='left')"
   ]
  },
  {
   "cell_type": "code",
   "execution_count": 80,
   "id": "31578c87-84a4-4193-a0c7-a7e3c9bd3c9e",
   "metadata": {
    "tags": []
   },
   "outputs": [
    {
     "data": {
      "text/html": [
       "<div>\n",
       "<style scoped>\n",
       "    .dataframe tbody tr th:only-of-type {\n",
       "        vertical-align: middle;\n",
       "    }\n",
       "\n",
       "    .dataframe tbody tr th {\n",
       "        vertical-align: top;\n",
       "    }\n",
       "\n",
       "    .dataframe thead th {\n",
       "        text-align: right;\n",
       "    }\n",
       "</style>\n",
       "<table border=\"1\" class=\"dataframe\">\n",
       "  <thead>\n",
       "    <tr style=\"text-align: right;\">\n",
       "      <th></th>\n",
       "      <th>mentee_id</th>\n",
       "      <th>total_cits5_mte</th>\n",
       "      <th>careerlen</th>\n",
       "    </tr>\n",
       "  </thead>\n",
       "  <tbody>\n",
       "    <tr>\n",
       "      <th>0</th>\n",
       "      <td>A1964335128</td>\n",
       "      <td>4403.0</td>\n",
       "      <td>19.0</td>\n",
       "    </tr>\n",
       "    <tr>\n",
       "      <th>1</th>\n",
       "      <td>A2047598244</td>\n",
       "      <td>2013.0</td>\n",
       "      <td>18.0</td>\n",
       "    </tr>\n",
       "    <tr>\n",
       "      <th>2</th>\n",
       "      <td>A2141337483</td>\n",
       "      <td>1161.0</td>\n",
       "      <td>152.0</td>\n",
       "    </tr>\n",
       "    <tr>\n",
       "      <th>3</th>\n",
       "      <td>A2619161227</td>\n",
       "      <td>528.0</td>\n",
       "      <td>14.0</td>\n",
       "    </tr>\n",
       "    <tr>\n",
       "      <th>4</th>\n",
       "      <td>A3010849663</td>\n",
       "      <td>16304.0</td>\n",
       "      <td>37.0</td>\n",
       "    </tr>\n",
       "  </tbody>\n",
       "</table>\n",
       "</div>"
      ],
      "text/plain": [
       "     mentee_id  total_cits5_mte  careerlen\n",
       "0  A1964335128           4403.0       19.0\n",
       "1  A2047598244           2013.0       18.0\n",
       "2  A2141337483           1161.0      152.0\n",
       "3  A2619161227            528.0       14.0\n",
       "4  A3010849663          16304.0       37.0"
      ]
     },
     "execution_count": 80,
     "metadata": {},
     "output_type": "execute_result"
    }
   ],
   "source": [
    "target_author.head(5)"
   ]
  },
  {
   "cell_type": "code",
   "execution_count": 81,
   "id": "60dd96cd-838a-458c-bb97-13c487e9a20c",
   "metadata": {
    "tags": []
   },
   "outputs": [
    {
     "data": {
      "text/plain": [
       "23.0"
      ]
     },
     "execution_count": 81,
     "metadata": {},
     "output_type": "execute_result"
    }
   ],
   "source": [
    "np.quantile(target_author['careerlen'],0.5)"
   ]
  },
  {
   "cell_type": "code",
   "execution_count": 82,
   "id": "7d382f0a-ff8d-42dc-b1f6-bf098d1b4222",
   "metadata": {
    "tags": []
   },
   "outputs": [
    {
     "data": {
      "text/plain": [
       "5178.899999999998"
      ]
     },
     "execution_count": 82,
     "metadata": {},
     "output_type": "execute_result"
    }
   ],
   "source": [
    "np.quantile(target_author['total_cits5_mte'],0.85)"
   ]
  },
  {
   "cell_type": "code",
   "execution_count": 83,
   "id": "7f71ae83-a248-4056-b865-c38421be37ff",
   "metadata": {
    "tags": []
   },
   "outputs": [],
   "source": [
    "target_author_cl25 = target_author[target_author['careerlen']>=25]"
   ]
  },
  {
   "cell_type": "code",
   "execution_count": 84,
   "id": "ca7a0888-eb5c-45f4-b26d-0f7abb77a42f",
   "metadata": {
    "tags": []
   },
   "outputs": [],
   "source": [
    "elite_q85 = target_author[target_author['total_cits5_mte']>=np.quantile(target_author['total_cits5_mte'],0.85)]"
   ]
  },
  {
   "cell_type": "code",
   "execution_count": 85,
   "id": "d405d652-65c6-4916-bae1-546bc27d1301",
   "metadata": {
    "scrolled": true,
    "tags": []
   },
   "outputs": [],
   "source": [
    "elite_q85_surpasser = target_author[(target_author['total_cits5_mte']>=np.quantile(target_author['total_cits5_mte'],0.85))&\n",
    "                                   (target_author.mentee_id.isin(surpasser))]"
   ]
  },
  {
   "cell_type": "code",
   "execution_count": 86,
   "id": "ca1813d6-7e64-4987-bf47-5b6028e44254",
   "metadata": {
    "tags": []
   },
   "outputs": [
    {
     "data": {
      "text/html": [
       "<div>\n",
       "<style scoped>\n",
       "    .dataframe tbody tr th:only-of-type {\n",
       "        vertical-align: middle;\n",
       "    }\n",
       "\n",
       "    .dataframe tbody tr th {\n",
       "        vertical-align: top;\n",
       "    }\n",
       "\n",
       "    .dataframe thead th {\n",
       "        text-align: right;\n",
       "    }\n",
       "</style>\n",
       "<table border=\"1\" class=\"dataframe\">\n",
       "  <thead>\n",
       "    <tr style=\"text-align: right;\">\n",
       "      <th></th>\n",
       "      <th>mentee_id</th>\n",
       "      <th>total_cits5_mte</th>\n",
       "      <th>careerlen</th>\n",
       "    </tr>\n",
       "  </thead>\n",
       "  <tbody>\n",
       "    <tr>\n",
       "      <th>2</th>\n",
       "      <td>A2141337483</td>\n",
       "      <td>1161.0</td>\n",
       "      <td>152.0</td>\n",
       "    </tr>\n",
       "    <tr>\n",
       "      <th>4</th>\n",
       "      <td>A3010849663</td>\n",
       "      <td>16304.0</td>\n",
       "      <td>37.0</td>\n",
       "    </tr>\n",
       "    <tr>\n",
       "      <th>7</th>\n",
       "      <td>A2008232695</td>\n",
       "      <td>854.0</td>\n",
       "      <td>39.0</td>\n",
       "    </tr>\n",
       "    <tr>\n",
       "      <th>8</th>\n",
       "      <td>A2152203782</td>\n",
       "      <td>6626.0</td>\n",
       "      <td>53.0</td>\n",
       "    </tr>\n",
       "    <tr>\n",
       "      <th>9</th>\n",
       "      <td>A2071713747</td>\n",
       "      <td>572.0</td>\n",
       "      <td>38.0</td>\n",
       "    </tr>\n",
       "  </tbody>\n",
       "</table>\n",
       "</div>"
      ],
      "text/plain": [
       "     mentee_id  total_cits5_mte  careerlen\n",
       "2  A2141337483           1161.0      152.0\n",
       "4  A3010849663          16304.0       37.0\n",
       "7  A2008232695            854.0       39.0\n",
       "8  A2152203782           6626.0       53.0\n",
       "9  A2071713747            572.0       38.0"
      ]
     },
     "execution_count": 86,
     "metadata": {},
     "output_type": "execute_result"
    }
   ],
   "source": [
    "target_author_cl25.head(5)"
   ]
  },
  {
   "cell_type": "code",
   "execution_count": 87,
   "id": "0d759969-0c25-4033-b726-f7d39cbb700a",
   "metadata": {
    "tags": []
   },
   "outputs": [],
   "source": [
    "target_author_cl25 = target_author_cl25['mentee_id']"
   ]
  },
  {
   "cell_type": "code",
   "execution_count": 88,
   "id": "a5f26ae5-2c39-4410-a6b6-ed7cfce2f2e8",
   "metadata": {
    "tags": []
   },
   "outputs": [],
   "source": [
    "elite_q85 = elite_q85['mentee_id']"
   ]
  },
  {
   "cell_type": "code",
   "execution_count": 89,
   "id": "6bbfd3d6-b2b8-47e9-b7a5-d86e3e704934",
   "metadata": {
    "tags": []
   },
   "outputs": [],
   "source": [
    "elite_q85_surpasser = elite_q85_surpasser['mentee_id']"
   ]
  },
  {
   "cell_type": "code",
   "execution_count": 90,
   "id": "b884e54b-b2cf-4164-b68c-b5e72642da81",
   "metadata": {
    "tags": []
   },
   "outputs": [
    {
     "data": {
      "text/plain": [
       "5310"
      ]
     },
     "execution_count": 90,
     "metadata": {},
     "output_type": "execute_result"
    }
   ],
   "source": [
    "len(elite_q85)"
   ]
  },
  {
   "cell_type": "code",
   "execution_count": 91,
   "id": "07c5efc8-9f08-4c4d-84b7-e1c3b76c3031",
   "metadata": {
    "tags": []
   },
   "outputs": [
    {
     "data": {
      "text/plain": [
       "2772"
      ]
     },
     "execution_count": 91,
     "metadata": {},
     "output_type": "execute_result"
    }
   ],
   "source": [
    "len(elite_q85_surpasser)"
   ]
  },
  {
   "cell_type": "code",
   "execution_count": 92,
   "id": "ee4aad58-b1ee-47b5-9153-e7f206a424ac",
   "metadata": {
    "tags": []
   },
   "outputs": [],
   "source": [
    "target_author_cl25.to_csv('target_author_cl25.csv',index=0)"
   ]
  },
  {
   "cell_type": "code",
   "execution_count": 93,
   "id": "01ab54c1-46da-4db2-9696-2e1c114b0695",
   "metadata": {
    "tags": []
   },
   "outputs": [],
   "source": [
    "elite_q85.to_csv('elite_q85.csv',index=0)"
   ]
  },
  {
   "cell_type": "code",
   "execution_count": 94,
   "id": "88e388ac-b259-4906-bb2f-040ef5d36385",
   "metadata": {},
   "outputs": [],
   "source": [
    "elite_q85_surpasser.to_csv('elite_q85_surpasser.csv',index=0)"
   ]
  },
  {
   "cell_type": "code",
   "execution_count": null,
   "id": "71748500-0201-4517-97fa-458f502e64e9",
   "metadata": {},
   "outputs": [],
   "source": []
  }
 ],
 "metadata": {
  "kernelspec": {
   "display_name": "myenv",
   "language": "python",
   "name": "myenv"
  },
  "language_info": {
   "codemirror_mode": {
    "name": "ipython",
    "version": 3
   },
   "file_extension": ".py",
   "mimetype": "text/x-python",
   "name": "python",
   "nbconvert_exporter": "python",
   "pygments_lexer": "ipython3",
   "version": "3.11.3"
  }
 },
 "nbformat": 4,
 "nbformat_minor": 5
}
