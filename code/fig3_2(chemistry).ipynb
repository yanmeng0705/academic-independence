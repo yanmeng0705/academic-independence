{
 "cells": [
  {
   "cell_type": "code",
   "execution_count": 1,
   "id": "a090aa70-f8c6-4645-89b1-3a55ac41294d",
   "metadata": {
    "tags": []
   },
   "outputs": [],
   "source": [
    "import pandas as pd\n",
    "import numpy as np\n",
    "\n",
    "import matplotlib.pyplot as plt\n",
    "from matplotlib.pyplot import MultipleLocator\n",
    "from matplotlib.dates import DateFormatter, ConciseDateFormatter\n",
    "from matplotlib.ticker import MaxNLocator, FuncFormatter, MultipleLocator\n",
    "import matplotlib.ticker as ticker\n",
    "\n",
    "import seaborn as sns  #画密度图"
   ]
  },
  {
   "cell_type": "code",
   "execution_count": 2,
   "id": "87f44ea4-3af9-4eec-a0f4-25ef51dde780",
   "metadata": {
    "tags": []
   },
   "outputs": [
    {
     "name": "stdout",
     "output_type": "stream",
     "text": [
      "49628\n"
     ]
    }
   ],
   "source": [
    "key_Data = pd.read_csv('Key_Data.csv')\n",
    "V0 = pd.read_csv('regression_variables.csv')\n",
    "thd = 0\n",
    "print(len(V0))\n",
    "thd = 1990\n",
    "V2000 = V0['mentee_id'][V0.birthYear_mte<=thd]\n",
    "key_Data = key_Data[(key_Data.paper_num_mte>0)&(key_Data.mentee_id.isin(V2000))]"
   ]
  },
  {
   "cell_type": "code",
   "execution_count": 3,
   "id": "12526884-c523-4883-adc7-e60dbff43274",
   "metadata": {
    "tags": []
   },
   "outputs": [],
   "source": [
    "# key_Data = pd.read_csv('Key_Data.csv')"
   ]
  },
  {
   "cell_type": "code",
   "execution_count": 4,
   "id": "696d2909-947a-470e-bab6-a332f4df74d0",
   "metadata": {
    "tags": []
   },
   "outputs": [],
   "source": [
    "data = key_Data[['mentee_id','mentor_id','community','paper_num_mte','paper_num_mto','communitys_paper_num_mto','type']].reset_index()"
   ]
  },
  {
   "cell_type": "code",
   "execution_count": 5,
   "id": "11192558-9c1c-4f8c-889e-492298be4487",
   "metadata": {
    "tags": []
   },
   "outputs": [],
   "source": [
    "data['paper_ratio_in_communities_mto'] = data['paper_num_mto']/data['communitys_paper_num_mto']"
   ]
  },
  {
   "cell_type": "code",
   "execution_count": 6,
   "id": "10cab047-e357-453b-8253-5967a62d6d42",
   "metadata": {
    "tags": []
   },
   "outputs": [
    {
     "data": {
      "text/html": [
       "<div>\n",
       "<style scoped>\n",
       "    .dataframe tbody tr th:only-of-type {\n",
       "        vertical-align: middle;\n",
       "    }\n",
       "\n",
       "    .dataframe tbody tr th {\n",
       "        vertical-align: top;\n",
       "    }\n",
       "\n",
       "    .dataframe thead th {\n",
       "        text-align: right;\n",
       "    }\n",
       "</style>\n",
       "<table border=\"1\" class=\"dataframe\">\n",
       "  <thead>\n",
       "    <tr style=\"text-align: right;\">\n",
       "      <th></th>\n",
       "      <th>index</th>\n",
       "      <th>mentee_id</th>\n",
       "      <th>mentor_id</th>\n",
       "      <th>community</th>\n",
       "      <th>paper_num_mte</th>\n",
       "      <th>paper_num_mto</th>\n",
       "      <th>communitys_paper_num_mto</th>\n",
       "      <th>type</th>\n",
       "      <th>paper_ratio_in_communities_mto</th>\n",
       "    </tr>\n",
       "  </thead>\n",
       "  <tbody>\n",
       "    <tr>\n",
       "      <th>0</th>\n",
       "      <td>14</td>\n",
       "      <td>A2141337483</td>\n",
       "      <td>A328693186</td>\n",
       "      <td>0.0</td>\n",
       "      <td>4</td>\n",
       "      <td>70</td>\n",
       "      <td>180</td>\n",
       "      <td>main</td>\n",
       "      <td>0.388889</td>\n",
       "    </tr>\n",
       "    <tr>\n",
       "      <th>1</th>\n",
       "      <td>16</td>\n",
       "      <td>A2141337483</td>\n",
       "      <td>A328693186</td>\n",
       "      <td>4.0</td>\n",
       "      <td>19</td>\n",
       "      <td>0</td>\n",
       "      <td>180</td>\n",
       "      <td>new</td>\n",
       "      <td>0.000000</td>\n",
       "    </tr>\n",
       "    <tr>\n",
       "      <th>2</th>\n",
       "      <td>17</td>\n",
       "      <td>A2141337483</td>\n",
       "      <td>A328693186</td>\n",
       "      <td>3.0</td>\n",
       "      <td>1</td>\n",
       "      <td>32</td>\n",
       "      <td>180</td>\n",
       "      <td>associate</td>\n",
       "      <td>0.177778</td>\n",
       "    </tr>\n",
       "    <tr>\n",
       "      <th>3</th>\n",
       "      <td>22</td>\n",
       "      <td>A3010849663</td>\n",
       "      <td>A240727783</td>\n",
       "      <td>5.0</td>\n",
       "      <td>23</td>\n",
       "      <td>1</td>\n",
       "      <td>363</td>\n",
       "      <td>associate</td>\n",
       "      <td>0.002755</td>\n",
       "    </tr>\n",
       "    <tr>\n",
       "      <th>4</th>\n",
       "      <td>23</td>\n",
       "      <td>A3010849663</td>\n",
       "      <td>A240727783</td>\n",
       "      <td>2.0</td>\n",
       "      <td>53</td>\n",
       "      <td>47</td>\n",
       "      <td>363</td>\n",
       "      <td>main</td>\n",
       "      <td>0.129477</td>\n",
       "    </tr>\n",
       "  </tbody>\n",
       "</table>\n",
       "</div>"
      ],
      "text/plain": [
       "   index    mentee_id   mentor_id  community  paper_num_mte  paper_num_mto  \\\n",
       "0     14  A2141337483  A328693186        0.0              4             70   \n",
       "1     16  A2141337483  A328693186        4.0             19              0   \n",
       "2     17  A2141337483  A328693186        3.0              1             32   \n",
       "3     22  A3010849663  A240727783        5.0             23              1   \n",
       "4     23  A3010849663  A240727783        2.0             53             47   \n",
       "\n",
       "   communitys_paper_num_mto       type  paper_ratio_in_communities_mto  \n",
       "0                       180       main                        0.388889  \n",
       "1                       180        new                        0.000000  \n",
       "2                       180  associate                        0.177778  \n",
       "3                       363  associate                        0.002755  \n",
       "4                       363       main                        0.129477  "
      ]
     },
     "execution_count": 6,
     "metadata": {},
     "output_type": "execute_result"
    }
   ],
   "source": [
    "data.head(5)"
   ]
  },
  {
   "cell_type": "code",
   "execution_count": 7,
   "id": "9462e80a-cf58-4e4f-a046-74f0a15b7fb6",
   "metadata": {
    "tags": []
   },
   "outputs": [],
   "source": [
    "data = data[data.paper_num_mte>0]"
   ]
  },
  {
   "cell_type": "code",
   "execution_count": 8,
   "id": "189762c7-8812-4699-8d95-145739559491",
   "metadata": {
    "tags": []
   },
   "outputs": [],
   "source": [
    "type_colors = {'all':'k','main':'#fc8d62','asso':'#66c2a5','new':'grey'}"
   ]
  },
  {
   "cell_type": "code",
   "execution_count": 9,
   "id": "609cef35-0a4e-4175-9fc2-2009c2d939d9",
   "metadata": {
    "tags": []
   },
   "outputs": [],
   "source": [
    "def type_count(tp_df,attri):\n",
    "    num = len(tp_df[tp_df.type==attri])\n",
    "    return num\n",
    "\n",
    "num_main = data.groupby(['mentee_id','mentor_id']).apply(type_count,attri='main').reset_index(name='num_main')\n",
    "num_asso = data.groupby(['mentee_id','mentor_id']).apply(type_count,attri='associate').reset_index(name='num_asso')\n",
    "num_new = data.groupby(['mentee_id','mentor_id']).apply(type_count,attri='new').reset_index(name='num_new')\n",
    "num_type = num_main.merge(num_asso,on=['mentee_id','mentor_id'],how='left')\n",
    "num_type = num_type.merge(num_new,on=['mentee_id','mentor_id'],how='left')"
   ]
  },
  {
   "cell_type": "code",
   "execution_count": 10,
   "id": "6ab15927-1763-4916-9b49-1369df5dd289",
   "metadata": {
    "tags": []
   },
   "outputs": [
    {
     "data": {
      "text/html": [
       "<div>\n",
       "<style scoped>\n",
       "    .dataframe tbody tr th:only-of-type {\n",
       "        vertical-align: middle;\n",
       "    }\n",
       "\n",
       "    .dataframe tbody tr th {\n",
       "        vertical-align: top;\n",
       "    }\n",
       "\n",
       "    .dataframe thead th {\n",
       "        text-align: right;\n",
       "    }\n",
       "</style>\n",
       "<table border=\"1\" class=\"dataframe\">\n",
       "  <thead>\n",
       "    <tr style=\"text-align: right;\">\n",
       "      <th></th>\n",
       "      <th>mentee_id</th>\n",
       "      <th>mentor_id</th>\n",
       "      <th>num_main</th>\n",
       "      <th>num_asso</th>\n",
       "      <th>num_new</th>\n",
       "    </tr>\n",
       "  </thead>\n",
       "  <tbody>\n",
       "    <tr>\n",
       "      <th>0</th>\n",
       "      <td>A1002422011</td>\n",
       "      <td>A1897971127</td>\n",
       "      <td>1</td>\n",
       "      <td>1</td>\n",
       "      <td>0</td>\n",
       "    </tr>\n",
       "    <tr>\n",
       "      <th>1</th>\n",
       "      <td>A1002422011</td>\n",
       "      <td>A1966502692</td>\n",
       "      <td>1</td>\n",
       "      <td>1</td>\n",
       "      <td>0</td>\n",
       "    </tr>\n",
       "    <tr>\n",
       "      <th>2</th>\n",
       "      <td>A100328954</td>\n",
       "      <td>A1993268291</td>\n",
       "      <td>0</td>\n",
       "      <td>1</td>\n",
       "      <td>3</td>\n",
       "    </tr>\n",
       "    <tr>\n",
       "      <th>3</th>\n",
       "      <td>A100328954</td>\n",
       "      <td>A2157074446</td>\n",
       "      <td>1</td>\n",
       "      <td>2</td>\n",
       "      <td>1</td>\n",
       "    </tr>\n",
       "    <tr>\n",
       "      <th>4</th>\n",
       "      <td>A100328954</td>\n",
       "      <td>A2780364925</td>\n",
       "      <td>0</td>\n",
       "      <td>1</td>\n",
       "      <td>3</td>\n",
       "    </tr>\n",
       "  </tbody>\n",
       "</table>\n",
       "</div>"
      ],
      "text/plain": [
       "     mentee_id    mentor_id  num_main  num_asso  num_new\n",
       "0  A1002422011  A1897971127         1         1        0\n",
       "1  A1002422011  A1966502692         1         1        0\n",
       "2   A100328954  A1993268291         0         1        3\n",
       "3   A100328954  A2157074446         1         2        1\n",
       "4   A100328954  A2780364925         0         1        3"
      ]
     },
     "execution_count": 10,
     "metadata": {},
     "output_type": "execute_result"
    }
   ],
   "source": [
    "num_type.head(5)"
   ]
  },
  {
   "cell_type": "code",
   "execution_count": 11,
   "id": "3f4f4aff-1052-4608-9f85-517b6da80430",
   "metadata": {
    "tags": []
   },
   "outputs": [
    {
     "name": "stdout",
     "output_type": "stream",
     "text": [
      "primary: 1.0268745450133463 0.8934735517396585 0.006959057073291281\n",
      "secondary: 1.3070249939335112 1.0563803704731531 0.008227900283017358\n",
      "new: 1.3986289735501092 1.5359402374226314 0.011963080219416656\n"
     ]
    }
   ],
   "source": [
    "n = len(num_type)\n",
    "\n",
    "mean_main = np.mean(num_type.num_main)\n",
    "std_main = np.std(num_type.num_main)\n",
    "stdError_main = np.std(num_type.num_main)/np.sqrt(n)\n",
    "print('primary:',mean_main,std_main,stdError_main)\n",
    "\n",
    "mean_asso = np.mean(num_type.num_asso)\n",
    "std_asso = np.std(num_type.num_asso)\n",
    "stdError_asso = np.std(num_type.num_asso)/np.sqrt(n)\n",
    "print('secondary:',mean_asso,std_asso,stdError_asso)\n",
    "\n",
    "mean_new = np.mean(num_type.num_new)\n",
    "std_new = np.std(num_type.num_new)\n",
    "stdError_new = np.std(num_type.num_new)/np.sqrt(n)\n",
    "print('new:',mean_new,std_new,stdError_new)"
   ]
  },
  {
   "cell_type": "markdown",
   "id": "c997ae79-2be3-48f8-bc8f-c81cbd250f90",
   "metadata": {},
   "source": [
    "#### Elite"
   ]
  },
  {
   "cell_type": "code",
   "execution_count": 12,
   "id": "adcad21b-55b8-421b-b679-580c0ce30686",
   "metadata": {
    "tags": []
   },
   "outputs": [
    {
     "name": "stdout",
     "output_type": "stream",
     "text": [
      "(236104, 25)\n",
      "11436\n"
     ]
    }
   ],
   "source": [
    "key_data_0 = pd.read_csv('Key_Data.csv')\n",
    "print(key_data_0.shape)\n",
    "V20 = V0['mentee_id'][V0.birthYear_mte<=thd]\n",
    "key_data_0 = key_data_0[(key_data_0.paper_num_mte>0)&(key_data_0.mentee_id.isin(V20))]\n",
    "print(len(set(key_data_0.mentee_id)))"
   ]
  },
  {
   "cell_type": "code",
   "execution_count": 13,
   "id": "28fba467-6ff6-4d9c-9116-1f6dcf8e93d9",
   "metadata": {
    "tags": []
   },
   "outputs": [],
   "source": [
    "V0['yearly_cits5_mte'] = V0['total_cits5_mte']/V0['career_len_mte']"
   ]
  },
  {
   "cell_type": "code",
   "execution_count": 14,
   "id": "5ac63e8e-4860-4ad0-9f30-0e6bfd5294b8",
   "metadata": {
    "tags": []
   },
   "outputs": [
    {
     "name": "stdout",
     "output_type": "stream",
     "text": [
      "4331.200000000012\n"
     ]
    }
   ],
   "source": [
    "q80_total_cits5 = V0[['yearly_cits5_mte','total_cits5_mte']].quantile([0.25,0.80]).total_cits5_mte.tolist()[1]\n",
    "print(q80_total_cits5)"
   ]
  },
  {
   "cell_type": "code",
   "execution_count": 15,
   "id": "502192d9-0792-478f-927f-2b3fa2be4621",
   "metadata": {
    "tags": []
   },
   "outputs": [],
   "source": [
    "# V0_elite = V0['mentee_id'][V0.yearly_cits5_mte>=169]\n",
    "V0_elite = V0['mentee_id'][V0.total_cits5_mte>=q80_total_cits5]\n",
    "key_data_tp = key_data_0[key_data_0.mentee_id.isin(V0_elite)]"
   ]
  },
  {
   "cell_type": "code",
   "execution_count": 17,
   "id": "44a6e6a5-eee8-4f24-a0e4-38a4596e2fd9",
   "metadata": {
    "tags": []
   },
   "outputs": [],
   "source": [
    "elite_mentee = list(set(key_data_tp.mentee_id))"
   ]
  },
  {
   "cell_type": "code",
   "execution_count": 18,
   "id": "4d8b1920-5297-468f-a30c-d31d86b7c023",
   "metadata": {
    "tags": []
   },
   "outputs": [],
   "source": [
    "num_type_elite = num_type[num_type.mentee_id.isin(elite_mentee)]"
   ]
  },
  {
   "cell_type": "code",
   "execution_count": 19,
   "id": "f39d4634-c77f-4532-af62-de34f0139ec7",
   "metadata": {
    "tags": []
   },
   "outputs": [
    {
     "name": "stdout",
     "output_type": "stream",
     "text": [
      "primary: 1.1360432715948205 0.8915164170177747 0.011413762528424683\n",
      "secondary: 1.6325192591378463 1.1661024041982955 0.014929187697817882\n",
      "new: 1.9704966398950992 1.9108421487964324 0.02446382152851862\n"
     ]
    }
   ],
   "source": [
    "n = len(num_type_elite)\n",
    "\n",
    "mean_main_elite = np.mean(num_type_elite.num_main)\n",
    "std_main_elite = np.std(num_type_elite.num_main)\n",
    "stdError_main_elite = np.std(num_type_elite.num_main)/np.sqrt(n)\n",
    "print('primary:',mean_main_elite,std_main_elite,stdError_main_elite)\n",
    "\n",
    "mean_asso_elite = np.mean(num_type_elite.num_asso)\n",
    "std_asso_elite = np.std(num_type_elite.num_asso)\n",
    "stdError_asso_elite = np.std(num_type_elite.num_asso)/np.sqrt(n)\n",
    "print('secondary:',mean_asso_elite,std_asso_elite,stdError_asso_elite)\n",
    "\n",
    "mean_new_elite = np.mean(num_type_elite.num_new)\n",
    "std_new_elite = np.std(num_type_elite.num_new)\n",
    "stdError_new_elite = np.std(num_type_elite.num_new)/np.sqrt(n)\n",
    "print('new:',mean_new_elite,std_new_elite,stdError_new_elite)"
   ]
  },
  {
   "cell_type": "markdown",
   "id": "03c4e7c3-5453-4f24-92ea-cc3e7989c45e",
   "metadata": {},
   "source": [
    "#### mannwhitneyu test"
   ]
  },
  {
   "cell_type": "code",
   "execution_count": 20,
   "id": "323bb6d8-69c3-4060-8009-2f43ea975be1",
   "metadata": {
    "tags": []
   },
   "outputs": [],
   "source": [
    "from scipy import stats"
   ]
  },
  {
   "cell_type": "markdown",
   "id": "86546cba-c0d3-4e25-93e9-29ef5f4b9ce4",
   "metadata": {},
   "source": [
    "##### All"
   ]
  },
  {
   "cell_type": "code",
   "execution_count": 21,
   "id": "7ce9a67f-87eb-411c-af13-c87f8ac8bf97",
   "metadata": {
    "tags": []
   },
   "outputs": [
    {
     "name": "stdout",
     "output_type": "stream",
     "text": [
      "116904411.5 3.029189129196788e-119\n"
     ]
    }
   ],
   "source": [
    "data1 = num_type.num_main\n",
    "data2 = num_type.num_asso\n",
    "u_statistic, p_value = stats.mannwhitneyu(data1, data2)\n",
    "print(u_statistic,p_value)"
   ]
  },
  {
   "cell_type": "code",
   "execution_count": 22,
   "id": "bdee6315-9d28-4427-a743-eca0865c77e4",
   "metadata": {
    "tags": []
   },
   "outputs": [],
   "source": [
    "# data1 = num_type.num_main\n",
    "# data2 = num_type.num_asso\n",
    "# # 两组数据（用你自己的数据替换）\n",
    "# group1 = data1\n",
    "# group2 = data2\n",
    "\n",
    "# # 计算均值和标准误差\n",
    "# mean1, se1 = np.mean(group1), stats.sem(group1)\n",
    "# mean2, se2 = np.mean(group2), stats.sem(group2)\n",
    "\n",
    "# # 计算均值差异的置信区间\n",
    "# diff_mean = mean1 - mean2\n",
    "# se_diff = np.sqrt(se1**2 + se2**2)\n",
    "# conf_interval = stats.norm.interval(0.95, loc=diff_mean, scale=se_diff)\n",
    "\n",
    "# # 输出结果\n",
    "# print(f\"均值差异：{diff_mean}\")\n",
    "# print(f\"置信区间：{conf_interval}\")\n",
    "\n",
    "# # 判断是否存在显著差异\n",
    "# if conf_interval[0] * conf_interval[1] > 0:\n",
    "#     print(\"在显著性水平为 0.05 下，两组数据的均值存在显著差异\")\n",
    "# else:\n",
    "#     print(\"在显著性水平为 0.05 下，两组数据的均值没有显著差异\")\n",
    "    \n",
    "# conf_interval = stats.norm.interval(0.995, loc=diff_mean, scale=se_diff)\n",
    "# print(f\"置信区间：{conf_interval}\")\n",
    "# # 判断是否存在显著差异\n",
    "# if conf_interval[0] * conf_interval[1] > 0:\n",
    "#     print(\"在显著性水平为 0.005 下，两组数据的均值存在显著差异\")\n",
    "# else:\n",
    "#     print(\"在显著性水平为 0.005 下，两组数据的均值没有显著差异\")"
   ]
  },
  {
   "cell_type": "markdown",
   "id": "739d4683-2fdd-4f50-b78b-a0076e39b590",
   "metadata": {},
   "source": [
    "##### Elite"
   ]
  },
  {
   "cell_type": "code",
   "execution_count": 23,
   "id": "8a997697-de8b-49d3-8e20-6d307a245900",
   "metadata": {
    "tags": []
   },
   "outputs": [
    {
     "name": "stdout",
     "output_type": "stream",
     "text": [
      "14209416.5 7.919188368672843e-126\n"
     ]
    }
   ],
   "source": [
    "data1 = num_type_elite.num_main\n",
    "data2 = num_type_elite.num_asso\n",
    "u_statistic, p_value = stats.mannwhitneyu(data1, data2)\n",
    "print(u_statistic,p_value)"
   ]
  },
  {
   "cell_type": "code",
   "execution_count": 24,
   "id": "25560cea-671d-4955-ae35-38fa3170407c",
   "metadata": {
    "tags": []
   },
   "outputs": [
    {
     "name": "stdout",
     "output_type": "stream",
     "text": [
      "14190500.5 2.2460280016627567e-122\n"
     ]
    }
   ],
   "source": [
    "data1 = num_type_elite.num_main\n",
    "data2 = num_type_elite.num_new\n",
    "u_statistic, p_value = stats.mannwhitneyu(data1, data2)\n",
    "print(u_statistic,p_value)"
   ]
  },
  {
   "cell_type": "code",
   "execution_count": 25,
   "id": "715af63a-fd6b-4d50-86d3-1be59ea94a8a",
   "metadata": {
    "tags": []
   },
   "outputs": [
    {
     "name": "stdout",
     "output_type": "stream",
     "text": [
      "17730190.5 3.169044410483744e-06\n"
     ]
    }
   ],
   "source": [
    "data1 = num_type_elite.num_asso\n",
    "data2 = num_type_elite.num_new\n",
    "u_statistic, p_value = stats.mannwhitneyu(data1, data2)\n",
    "print(u_statistic,p_value)"
   ]
  },
  {
   "cell_type": "code",
   "execution_count": 26,
   "id": "87511ccb-d600-47f2-95b4-d15cbfec71df",
   "metadata": {
    "tags": []
   },
   "outputs": [
    {
     "data": {
      "text/html": [
       "<div>\n",
       "<style scoped>\n",
       "    .dataframe tbody tr th:only-of-type {\n",
       "        vertical-align: middle;\n",
       "    }\n",
       "\n",
       "    .dataframe tbody tr th {\n",
       "        vertical-align: top;\n",
       "    }\n",
       "\n",
       "    .dataframe thead th {\n",
       "        text-align: right;\n",
       "    }\n",
       "</style>\n",
       "<table border=\"1\" class=\"dataframe\">\n",
       "  <thead>\n",
       "    <tr style=\"text-align: right;\">\n",
       "      <th></th>\n",
       "      <th>mentee_id</th>\n",
       "      <th>mentor_id</th>\n",
       "      <th>num_main</th>\n",
       "      <th>num_asso</th>\n",
       "      <th>num_new</th>\n",
       "    </tr>\n",
       "  </thead>\n",
       "  <tbody>\n",
       "    <tr>\n",
       "      <th>0</th>\n",
       "      <td>A1002422011</td>\n",
       "      <td>A1897971127</td>\n",
       "      <td>1</td>\n",
       "      <td>1</td>\n",
       "      <td>0</td>\n",
       "    </tr>\n",
       "    <tr>\n",
       "      <th>1</th>\n",
       "      <td>A1002422011</td>\n",
       "      <td>A1966502692</td>\n",
       "      <td>1</td>\n",
       "      <td>1</td>\n",
       "      <td>0</td>\n",
       "    </tr>\n",
       "    <tr>\n",
       "      <th>2</th>\n",
       "      <td>A100328954</td>\n",
       "      <td>A1993268291</td>\n",
       "      <td>0</td>\n",
       "      <td>1</td>\n",
       "      <td>3</td>\n",
       "    </tr>\n",
       "    <tr>\n",
       "      <th>3</th>\n",
       "      <td>A100328954</td>\n",
       "      <td>A2157074446</td>\n",
       "      <td>1</td>\n",
       "      <td>2</td>\n",
       "      <td>1</td>\n",
       "    </tr>\n",
       "    <tr>\n",
       "      <th>4</th>\n",
       "      <td>A100328954</td>\n",
       "      <td>A2780364925</td>\n",
       "      <td>0</td>\n",
       "      <td>1</td>\n",
       "      <td>3</td>\n",
       "    </tr>\n",
       "  </tbody>\n",
       "</table>\n",
       "</div>"
      ],
      "text/plain": [
       "     mentee_id    mentor_id  num_main  num_asso  num_new\n",
       "0  A1002422011  A1897971127         1         1        0\n",
       "1  A1002422011  A1966502692         1         1        0\n",
       "2   A100328954  A1993268291         0         1        3\n",
       "3   A100328954  A2157074446         1         2        1\n",
       "4   A100328954  A2780364925         0         1        3"
      ]
     },
     "execution_count": 26,
     "metadata": {},
     "output_type": "execute_result"
    }
   ],
   "source": [
    "num_type.head(5)"
   ]
  },
  {
   "cell_type": "code",
   "execution_count": 27,
   "id": "3fa12d85-856b-4702-b3b2-6d1217022d59",
   "metadata": {
    "tags": []
   },
   "outputs": [
    {
     "data": {
      "text/plain": [
       "16484"
      ]
     },
     "execution_count": 27,
     "metadata": {},
     "output_type": "execute_result"
    }
   ],
   "source": [
    "len(num_type)"
   ]
  },
  {
   "cell_type": "code",
   "execution_count": 28,
   "id": "7485ac64-a747-4dfd-9afa-5806dceb383f",
   "metadata": {
    "tags": []
   },
   "outputs": [
    {
     "data": {
      "text/plain": [
       "6101"
      ]
     },
     "execution_count": 28,
     "metadata": {},
     "output_type": "execute_result"
    }
   ],
   "source": [
    "len(num_type_elite)"
   ]
  },
  {
   "cell_type": "code",
   "execution_count": 29,
   "id": "03f55837-a31f-4533-9dd7-5e6a8d241dda",
   "metadata": {
    "tags": []
   },
   "outputs": [
    {
     "data": {
      "text/html": [
       "<div>\n",
       "<style scoped>\n",
       "    .dataframe tbody tr th:only-of-type {\n",
       "        vertical-align: middle;\n",
       "    }\n",
       "\n",
       "    .dataframe tbody tr th {\n",
       "        vertical-align: top;\n",
       "    }\n",
       "\n",
       "    .dataframe thead th {\n",
       "        text-align: right;\n",
       "    }\n",
       "</style>\n",
       "<table border=\"1\" class=\"dataframe\">\n",
       "  <thead>\n",
       "    <tr style=\"text-align: right;\">\n",
       "      <th></th>\n",
       "      <th>mentee_id</th>\n",
       "      <th>mentor_id</th>\n",
       "      <th>num_main</th>\n",
       "      <th>num_asso</th>\n",
       "      <th>num_new</th>\n",
       "    </tr>\n",
       "  </thead>\n",
       "  <tbody>\n",
       "    <tr>\n",
       "      <th>2</th>\n",
       "      <td>A100328954</td>\n",
       "      <td>A1993268291</td>\n",
       "      <td>0</td>\n",
       "      <td>1</td>\n",
       "      <td>3</td>\n",
       "    </tr>\n",
       "    <tr>\n",
       "      <th>3</th>\n",
       "      <td>A100328954</td>\n",
       "      <td>A2157074446</td>\n",
       "      <td>1</td>\n",
       "      <td>2</td>\n",
       "      <td>1</td>\n",
       "    </tr>\n",
       "    <tr>\n",
       "      <th>4</th>\n",
       "      <td>A100328954</td>\n",
       "      <td>A2780364925</td>\n",
       "      <td>0</td>\n",
       "      <td>1</td>\n",
       "      <td>3</td>\n",
       "    </tr>\n",
       "    <tr>\n",
       "      <th>8</th>\n",
       "      <td>A101230078</td>\n",
       "      <td>A2153512563</td>\n",
       "      <td>0</td>\n",
       "      <td>0</td>\n",
       "      <td>2</td>\n",
       "    </tr>\n",
       "    <tr>\n",
       "      <th>9</th>\n",
       "      <td>A101307478</td>\n",
       "      <td>A2100073383</td>\n",
       "      <td>1</td>\n",
       "      <td>3</td>\n",
       "      <td>2</td>\n",
       "    </tr>\n",
       "    <tr>\n",
       "      <th>...</th>\n",
       "      <td>...</td>\n",
       "      <td>...</td>\n",
       "      <td>...</td>\n",
       "      <td>...</td>\n",
       "      <td>...</td>\n",
       "    </tr>\n",
       "    <tr>\n",
       "      <th>16465</th>\n",
       "      <td>A97510631</td>\n",
       "      <td>A718104186</td>\n",
       "      <td>0</td>\n",
       "      <td>1</td>\n",
       "      <td>3</td>\n",
       "    </tr>\n",
       "    <tr>\n",
       "      <th>16466</th>\n",
       "      <td>A9754193</td>\n",
       "      <td>A164744527</td>\n",
       "      <td>1</td>\n",
       "      <td>6</td>\n",
       "      <td>3</td>\n",
       "    </tr>\n",
       "    <tr>\n",
       "      <th>16468</th>\n",
       "      <td>A9784356</td>\n",
       "      <td>A186838187</td>\n",
       "      <td>2</td>\n",
       "      <td>2</td>\n",
       "      <td>0</td>\n",
       "    </tr>\n",
       "    <tr>\n",
       "      <th>16469</th>\n",
       "      <td>A97861387</td>\n",
       "      <td>A2152203782</td>\n",
       "      <td>2</td>\n",
       "      <td>3</td>\n",
       "      <td>1</td>\n",
       "    </tr>\n",
       "    <tr>\n",
       "      <th>16476</th>\n",
       "      <td>A99555182</td>\n",
       "      <td>A2027347969</td>\n",
       "      <td>0</td>\n",
       "      <td>2</td>\n",
       "      <td>2</td>\n",
       "    </tr>\n",
       "  </tbody>\n",
       "</table>\n",
       "<p>6101 rows × 5 columns</p>\n",
       "</div>"
      ],
      "text/plain": [
       "        mentee_id    mentor_id  num_main  num_asso  num_new\n",
       "2      A100328954  A1993268291         0         1        3\n",
       "3      A100328954  A2157074446         1         2        1\n",
       "4      A100328954  A2780364925         0         1        3\n",
       "8      A101230078  A2153512563         0         0        2\n",
       "9      A101307478  A2100073383         1         3        2\n",
       "...           ...          ...       ...       ...      ...\n",
       "16465   A97510631   A718104186         0         1        3\n",
       "16466    A9754193   A164744527         1         6        3\n",
       "16468    A9784356   A186838187         2         2        0\n",
       "16469   A97861387  A2152203782         2         3        1\n",
       "16476   A99555182  A2027347969         0         2        2\n",
       "\n",
       "[6101 rows x 5 columns]"
      ]
     },
     "execution_count": 29,
     "metadata": {},
     "output_type": "execute_result"
    }
   ],
   "source": [
    "num_type[num_type.mentee_id.isin(num_type_elite.mentee_id)]"
   ]
  },
  {
   "cell_type": "markdown",
   "id": "8b195d63-aca7-4a40-a5b7-41d57ed0c5a4",
   "metadata": {},
   "source": [
    "##### catplot"
   ]
  },
  {
   "cell_type": "markdown",
   "id": "3f2292bd-3bf1-44f7-9832-4f2c1ceb84b9",
   "metadata": {
    "tags": []
   },
   "source": [
    "create data"
   ]
  },
  {
   "cell_type": "code",
   "execution_count": 30,
   "id": "cd13800f-6751-41b0-a3e4-1de497c9e4d5",
   "metadata": {
    "scrolled": true,
    "tags": []
   },
   "outputs": [
    {
     "name": "stderr",
     "output_type": "stream",
     "text": [
      "/var/folders/8n/d3_ymw7s7tn0tz9t554ghv5m0000gn/T/ipykernel_50056/31375169.py:2: SettingWithCopyWarning: \n",
      "A value is trying to be set on a copy of a slice from a DataFrame.\n",
      "Try using .loc[row_indexer,col_indexer] = value instead\n",
      "\n",
      "See the caveats in the documentation: https://pandas.pydata.org/pandas-docs/stable/user_guide/indexing.html#returning-a-view-versus-a-copy\n",
      "  data_v_main['type'] = 'primary'\n",
      "/var/folders/8n/d3_ymw7s7tn0tz9t554ghv5m0000gn/T/ipykernel_50056/31375169.py:6: SettingWithCopyWarning: \n",
      "A value is trying to be set on a copy of a slice from a DataFrame.\n",
      "Try using .loc[row_indexer,col_indexer] = value instead\n",
      "\n",
      "See the caveats in the documentation: https://pandas.pydata.org/pandas-docs/stable/user_guide/indexing.html#returning-a-view-versus-a-copy\n",
      "  data_v_asso['type'] = 'secondary'\n",
      "/var/folders/8n/d3_ymw7s7tn0tz9t554ghv5m0000gn/T/ipykernel_50056/31375169.py:10: SettingWithCopyWarning: \n",
      "A value is trying to be set on a copy of a slice from a DataFrame.\n",
      "Try using .loc[row_indexer,col_indexer] = value instead\n",
      "\n",
      "See the caveats in the documentation: https://pandas.pydata.org/pandas-docs/stable/user_guide/indexing.html#returning-a-view-versus-a-copy\n",
      "  data_v_new['type'] = 'new'\n",
      "/var/folders/8n/d3_ymw7s7tn0tz9t554ghv5m0000gn/T/ipykernel_50056/31375169.py:17: SettingWithCopyWarning: \n",
      "A value is trying to be set on a copy of a slice from a DataFrame\n",
      "\n",
      "See the caveats in the documentation: https://pandas.pydata.org/pandas-docs/stable/user_guide/indexing.html#returning-a-view-versus-a-copy\n",
      "  data_v['All_Elite'][data_v.mentee_id.isin(elite_mentee)]='Elite'\n"
     ]
    }
   ],
   "source": [
    "data_v_main = num_type[['mentee_id','num_main']]\n",
    "data_v_main['type'] = 'primary'\n",
    "data_v_main = data_v_main.rename(columns={'num_main':'num'})\n",
    "\n",
    "data_v_asso = num_type[['mentee_id','num_asso']]\n",
    "data_v_asso['type'] = 'secondary'\n",
    "data_v_asso = data_v_asso.rename(columns={'num_asso':'num'})\n",
    "\n",
    "data_v_new = num_type[['mentee_id','num_new']]\n",
    "data_v_new['type'] = 'new'\n",
    "data_v_new = data_v_new.rename(columns={'num_new':'num'})\n",
    "\n",
    "data_v = pd.concat((data_v_main,data_v_asso))\n",
    "data_v = pd.concat((data_v,data_v_new))\n",
    "data_v = data_v.reset_index()\n",
    "data_v['All_Elite'] = 'All'\n",
    "data_v['All_Elite'][data_v.mentee_id.isin(elite_mentee)]='Elite'"
   ]
  },
  {
   "cell_type": "code",
   "execution_count": 34,
   "id": "0ec061c0-5585-4d01-a1eb-df253ae9ef25",
   "metadata": {
    "tags": []
   },
   "outputs": [
    {
     "name": "stderr",
     "output_type": "stream",
     "text": [
      "/Users/yanmemgxing/anaconda3/envs/myenv/lib/python3.11/site-packages/seaborn/axisgrid.py:118: UserWarning: The figure layout has changed to tight\n",
      "  self._figure.tight_layout(*args, **kwargs)\n",
      "/var/folders/8n/d3_ymw7s7tn0tz9t554ghv5m0000gn/T/ipykernel_50056/1319737211.py:27: UserWarning: The figure layout has changed to tight\n",
      "  plt.tight_layout()\n"
     ]
    },
    {
     "data": {
      "image/png": "[encoded data removed]",
      "text/plain": [
       "<Figure size 551.75x600 with 1 Axes>"
      ]
     },
     "metadata": {},
     "output_type": "display_data"
    }
   ],
   "source": [
    "# sns.set_theme(style=\"whitegrid\")\n",
    "# Draw a pointplot to show pulse as a function of three categorical factors\n",
    "#figure layout set\n",
    "# fig, ax = plt.subplots(1,1,constrained_layout=True,figsize=[0.618*5,0.618*5])\n",
    "sns.set(style='ticks',font_scale=1.2, font='Arial')\n",
    "# 自定义颜色列表\n",
    "custom_palette = ['#998ec3','#f1a340']\n",
    "\n",
    "g = sns.catplot(\n",
    "    data=data_v, x=\"type\", y=\"num\", hue=\"All_Elite\", \n",
    "    capsize=.15, palette=custom_palette, errorbar=\"se\",\n",
    "    kind=\"point\", height=6, aspect=.75)\n",
    "\n",
    "# g = sns.catplot(\n",
    "#     data=data_v, x=\"type\", y=\"num\", hue=\"All_Elite\", \n",
    "#     palette=\"YlGnBu_d\", errorbar=\"se\",\n",
    "#     kind=\"box\", height=6, aspect=.75,\n",
    "# )\n",
    "# g.despine(left=True)\n",
    "# plt.ylim([0,2])\n",
    "# ax.yaxis.set_major_locator(MultipleLocator(0.2))\n",
    "# ax.yaxis.set_minor_locator(MultipleLocator(0.2))\n",
    "plt.ylim([0.0,2.0])\n",
    "plt.ylabel('the average number of topics')\n",
    "plt.xlabel('topic type')\n",
    "plt.grid(axis='y',alpha=0.6)\n",
    "plt.tight_layout()\n",
    "# plt.savefig('result_data_plot/new_plot(202403)/topic_num(catplot0530).pdf')"
   ]
  },
  {
   "cell_type": "code",
   "execution_count": null,
   "id": "3511eedb-03bd-4d72-a5b6-992b7adb40dd",
   "metadata": {},
   "outputs": [],
   "source": []
  }
 ],
 "metadata": {
  "kernelspec": {
   "display_name": "myenv",
   "language": "python",
   "name": "myenv"
  },
  "language_info": {
   "codemirror_mode": {
    "name": "ipython",
    "version": 3
   },
   "file_extension": ".py",
   "mimetype": "text/x-python",
   "name": "python",
   "nbconvert_exporter": "python",
   "pygments_lexer": "ipython3",
   "version": "3.11.3"
  }
 },
 "nbformat": 4,
 "nbformat_minor": 5
}
